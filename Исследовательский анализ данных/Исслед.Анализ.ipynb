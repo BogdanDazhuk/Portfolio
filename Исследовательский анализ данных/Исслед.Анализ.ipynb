{
 "cells": [
  {
   "cell_type": "markdown",
   "metadata": {},
   "source": [
    "# Исследование объявлений о продаже квартир\n",
    "\n",
    "В нашем распоряжении данные сервиса Яндекс.Недвижимость — архив объявлений о продаже квартир в Санкт-Петербурге и соседних населённых пунктов за несколько лет. Нужно научиться определять рыночную стоимость объектов недвижимости. Ваша задача — установить параметры. Это позволит построить автоматизированную систему: она отследит аномалии и мошенническую деятельность. \n",
    "\n",
    "По каждой квартире на продажу доступны два вида данных. Первые вписаны пользователем, вторые — получены автоматически на основе картографических данных. Например, расстояние до центра, аэропорта, ближайшего парка и водоёма. "
   ]
  },
  {
   "cell_type": "markdown",
   "metadata": {},
   "source": [
    "### Загрузка библиотек"
   ]
  },
  {
   "cell_type": "code",
   "execution_count": 1,
   "metadata": {},
   "outputs": [],
   "source": [
    "import pandas as pd\n",
    "import matplotlib.pyplot as plt\n",
    "import numpy as np\n",
    "\n"
   ]
  },
  {
   "cell_type": "code",
   "execution_count": 2,
   "metadata": {
    "scrolled": true
   },
   "outputs": [
    {
     "ename": "FileNotFoundError",
     "evalue": "[Errno 2] No such file or directory: '/datasets/real_estate_data.csv'",
     "output_type": "error",
     "traceback": [
      "\u001b[1;31m---------------------------------------------------------------------------\u001b[0m",
      "\u001b[1;31mFileNotFoundError\u001b[0m                         Traceback (most recent call last)",
      "\u001b[1;32m~\\AppData\\Local\\Temp\\ipykernel_8296\\1694771071.py\u001b[0m in \u001b[0;36m<module>\u001b[1;34m\u001b[0m\n\u001b[1;32m----> 1\u001b[1;33m \u001b[0mdf\u001b[0m \u001b[1;33m=\u001b[0m \u001b[0mpd\u001b[0m\u001b[1;33m.\u001b[0m\u001b[0mread_csv\u001b[0m\u001b[1;33m(\u001b[0m\u001b[1;34m'/datasets/real_estate_data.csv'\u001b[0m\u001b[1;33m,\u001b[0m \u001b[0msep\u001b[0m\u001b[1;33m=\u001b[0m\u001b[1;34m'\\t'\u001b[0m\u001b[1;33m)\u001b[0m\u001b[1;33m\u001b[0m\u001b[1;33m\u001b[0m\u001b[0m\n\u001b[0m\u001b[0;32m      2\u001b[0m \u001b[0mpd\u001b[0m\u001b[1;33m.\u001b[0m\u001b[0mset_option\u001b[0m\u001b[1;33m(\u001b[0m\u001b[1;34m'display.max_columns'\u001b[0m\u001b[1;33m,\u001b[0m \u001b[1;32mNone\u001b[0m\u001b[1;33m)\u001b[0m\u001b[1;33m\u001b[0m\u001b[1;33m\u001b[0m\u001b[0m\n\u001b[0;32m      3\u001b[0m \u001b[0mdf\u001b[0m\u001b[1;33m.\u001b[0m\u001b[0mhead\u001b[0m\u001b[1;33m(\u001b[0m\u001b[1;36m10\u001b[0m\u001b[1;33m)\u001b[0m\u001b[1;33m\u001b[0m\u001b[1;33m\u001b[0m\u001b[0m\n",
      "\u001b[1;32mC:\\User\\lib\\site-packages\\pandas\\util\\_decorators.py\u001b[0m in \u001b[0;36mwrapper\u001b[1;34m(*args, **kwargs)\u001b[0m\n\u001b[0;32m    309\u001b[0m                     \u001b[0mstacklevel\u001b[0m\u001b[1;33m=\u001b[0m\u001b[0mstacklevel\u001b[0m\u001b[1;33m,\u001b[0m\u001b[1;33m\u001b[0m\u001b[1;33m\u001b[0m\u001b[0m\n\u001b[0;32m    310\u001b[0m                 )\n\u001b[1;32m--> 311\u001b[1;33m             \u001b[1;32mreturn\u001b[0m \u001b[0mfunc\u001b[0m\u001b[1;33m(\u001b[0m\u001b[1;33m*\u001b[0m\u001b[0margs\u001b[0m\u001b[1;33m,\u001b[0m \u001b[1;33m**\u001b[0m\u001b[0mkwargs\u001b[0m\u001b[1;33m)\u001b[0m\u001b[1;33m\u001b[0m\u001b[1;33m\u001b[0m\u001b[0m\n\u001b[0m\u001b[0;32m    312\u001b[0m \u001b[1;33m\u001b[0m\u001b[0m\n\u001b[0;32m    313\u001b[0m         \u001b[1;32mreturn\u001b[0m \u001b[0mwrapper\u001b[0m\u001b[1;33m\u001b[0m\u001b[1;33m\u001b[0m\u001b[0m\n",
      "\u001b[1;32mC:\\User\\lib\\site-packages\\pandas\\io\\parsers\\readers.py\u001b[0m in \u001b[0;36mread_csv\u001b[1;34m(filepath_or_buffer, sep, delimiter, header, names, index_col, usecols, squeeze, prefix, mangle_dupe_cols, dtype, engine, converters, true_values, false_values, skipinitialspace, skiprows, skipfooter, nrows, na_values, keep_default_na, na_filter, verbose, skip_blank_lines, parse_dates, infer_datetime_format, keep_date_col, date_parser, dayfirst, cache_dates, iterator, chunksize, compression, thousands, decimal, lineterminator, quotechar, quoting, doublequote, escapechar, comment, encoding, encoding_errors, dialect, error_bad_lines, warn_bad_lines, on_bad_lines, delim_whitespace, low_memory, memory_map, float_precision, storage_options)\u001b[0m\n\u001b[0;32m    676\u001b[0m     \u001b[0mkwds\u001b[0m\u001b[1;33m.\u001b[0m\u001b[0mupdate\u001b[0m\u001b[1;33m(\u001b[0m\u001b[0mkwds_defaults\u001b[0m\u001b[1;33m)\u001b[0m\u001b[1;33m\u001b[0m\u001b[1;33m\u001b[0m\u001b[0m\n\u001b[0;32m    677\u001b[0m \u001b[1;33m\u001b[0m\u001b[0m\n\u001b[1;32m--> 678\u001b[1;33m     \u001b[1;32mreturn\u001b[0m \u001b[0m_read\u001b[0m\u001b[1;33m(\u001b[0m\u001b[0mfilepath_or_buffer\u001b[0m\u001b[1;33m,\u001b[0m \u001b[0mkwds\u001b[0m\u001b[1;33m)\u001b[0m\u001b[1;33m\u001b[0m\u001b[1;33m\u001b[0m\u001b[0m\n\u001b[0m\u001b[0;32m    679\u001b[0m \u001b[1;33m\u001b[0m\u001b[0m\n\u001b[0;32m    680\u001b[0m \u001b[1;33m\u001b[0m\u001b[0m\n",
      "\u001b[1;32mC:\\User\\lib\\site-packages\\pandas\\io\\parsers\\readers.py\u001b[0m in \u001b[0;36m_read\u001b[1;34m(filepath_or_buffer, kwds)\u001b[0m\n\u001b[0;32m    573\u001b[0m \u001b[1;33m\u001b[0m\u001b[0m\n\u001b[0;32m    574\u001b[0m     \u001b[1;31m# Create the parser.\u001b[0m\u001b[1;33m\u001b[0m\u001b[1;33m\u001b[0m\u001b[0m\n\u001b[1;32m--> 575\u001b[1;33m     \u001b[0mparser\u001b[0m \u001b[1;33m=\u001b[0m \u001b[0mTextFileReader\u001b[0m\u001b[1;33m(\u001b[0m\u001b[0mfilepath_or_buffer\u001b[0m\u001b[1;33m,\u001b[0m \u001b[1;33m**\u001b[0m\u001b[0mkwds\u001b[0m\u001b[1;33m)\u001b[0m\u001b[1;33m\u001b[0m\u001b[1;33m\u001b[0m\u001b[0m\n\u001b[0m\u001b[0;32m    576\u001b[0m \u001b[1;33m\u001b[0m\u001b[0m\n\u001b[0;32m    577\u001b[0m     \u001b[1;32mif\u001b[0m \u001b[0mchunksize\u001b[0m \u001b[1;32mor\u001b[0m \u001b[0miterator\u001b[0m\u001b[1;33m:\u001b[0m\u001b[1;33m\u001b[0m\u001b[1;33m\u001b[0m\u001b[0m\n",
      "\u001b[1;32mC:\\User\\lib\\site-packages\\pandas\\io\\parsers\\readers.py\u001b[0m in \u001b[0;36m__init__\u001b[1;34m(self, f, engine, **kwds)\u001b[0m\n\u001b[0;32m    930\u001b[0m \u001b[1;33m\u001b[0m\u001b[0m\n\u001b[0;32m    931\u001b[0m         \u001b[0mself\u001b[0m\u001b[1;33m.\u001b[0m\u001b[0mhandles\u001b[0m\u001b[1;33m:\u001b[0m \u001b[0mIOHandles\u001b[0m \u001b[1;33m|\u001b[0m \u001b[1;32mNone\u001b[0m \u001b[1;33m=\u001b[0m \u001b[1;32mNone\u001b[0m\u001b[1;33m\u001b[0m\u001b[1;33m\u001b[0m\u001b[0m\n\u001b[1;32m--> 932\u001b[1;33m         \u001b[0mself\u001b[0m\u001b[1;33m.\u001b[0m\u001b[0m_engine\u001b[0m \u001b[1;33m=\u001b[0m \u001b[0mself\u001b[0m\u001b[1;33m.\u001b[0m\u001b[0m_make_engine\u001b[0m\u001b[1;33m(\u001b[0m\u001b[0mf\u001b[0m\u001b[1;33m,\u001b[0m \u001b[0mself\u001b[0m\u001b[1;33m.\u001b[0m\u001b[0mengine\u001b[0m\u001b[1;33m)\u001b[0m\u001b[1;33m\u001b[0m\u001b[1;33m\u001b[0m\u001b[0m\n\u001b[0m\u001b[0;32m    933\u001b[0m \u001b[1;33m\u001b[0m\u001b[0m\n\u001b[0;32m    934\u001b[0m     \u001b[1;32mdef\u001b[0m \u001b[0mclose\u001b[0m\u001b[1;33m(\u001b[0m\u001b[0mself\u001b[0m\u001b[1;33m)\u001b[0m\u001b[1;33m:\u001b[0m\u001b[1;33m\u001b[0m\u001b[1;33m\u001b[0m\u001b[0m\n",
      "\u001b[1;32mC:\\User\\lib\\site-packages\\pandas\\io\\parsers\\readers.py\u001b[0m in \u001b[0;36m_make_engine\u001b[1;34m(self, f, engine)\u001b[0m\n\u001b[0;32m   1214\u001b[0m             \u001b[1;31m# \"Union[str, PathLike[str], ReadCsvBuffer[bytes], ReadCsvBuffer[str]]\"\u001b[0m\u001b[1;33m\u001b[0m\u001b[1;33m\u001b[0m\u001b[0m\n\u001b[0;32m   1215\u001b[0m             \u001b[1;31m# , \"str\", \"bool\", \"Any\", \"Any\", \"Any\", \"Any\", \"Any\"\u001b[0m\u001b[1;33m\u001b[0m\u001b[1;33m\u001b[0m\u001b[0m\n\u001b[1;32m-> 1216\u001b[1;33m             self.handles = get_handle(  # type: ignore[call-overload]\n\u001b[0m\u001b[0;32m   1217\u001b[0m                 \u001b[0mf\u001b[0m\u001b[1;33m,\u001b[0m\u001b[1;33m\u001b[0m\u001b[1;33m\u001b[0m\u001b[0m\n\u001b[0;32m   1218\u001b[0m                 \u001b[0mmode\u001b[0m\u001b[1;33m,\u001b[0m\u001b[1;33m\u001b[0m\u001b[1;33m\u001b[0m\u001b[0m\n",
      "\u001b[1;32mC:\\User\\lib\\site-packages\\pandas\\io\\common.py\u001b[0m in \u001b[0;36mget_handle\u001b[1;34m(path_or_buf, mode, encoding, compression, memory_map, is_text, errors, storage_options)\u001b[0m\n\u001b[0;32m    784\u001b[0m         \u001b[1;32mif\u001b[0m \u001b[0mioargs\u001b[0m\u001b[1;33m.\u001b[0m\u001b[0mencoding\u001b[0m \u001b[1;32mand\u001b[0m \u001b[1;34m\"b\"\u001b[0m \u001b[1;32mnot\u001b[0m \u001b[1;32min\u001b[0m \u001b[0mioargs\u001b[0m\u001b[1;33m.\u001b[0m\u001b[0mmode\u001b[0m\u001b[1;33m:\u001b[0m\u001b[1;33m\u001b[0m\u001b[1;33m\u001b[0m\u001b[0m\n\u001b[0;32m    785\u001b[0m             \u001b[1;31m# Encoding\u001b[0m\u001b[1;33m\u001b[0m\u001b[1;33m\u001b[0m\u001b[0m\n\u001b[1;32m--> 786\u001b[1;33m             handle = open(\n\u001b[0m\u001b[0;32m    787\u001b[0m                 \u001b[0mhandle\u001b[0m\u001b[1;33m,\u001b[0m\u001b[1;33m\u001b[0m\u001b[1;33m\u001b[0m\u001b[0m\n\u001b[0;32m    788\u001b[0m                 \u001b[0mioargs\u001b[0m\u001b[1;33m.\u001b[0m\u001b[0mmode\u001b[0m\u001b[1;33m,\u001b[0m\u001b[1;33m\u001b[0m\u001b[1;33m\u001b[0m\u001b[0m\n",
      "\u001b[1;31mFileNotFoundError\u001b[0m: [Errno 2] No such file or directory: '/datasets/real_estate_data.csv'"
     ]
    }
   ],
   "source": [
    "df = pd.read_csv('/datasets/real_estate_data.csv', sep='\\t') \n",
    "pd.set_option('display.max_columns', None)\n",
    "df.head(10)"
   ]
  },
  {
   "cell_type": "code",
   "execution_count": null,
   "metadata": {},
   "outputs": [],
   "source": [
    "df.tail(10)"
   ]
  },
  {
   "cell_type": "code",
   "execution_count": null,
   "metadata": {},
   "outputs": [],
   "source": [
    "df.sample(5)"
   ]
  },
  {
   "cell_type": "code",
   "execution_count": null,
   "metadata": {},
   "outputs": [],
   "source": [
    "df.describe()"
   ]
  },
  {
   "cell_type": "code",
   "execution_count": null,
   "metadata": {},
   "outputs": [],
   "source": [
    "df.info()"
   ]
  },
  {
   "cell_type": "code",
   "execution_count": null,
   "metadata": {},
   "outputs": [],
   "source": [
    "df.duplicated().sum()"
   ]
  },
  {
   "cell_type": "markdown",
   "metadata": {},
   "source": [
    "Проблемы с данными, которые необходимо проанализировать:\n",
    "\n",
    "1) отсутствую значения, много значений, очень много значений\n",
    "2) некачественные названия столбцов\n",
    "3) некорректные типы данных\n",
    "4) странная группировка столбцов в таблице\n"
   ]
  },
  {
   "cell_type": "code",
   "execution_count": null,
   "metadata": {},
   "outputs": [],
   "source": [
    "df.hist(figsize=(15, 20))"
   ]
  },
  {
   "cell_type": "markdown",
   "metadata": {},
   "source": [
    "### Предобработка данных"
   ]
  },
  {
   "cell_type": "code",
   "execution_count": null,
   "metadata": {},
   "outputs": [],
   "source": [
    "df.columns.tolist()"
   ]
  },
  {
   "cell_type": "code",
   "execution_count": null,
   "metadata": {},
   "outputs": [],
   "source": [
    "#переименуем столбцы в более понятные и добавим единицы измерения.\n",
    "df.columns = ['total_images',\n",
    " 'last_price',\n",
    " 'total_area_m2',\n",
    " 'first_day_exposition',\n",
    " 'number_of_rooms',\n",
    " 'ceiling_height_m',\n",
    " 'total_floors_in_house',\n",
    " 'living_area_m2',\n",
    " 'floor',\n",
    " 'is_apartment',\n",
    " 'is_studio',\n",
    " 'is_open_plan',\n",
    " 'kitchen_area_m2',\n",
    " 'number_of_balconies',\n",
    " 'town_name',\n",
    " 'nearest_airport_distance_m',\n",
    " 'city_center_distance_m',\n",
    " 'parks_numbers_within_3km',\n",
    " 'nearest_park_distance_m',\n",
    " 'ponds_number_within_3km',\n",
    " 'nearest_pond_distance_m',\n",
    " 'days_exposition']"
   ]
  },
  {
   "cell_type": "code",
   "execution_count": null,
   "metadata": {},
   "outputs": [],
   "source": [
    "# Убедимся, что столбцы переименованы\n",
    "df.columns.tolist()"
   ]
  },
  {
   "cell_type": "code",
   "execution_count": null,
   "metadata": {},
   "outputs": [],
   "source": [
    "#найдем количество пустых значений\n",
    "df.isnull().sum().sort_values()"
   ]
  },
  {
   "cell_type": "markdown",
   "metadata": {},
   "source": [
    "вывод: часть пропусков в знчениях можно объяснить тем, что люди не заполняли данные, которые а) не знали; и б) осталяли пустым строки со значение 0 или не относящися к их объекту (0 балконов или НЕ студия или НЕ апартаменты).\n",
    "Но часть данных объяснить сложно. Пустые значения в столбце города - будут мешать исследованям и показывать такие объявления тоже смысла иметь не будет. Если мы не понимаем о каком населенном пункте идет речь.\n",
    "Пустые значения в колонке days_exposition это либо ошибка при выгрузке данных либо объявление не опубликовано. Данный вопрос необходимо было бы уточнить у коллег, отвечающих за выгрзку данных для исследования.                "
   ]
  },
  {
   "cell_type": "code",
   "execution_count": null,
   "metadata": {},
   "outputs": [],
   "source": [
    "# Поменяем расположение столбцов на более привычного расположения информации: от более важной и необходимой информации к менее.\n",
    "df = df[[\n",
    " 'town_name',  \n",
    " 'total_area_m2',\n",
    " 'living_area_m2',\n",
    " 'kitchen_area_m2',\n",
    " 'ceiling_height_m',\n",
    " 'number_of_rooms',\n",
    " 'number_of_balconies',\n",
    " 'floor',\n",
    " 'total_floors_in_house',\n",
    " 'is_apartment',\n",
    " 'is_studio',\n",
    " 'is_open_plan',  \n",
    " 'total_images',\n",
    " 'last_price',\n",
    " 'first_day_exposition',\n",
    " 'days_exposition',\n",
    " 'city_center_distance_m',\n",
    " 'nearest_airport_distance_m',\n",
    " 'parks_numbers_within_3km',\n",
    " 'nearest_park_distance_m',\n",
    " 'ponds_number_within_3km',\n",
    " 'nearest_pond_distance_m'\n",
    "]]"
   ]
  },
  {
   "cell_type": "code",
   "execution_count": null,
   "metadata": {},
   "outputs": [],
   "source": [
    "df.head()"
   ]
  },
  {
   "cell_type": "code",
   "execution_count": null,
   "metadata": {},
   "outputs": [],
   "source": [
    "#найдем количество уникальных значений населенных пунктов\n",
    "len(df['town_name'].unique())"
   ]
  },
  {
   "cell_type": "code",
   "execution_count": null,
   "metadata": {},
   "outputs": [],
   "source": [
    "# Много много значений, посмотрим что будет, если изменить регистр букв\n",
    "df['town_name'] = df['town_name'].str.lower()\n",
    "len(df['town_name'].unique())"
   ]
  },
  {
   "cell_type": "code",
   "execution_count": null,
   "metadata": {},
   "outputs": [],
   "source": [
    "# этот метод не помог. Попробуем посмотреть данные\n",
    "df['town_name'].unique().tolist()\n"
   ]
  },
  {
   "cell_type": "code",
   "execution_count": null,
   "metadata": {},
   "outputs": [],
   "source": [
    "# Такой список анализировать тяжеловато, но точно проблема с буквой Ё. \n",
    "# также может есть ПГТ, поселок или деревня с одним названием, а может это дубли. без уточнения этой информации с этими дублями ничего сделать не получится\n",
    "# попробуем убрать буквы Ё и проверить данные\n",
    "df['town_name'] = df['town_name'].str.replace('ё', 'е', regex=True)\n",
    "df['town_name'] = df['town_name'].str.replace('поселок городского типа', 'поселок', regex=True)\n",
    "df['town_name'] = df['town_name'].str.replace('городской поселок', 'поселок', regex=True)\n",
    "df['town_name'] = df['town_name'].str.replace('поселок при железнодорожной станции', 'поселок', regex=True)\n",
    "df['town_name'] = df['town_name'].str.replace('поселок станции', 'поселок', regex=True)\n",
    "\n",
    "len(df['town_name'].unique())"
   ]
  },
  {
   "cell_type": "code",
   "execution_count": null,
   "metadata": {
    "scrolled": true
   },
   "outputs": [],
   "source": [
    "#убрали 46 дубля\n",
    "#удалим строки где отсутсвует название города вообще\n",
    "df['town_name'].isna().sum()"
   ]
  },
  {
   "cell_type": "code",
   "execution_count": null,
   "metadata": {},
   "outputs": [],
   "source": [
    "df = df.dropna(subset=['town_name'])\n",
    "df['town_name'].isna().sum()"
   ]
  },
  {
   "cell_type": "code",
   "execution_count": null,
   "metadata": {},
   "outputs": [],
   "source": [
    "# Разберемся с колонками с булевыми значениями студии, апартаментов и открытой планировки\n",
    "df['is_apartment'].unique()"
   ]
  },
  {
   "cell_type": "code",
   "execution_count": null,
   "metadata": {},
   "outputs": [],
   "source": [
    "# Nan заменим на False, так как объекты жилового фонда\n",
    "df['is_apartment'] = df['is_apartment'].fillna(0)\n",
    "# Переведем булев тип к цифровому во всех столбцах подобного типа для единообразия данных\n",
    "df['is_apartment'] = df['is_apartment'].map({True: 1, False: 0})\n",
    "df['is_studio'] = df['is_studio'].map({True: 1, False: 0})\n",
    "df['is_open_plan'] = df['is_open_plan'].map({True: 1, False: 0})"
   ]
  },
  {
   "cell_type": "code",
   "execution_count": null,
   "metadata": {
    "scrolled": true
   },
   "outputs": [],
   "source": [
    "# решим вопрос со пустыми значениями на балконы\n",
    "df['number_of_balconies'].unique()"
   ]
  },
  {
   "cell_type": "code",
   "execution_count": null,
   "metadata": {},
   "outputs": [],
   "source": [
    "df['number_of_balconies'] = df['number_of_balconies'].fillna(0)"
   ]
  },
  {
   "cell_type": "code",
   "execution_count": null,
   "metadata": {},
   "outputs": [],
   "source": [
    "df.head()"
   ]
  },
  {
   "cell_type": "markdown",
   "metadata": {},
   "source": [
    "### Посчитайте и добавьте в таблицу новые столбцы"
   ]
  },
  {
   "cell_type": "code",
   "execution_count": null,
   "metadata": {},
   "outputs": [],
   "source": [
    "# Уберем метры из столбцов с прудами, аэропортами и центрами городам, приведем все к километрам\n",
    "df['city_center_distance_km'] = df['city_center_distance_m'] / 1000\n",
    "df['nearest_airport_distance_km'] = df['nearest_airport_distance_m'] / 1000\n",
    "df['nearest_park_distance_km'] = df['nearest_park_distance_m'] / 1000\n",
    "df['nearest_pond_distance_km'] = df['nearest_pond_distance_m'] / 1000\n",
    "del df['city_center_distance_m']\n",
    "del df['nearest_airport_distance_m']\n",
    "del df['nearest_park_distance_m']\n",
    "del df['nearest_pond_distance_m']\n",
    "df.head()"
   ]
  },
  {
   "cell_type": "code",
   "execution_count": null,
   "metadata": {},
   "outputs": [],
   "source": [
    "# изменим формат данных по дню публикации объявления\n",
    "df['first_day_exposition'] = pd.to_datetime(df['first_day_exposition'], format=\"%Y-%m-%dT%H:%M:%S\")"
   ]
  },
  {
   "cell_type": "code",
   "execution_count": null,
   "metadata": {},
   "outputs": [],
   "source": [
    "# Добавим столбцы c днем, месяцем и годом\n",
    "df['day_of_week_exposition'] = df['first_day_exposition'].dt.day_name()\n",
    "df['month_exposition'] = df['first_day_exposition'].dt.month_name()\n",
    "df['year_exposition'] = df['first_day_exposition'].dt.year"
   ]
  },
  {
   "cell_type": "code",
   "execution_count": null,
   "metadata": {},
   "outputs": [],
   "source": [
    "df = df[[\n",
    " 'town_name',\n",
    " 'total_area_m2',\n",
    " 'living_area_m2',\n",
    " 'kitchen_area_m2',\n",
    " 'ceiling_height_m',\n",
    " 'number_of_rooms',\n",
    " 'number_of_balconies',\n",
    " 'floor',\n",
    " 'total_floors_in_house',\n",
    " 'is_apartment',\n",
    " 'is_studio',\n",
    " 'is_open_plan',\n",
    " 'total_images',\n",
    " 'last_price',\n",
    " 'first_day_exposition',\n",
    " 'day_of_week_exposition',\n",
    " 'month_exposition',\n",
    " 'year_exposition',\n",
    " 'days_exposition',\n",
    " 'city_center_distance_km',\n",
    " 'nearest_airport_distance_km',\n",
    " 'parks_numbers_within_3km',\n",
    " 'nearest_park_distance_km',\n",
    " 'ponds_number_within_3km',\n",
    " 'nearest_pond_distance_km'\n",
    "]]\n",
    "df.head(10)"
   ]
  },
  {
   "cell_type": "code",
   "execution_count": null,
   "metadata": {},
   "outputs": [],
   "source": [
    "# Добавим тип этажа\n",
    "def floor_status(row):\n",
    "    if row['floor'] == 1:\n",
    "        return 'первый'\n",
    "    elif row['floor'] == row['total_floors_in_house']:\n",
    "        return 'последний'\n",
    "    else:\n",
    "        return 'другой'\n",
    "df['floor_status'] = df.apply(floor_status, axis=1)"
   ]
  },
  {
   "cell_type": "code",
   "execution_count": null,
   "metadata": {},
   "outputs": [],
   "source": [
    "# Добавим цену за квадратный метр\n",
    "df['price_per_meter'] = df['last_price'] / df['total_area_m2']\n",
    "df['price_per_meter'] = df['price_per_meter'].round(decimals=2)\n",
    "df.head()"
   ]
  },
  {
   "cell_type": "code",
   "execution_count": null,
   "metadata": {},
   "outputs": [],
   "source": [
    "#добавим данные по площади комнат\n",
    "df['total_living_area_ratio'] = df['living_area_m2'] / df['total_area_m2']\n",
    "df['total_kitchen_area_ratio'] = df['kitchen_area_m2'] / df['total_area_m2']\n",
    "df[['total_living_area_ratio', 'total_kitchen_area_ratio']].isnull().sum()"
   ]
  },
  {
   "cell_type": "code",
   "execution_count": null,
   "metadata": {},
   "outputs": [],
   "source": [
    "df.describe()"
   ]
  },
  {
   "cell_type": "code",
   "execution_count": null,
   "metadata": {},
   "outputs": [],
   "source": [
    "#проверим выбросы и аномальные значения\n",
    "\n",
    "df.head()"
   ]
  },
  {
   "cell_type": "markdown",
   "metadata": {},
   "source": [
    "Необычные параметры есть, довольно странными выглядят:\n",
    "\n",
    "- максимальная площадь в 900 метров в квадрате\n",
    "- высота потолка в 1 метр или 100 м\n",
    "- дом в 60 этажей\n",
    "- 19 комнат в квартире\n",
    "также необходимо избавиться от выбросов по колонкам, критичным для исследования:\n",
    "-общая площадь, цена за кв.м, срок публикации, цена реализации"
   ]
  },
  {
   "cell_type": "code",
   "execution_count": null,
   "metadata": {},
   "outputs": [],
   "source": [
    "#исправим странные значения по высоте потолков\n",
    "df['ceiling_height_m'].where(df['ceiling_height_m'] < 20, df['ceiling_height_m']/10)\n",
    "df['ceiling_height_m'].hist(bins=40, range = (0,10))"
   ]
  },
  {
   "cell_type": "code",
   "execution_count": null,
   "metadata": {},
   "outputs": [],
   "source": [
    "df.describe()"
   ]
  },
  {
   "cell_type": "code",
   "execution_count": null,
   "metadata": {},
   "outputs": [],
   "source": [
    "df['ceiling_height_m'].median()"
   ]
  },
  {
   "cell_type": "code",
   "execution_count": null,
   "metadata": {},
   "outputs": [],
   "source": [
    "df['ceiling_height_m'] = df['ceiling_height_m'].fillna(value= 2.65) "
   ]
  },
  {
   "cell_type": "code",
   "execution_count": null,
   "metadata": {},
   "outputs": [],
   "source": [
    "#напишем функцию для удалению экстримальных значений\n",
    "def delete_outliers(df, column):\n",
    "    q1 = df[column].quantile(0.05)                 \n",
    "    q3 = df[column].quantile(0.95)\n",
    "    iqr = q3 - q1\n",
    "    filtered = (df[column] >= (q1 - 1.5*iqr)) & (df[column] <= (q3 + 1.5*iqr))\n",
    "    return df.loc[filtered]"
   ]
  },
  {
   "cell_type": "code",
   "execution_count": null,
   "metadata": {},
   "outputs": [],
   "source": [
    "def filtered_outliers(df, column):\n",
    "    q1 = df[column].quantile(0.05)                 \n",
    "    q3 = df[column].quantile(0.95)\n",
    "    iqr = q3 - q1\n",
    "    filtered = (df[column] >= (q1 - 1.5*iqr)) & (df[column] <= (q3 + 1.5*iqr))\n",
    "    return filtered"
   ]
  },
  {
   "cell_type": "code",
   "execution_count": null,
   "metadata": {},
   "outputs": [],
   "source": [
    "print(filtered_outliers(df,'total_area_m2'))"
   ]
  },
  {
   "cell_type": "code",
   "execution_count": null,
   "metadata": {},
   "outputs": [],
   "source": [
    "\n",
    "#сравним показатели по общей площади\n",
    "df.boxplot(['total_area_m2'], figsize=(10,10)).set_ylim(0,175)"
   ]
  },
  {
   "cell_type": "code",
   "execution_count": null,
   "metadata": {},
   "outputs": [],
   "source": [
    "df.head(5)"
   ]
  },
  {
   "cell_type": "code",
   "execution_count": null,
   "metadata": {},
   "outputs": [],
   "source": [
    "delete_outliers(df,'total_area_m2').boxplot(['total_area_m2'], figsize=(10,10)).set_ylim(0,175)"
   ]
  },
  {
   "cell_type": "code",
   "execution_count": null,
   "metadata": {},
   "outputs": [],
   "source": [
    "df.loc[filtered_outliers(df,'total_area_m2')].shape[0]/df.shape[0]"
   ]
  },
  {
   "cell_type": "code",
   "execution_count": null,
   "metadata": {
    "scrolled": true
   },
   "outputs": [],
   "source": [
    "#выбрасов стало меньше. заменяем занчение в данных на отредактированные\n",
    "#не работает((\n",
    "df = df.loc[filtered_outliers(df,'total_area_m2')]"
   ]
  },
  {
   "cell_type": "code",
   "execution_count": null,
   "metadata": {},
   "outputs": [],
   "source": [
    "df.boxplot(['last_price'], figsize=(10,10)).set_ylim(0,60000000)"
   ]
  },
  {
   "cell_type": "code",
   "execution_count": null,
   "metadata": {},
   "outputs": [],
   "source": [
    "delete_outliers(df,'last_price').boxplot(['last_price'], figsize=(10,10)).set_ylim(0,60000000)"
   ]
  },
  {
   "cell_type": "code",
   "execution_count": null,
   "metadata": {},
   "outputs": [],
   "source": [
    "df.loc[filtered_outliers(df,'last_price')].shape[0]/df.shape[0]"
   ]
  },
  {
   "cell_type": "code",
   "execution_count": null,
   "metadata": {
    "scrolled": true
   },
   "outputs": [],
   "source": [
    "df = df.loc[filtered_outliers(df,'last_price')]\n",
    "\n",
    "#проверим отклонения по сроку публикации\n",
    "df.boxplot(['days_exposition'], figsize=(10,10)).set_ylim(0,600)\n"
   ]
  },
  {
   "cell_type": "code",
   "execution_count": null,
   "metadata": {},
   "outputs": [],
   "source": [
    "delete_outliers(df,'days_exposition').boxplot(['days_exposition'], figsize=(10,10)).set_ylim(0,600)"
   ]
  },
  {
   "cell_type": "code",
   "execution_count": null,
   "metadata": {},
   "outputs": [],
   "source": [
    "df.loc[filtered_outliers(df,'days_exposition')].shape[0]/df.shape[0]"
   ]
  },
  {
   "cell_type": "code",
   "execution_count": null,
   "metadata": {},
   "outputs": [],
   "source": [
    "df= df.loc[filtered_outliers(df,'days_exposition')]"
   ]
  },
  {
   "cell_type": "code",
   "execution_count": null,
   "metadata": {},
   "outputs": [],
   "source": [
    "df.boxplot(['ceiling_height_m'], figsize=(10,10)).set_ylim(0,6)"
   ]
  },
  {
   "cell_type": "code",
   "execution_count": null,
   "metadata": {},
   "outputs": [],
   "source": [
    "df.loc[df['ceiling_height_m'] < 10 ].boxplot(['ceiling_height_m'], figsize=(10,10)).set_ylim(0,6)"
   ]
  },
  {
   "cell_type": "code",
   "execution_count": null,
   "metadata": {
    "scrolled": false
   },
   "outputs": [],
   "source": [
    "df.loc[filtered_outliers(df,'ceiling_height_m')].shape[0]/df.shape[0]"
   ]
  },
  {
   "cell_type": "code",
   "execution_count": null,
   "metadata": {},
   "outputs": [],
   "source": [
    "df= df.loc[filtered_outliers(df,'ceiling_height_m')]"
   ]
  },
  {
   "cell_type": "code",
   "execution_count": null,
   "metadata": {},
   "outputs": [],
   "source": [
    "df.boxplot(['number_of_rooms'], figsize=(10,10)).set_ylim(0,15)"
   ]
  },
  {
   "cell_type": "code",
   "execution_count": null,
   "metadata": {},
   "outputs": [],
   "source": [
    "delete_outliers(df,'number_of_rooms').boxplot(['number_of_rooms'], figsize=(10,10)).set_ylim(0,15)"
   ]
  },
  {
   "cell_type": "code",
   "execution_count": null,
   "metadata": {},
   "outputs": [],
   "source": [
    "df.loc[filtered_outliers(df,'number_of_rooms')].shape[0]/df.shape[0]"
   ]
  },
  {
   "cell_type": "code",
   "execution_count": null,
   "metadata": {},
   "outputs": [],
   "source": [
    "df= df.loc[filtered_outliers(df,'number_of_rooms')]"
   ]
  },
  {
   "cell_type": "markdown",
   "metadata": {},
   "source": [
    "###  Проведение исследовательского анализа данных:"
   ]
  },
  {
   "cell_type": "code",
   "execution_count": null,
   "metadata": {},
   "outputs": [],
   "source": [
    "df.describe()"
   ]
  },
  {
   "cell_type": "code",
   "execution_count": null,
   "metadata": {},
   "outputs": [],
   "source": [
    "#построим гистограммы для всех параментором из задания\n",
    "df['total_area_m2'].hist(bins=200, range = (0, 350))"
   ]
  },
  {
   "cell_type": "markdown",
   "metadata": {},
   "source": [
    "Вывод: средняя площадь квартиры 40-50 кв, также среди популярных 6 60-65 кв.м)."
   ]
  },
  {
   "cell_type": "code",
   "execution_count": null,
   "metadata": {},
   "outputs": [],
   "source": [
    "df['living_area_m2'].hist(bins=200, range = (0, 150))"
   ]
  },
  {
   "cell_type": "code",
   "execution_count": null,
   "metadata": {},
   "outputs": [],
   "source": [
    "df['last_price'].unique()"
   ]
  },
  {
   "cell_type": "code",
   "execution_count": null,
   "metadata": {},
   "outputs": [],
   "source": [
    "(df['last_price']/1000000).hist(bins=100, range = (0, 15))"
   ]
  },
  {
   "cell_type": "markdown",
   "metadata": {},
   "source": [
    "большинство квартир продается в диапазоне от 2.5 до 5 млн рублей"
   ]
  },
  {
   "cell_type": "code",
   "execution_count": null,
   "metadata": {},
   "outputs": [],
   "source": [
    "df['kitchen_area_m2'].hist(bins=50)"
   ]
  },
  {
   "cell_type": "markdown",
   "metadata": {},
   "source": [
    "Площадь кухни в большинстве квартир стандартная: около 8-10 кв.м. "
   ]
  },
  {
   "cell_type": "code",
   "execution_count": null,
   "metadata": {},
   "outputs": [],
   "source": [
    "df['number_of_rooms'].hist(bins=100, range = (0,10))"
   ]
  },
  {
   "cell_type": "markdown",
   "metadata": {},
   "source": [
    "Самые \"ходовые\" квартиры однокомнатные и двухкомнатные. Другие варианты значительно менее популярные."
   ]
  },
  {
   "cell_type": "code",
   "execution_count": null,
   "metadata": {},
   "outputs": [],
   "source": [
    "df['ceiling_height_m'].hist(bins=30, range = (0,5))"
   ]
  },
  {
   "cell_type": "markdown",
   "metadata": {},
   "source": [
    "Потолки в большинстве квартир соответвуют стандарту 2.5-2.7 м"
   ]
  },
  {
   "cell_type": "code",
   "execution_count": null,
   "metadata": {},
   "outputs": [],
   "source": [
    "df['floor'].hist(bins=100)"
   ]
  },
  {
   "cell_type": "markdown",
   "metadata": {},
   "source": [
    "Квартир в пятиэтажках намного больше чем в более высотных домах."
   ]
  },
  {
   "cell_type": "code",
   "execution_count": null,
   "metadata": {},
   "outputs": [],
   "source": [
    "df['floor_status'].hist(bins=10)"
   ]
  },
  {
   "cell_type": "code",
   "execution_count": null,
   "metadata": {},
   "outputs": [],
   "source": [
    "df['total_floors_in_house'].hist(bins=50)"
   ]
  },
  {
   "cell_type": "code",
   "execution_count": null,
   "metadata": {},
   "outputs": [],
   "source": [
    "df['city_center_distance_km'].hist(bins=50)"
   ]
  },
  {
   "cell_type": "markdown",
   "metadata": {},
   "source": [
    "Большинство продаваемых квартир расположены в радиусе 5-10 км от центра города"
   ]
  },
  {
   "cell_type": "code",
   "execution_count": null,
   "metadata": {},
   "outputs": [],
   "source": [
    "df['nearest_airport_distance_km'].hist(bins=50)"
   ]
  },
  {
   "cell_type": "code",
   "execution_count": null,
   "metadata": {},
   "outputs": [],
   "source": [
    "df['nearest_park_distance_km'].hist(bins=50)"
   ]
  },
  {
   "cell_type": "markdown",
   "metadata": {},
   "source": [
    "рядом с большинством домов, в радиусе 500 м есть парк"
   ]
  },
  {
   "cell_type": "code",
   "execution_count": null,
   "metadata": {},
   "outputs": [],
   "source": [
    "#расчитаем влияние даты публикации на итоговую цену\n",
    "df['days_exposition'].hist(bins=70,range =(0,400) )"
   ]
  },
  {
   "cell_type": "markdown",
   "metadata": {},
   "source": [
    "большая часть объявлений закрывается за 60 дней, чаще всего за 7 нелеь"
   ]
  },
  {
   "cell_type": "code",
   "execution_count": null,
   "metadata": {},
   "outputs": [],
   "source": [
    "df['month_exposition'].hist(bins=30,figsize=(15,4), orientation ='vertical',  )"
   ]
  },
  {
   "cell_type": "markdown",
   "metadata": {},
   "source": [
    "Большинство объялений публиковались в феврале марте, а также в осенние месяцы"
   ]
  },
  {
   "cell_type": "code",
   "execution_count": null,
   "metadata": {},
   "outputs": [],
   "source": [
    "print(df['days_exposition'].mean())\n",
    "print(df['days_exposition'].median())"
   ]
  },
  {
   "cell_type": "code",
   "execution_count": null,
   "metadata": {},
   "outputs": [],
   "source": [
    "df.boxplot(['days_exposition'], figsize=(10,10)).set_ylim(0,600)"
   ]
  },
  {
   "cell_type": "markdown",
   "metadata": {},
   "source": [
    "\n",
    "Вывод: Среднее время нахождения объявления о продаже объекта находится на сайте 190 дней. Половина объектов продается быстрее чем за 100 дней. Продажа быстрее чем за 50 дней можно считать быстрой, а вот продажу от полугода можно уже считать долгой."
   ]
  },
  {
   "cell_type": "code",
   "execution_count": null,
   "metadata": {},
   "outputs": [],
   "source": [
    "#Какие факторы больше всего влияют на общую (полную) стоимость объекта?\n",
    "corr = round(df[['last_price','total_area_m2','living_area_m2','kitchen_area_m2','number_of_rooms','floor_status' ]].corr(),2)\n",
    "corr.style.background_gradient(cmap='coolwarm')"
   ]
  },
  {
   "cell_type": "markdown",
   "metadata": {},
   "source": [
    "Вывод: Наибольшее влияние на итоговую стоимость квартиры влияет общая площадь квартиры (0,69) и чуть меньшее влияние имеет жилая площадь. площадь кухни и общее число комнат также имеет влияние на стоимость, но связь слабая."
   ]
  },
  {
   "cell_type": "code",
   "execution_count": null,
   "metadata": {},
   "outputs": [],
   "source": [
    "df.pivot_table(index = 'floor_status', values = 'last_price', aggfunc='mean' ).round()"
   ]
  },
  {
   "cell_type": "markdown",
   "metadata": {},
   "source": [
    "Вывод:Квартиры на первом этаже продаются дешевле всего. Они в среднем почти на миллион дешевле чем квартиры на других этажах."
   ]
  },
  {
   "cell_type": "code",
   "execution_count": null,
   "metadata": {},
   "outputs": [],
   "source": [
    "df.boxplot('price_per_meter', by='day_of_week_exposition',figsize=(10,10)).set_ylim(0,230000)"
   ]
  },
  {
   "cell_type": "code",
   "execution_count": null,
   "metadata": {},
   "outputs": [],
   "source": [
    "df_1 =df.pivot_table( index= ['total_area_m2','living_area_m2','kitchen_area_m2','number_of_rooms'], values = 'last_price', aggfunc='mean')"
   ]
  },
  {
   "cell_type": "code",
   "execution_count": null,
   "metadata": {},
   "outputs": [],
   "source": [
    "pd.plotting.scatter_matrix(df_1, figsize=(9, 9)) "
   ]
  },
  {
   "cell_type": "code",
   "execution_count": null,
   "metadata": {},
   "outputs": [],
   "source": [
    "df.boxplot('price_per_meter', by='month_exposition',figsize=(10,10)).set_ylim(0,200000)"
   ]
  },
  {
   "cell_type": "code",
   "execution_count": null,
   "metadata": {},
   "outputs": [],
   "source": [
    "df.boxplot('price_per_meter', by='year_exposition',figsize=(10,10)).set_ylim(0,200000)"
   ]
  },
  {
   "cell_type": "markdown",
   "metadata": {},
   "source": [
    "Вывод: Месяц или день недели публикации практически не влияют на стоимость проданного объекта. Данные по годам продажи совпадают с ожидаемыми при учете общей экономической обстановки в стране."
   ]
  },
  {
   "cell_type": "code",
   "execution_count": null,
   "metadata": {},
   "outputs": [],
   "source": [
    "#Посчитать  среднюю цену одного квадратного метра в 10 населённых пунктах с наибольшим числом объявлений.\n",
    "(df['town_name'].value_counts()/ df.shape[0] * 100).head(10)\n"
   ]
  },
  {
   "cell_type": "code",
   "execution_count": null,
   "metadata": {},
   "outputs": [],
   "source": [
    "# распределение между Петербургом и остальными населенными пунктами очень неравномерное. но придется работать именно с такими данными\n",
    "#посчитаем топ 10 по средней цене за кв.метр\n",
    "df.groupby('town_name').agg({'price_per_meter':'mean'}).sort_values(by='price_per_meter', ascending=False).head(20)\n"
   ]
  },
  {
   "cell_type": "code",
   "execution_count": null,
   "metadata": {},
   "outputs": [],
   "source": [
    "def town_status(row):\n",
    "    if row['town_name'] == 'санкт-петербург':\n",
    "        return 'Петербург'\n",
    "    else:\n",
    "        return 'Окрестности Петербурга'\n",
    "df['town_status'] = df.apply(town_status, axis=1)\n",
    "# найдем среднюю и медианную цену за кв метр в Петербурге и городах спутниках\n",
    "df.groupby('town_status').agg({'price_per_meter':'mean'}).sort_values(by='price_per_meter')\n"
   ]
  },
  {
   "cell_type": "code",
   "execution_count": null,
   "metadata": {},
   "outputs": [],
   "source": [
    "df.groupby('town_status').agg({'price_per_meter':'median'}).sort_values(by='price_per_meter')\n"
   ]
  },
  {
   "cell_type": "code",
   "execution_count": null,
   "metadata": {},
   "outputs": [],
   "source": [
    "dftop_10 = df.groupby('town_name').agg({'town_status':'count','price_per_meter':'mean'})\n",
    "dftop_10.sort_values('price_per_meter', ascending=False).head(10)\n"
   ]
  },
  {
   "cell_type": "code",
   "execution_count": null,
   "metadata": {},
   "outputs": [],
   "source": [
    "dftop_10 = dftop_10.sort_values('town_status', ascending=False).head(10)\n",
    "dftop_10.sort_values('price_per_meter', ascending=True).drop('town_status', axis=1).plot(kind='barh')"
   ]
  },
  {
   "cell_type": "markdown",
   "metadata": {},
   "source": [
    "Вывод: Самые дорогие квартиры в Санкт-Петербурге и Пушкине. Самые дешевые в Выборге."
   ]
  },
  {
   "cell_type": "code",
   "execution_count": null,
   "metadata": {},
   "outputs": [],
   "source": [
    "SPB_df = df.query('town_name == \"санкт-петербург\"')\n",
    "SPB_df.head(5)"
   ]
  },
  {
   "cell_type": "code",
   "execution_count": null,
   "metadata": {},
   "outputs": [],
   "source": [
    "SPB_df.info()"
   ]
  },
  {
   "cell_type": "code",
   "execution_count": null,
   "metadata": {},
   "outputs": [],
   "source": [
    "SPB_df = SPB_df.dropna(subset=['city_center_distance_km'])"
   ]
  },
  {
   "cell_type": "code",
   "execution_count": null,
   "metadata": {},
   "outputs": [],
   "source": [
    "SPB_df['city_center_distance_km'].unique().round(0).astype(int)"
   ]
  },
  {
   "cell_type": "code",
   "execution_count": null,
   "metadata": {},
   "outputs": [],
   "source": [
    "SPB_df['city_center_distance_km'] = SPB_df['city_center_distance_km'].round(0).astype(int) "
   ]
  },
  {
   "cell_type": "code",
   "execution_count": null,
   "metadata": {},
   "outputs": [],
   "source": [
    "SPB_df['city_center_distance_km'].sort_values().unique()"
   ]
  },
  {
   "cell_type": "code",
   "execution_count": null,
   "metadata": {},
   "outputs": [],
   "source": [
    "SPB_df.pivot_table( index = 'city_center_distance_km', values ='last_price', aggfunc= ['mean','median','count']).style.format('{:.1f}', na_rep='-')\n"
   ]
  },
  {
   "cell_type": "markdown",
   "metadata": {},
   "source": [
    "Вывод: квартиры в самом центре (0-2 км) в цене не отличаются, потом 3км средняя цена квартиры снижается примерно на 500 т.рублей. В Петербурге рассмотояние до центра сильно влияет на продажную стоимость жилья."
   ]
  },
  {
   "cell_type": "markdown",
   "metadata": {},
   "source": [
    "### Общий вывод"
   ]
  },
  {
   "cell_type": "markdown",
   "metadata": {},
   "source": [
    "Для исследования нам были даны данные сервиса Яндекс Недвижимость — архив объявлений за несколько лет о продаже квартир в Санкт-Петербурге и соседних населённых пунктах.\n",
    "Наша задача — выполнить предобработку данных и изучить их, чтобы найти интересные особенности и зависимости, которые существуют на рынке недвижимости.\n",
    "\n",
    "В ходе исследования были следущие выводы относительно рынка недвижимости:\n",
    "    Средняя площадь квартиры 40-50 кв, также среди популярных площадей 60-65 кв.м.\n",
    "    Площадь кухни в большинстве квартир стандартная: около 8-10 кв.м.\n",
    "    Самые \"ходовые\" квартиры однокомнатные и двухкомнатные. Другие варианты значительно менее популярные.\n",
    "    Потолки в большинстве квартир соответвуют стандарту 2.5-2.7 м\n",
    "    Квартир в пятиэтажках намного больше чем в более высотных домах.\n",
    "    Большинство продаваемых квартир расположены в радиусе 5-10 км от центра города, а рядом в радиусе 500 м есть парк\n",
    "    Квартиры на первом этаже продаются дешевле всего. Они в среднем почти на миллион дешевле чем квартиры на других этажах.\n",
    "    Среднее время нахождения объявления о продаже объекта находится на сайте 190 дней. Половина объектов продается быстрее чем за 100 дней. Продажа быстрее чем за 50 дней можно считать быстрой, а вот продажу от полугода можно уже считать долгой.\n",
    "    Наибольшее влияние на итоговую стоимость квартиры влияет общая площадь квартиры (0,69) и чуть меньшее влияние имеет жилая площадь. площадь кухни и общее число комнат также имеет влияние на стоимость, но связь слабая.\n",
    "    Месяц или день недели публикации практически не влияют на стоимость проданного объекта. Данные по годам продажи совпадают с ожидаемыми при учете общей экономической обстановки в стране.\n",
    "    Самые дорогие квартиры в Санкт-Петербурге и Пушкине. Самые дешевые в Выборге.\n",
    "    Квартиры в самом центре (0-2 км) в цене не отличаются, потом 3км средняя цена квартиры снижается примерно на 500 тыс.рублей. В Петербурге расстояние до центра сильно влияет на продажную стоимость жилья.\n"
   ]
  }
 ],
 "metadata": {
  "ExecuteTimeLog": [
   {
    "duration": 1102,
    "start_time": "2022-09-18T07:58:46.371Z"
   },
   {
    "duration": 38,
    "start_time": "2022-09-18T07:59:38.829Z"
   },
   {
    "duration": 31,
    "start_time": "2022-09-18T08:00:09.376Z"
   },
   {
    "duration": 79,
    "start_time": "2022-09-18T08:00:24.655Z"
   },
   {
    "duration": 15,
    "start_time": "2022-09-18T08:06:58.799Z"
   },
   {
    "duration": 28,
    "start_time": "2022-09-18T08:13:05.060Z"
   },
   {
    "duration": 77,
    "start_time": "2022-09-18T08:13:07.763Z"
   },
   {
    "duration": 13,
    "start_time": "2022-09-18T08:13:08.708Z"
   },
   {
    "duration": 24,
    "start_time": "2022-09-18T08:13:09.516Z"
   },
   {
    "duration": 4,
    "start_time": "2022-09-18T08:23:15.703Z"
   },
   {
    "duration": 4,
    "start_time": "2022-09-18T08:28:14.925Z"
   },
   {
    "duration": 3,
    "start_time": "2022-09-18T08:28:31.451Z"
   },
   {
    "duration": 9,
    "start_time": "2022-09-18T08:29:21.968Z"
   },
   {
    "duration": 78,
    "start_time": "2022-09-18T08:43:18.410Z"
   },
   {
    "duration": 6,
    "start_time": "2022-09-18T08:44:00.663Z"
   },
   {
    "duration": 7,
    "start_time": "2022-09-18T08:44:09.569Z"
   },
   {
    "duration": 27,
    "start_time": "2022-09-18T08:44:19.317Z"
   },
   {
    "duration": 5,
    "start_time": "2022-09-18T08:46:50.217Z"
   },
   {
    "duration": 22,
    "start_time": "2022-09-18T08:47:26.593Z"
   },
   {
    "duration": 12,
    "start_time": "2022-09-18T08:48:26.575Z"
   },
   {
    "duration": 16,
    "start_time": "2022-09-18T08:51:49.696Z"
   },
   {
    "duration": 6,
    "start_time": "2022-09-18T08:53:34.252Z"
   },
   {
    "duration": 13,
    "start_time": "2022-09-18T08:53:53.013Z"
   },
   {
    "duration": 6,
    "start_time": "2022-09-18T08:55:08.775Z"
   },
   {
    "duration": 15,
    "start_time": "2022-09-18T08:55:45.636Z"
   },
   {
    "duration": 5,
    "start_time": "2022-09-18T08:58:20.935Z"
   },
   {
    "duration": 38,
    "start_time": "2022-09-18T09:02:47.820Z"
   },
   {
    "duration": 8,
    "start_time": "2022-09-18T09:05:55.444Z"
   },
   {
    "duration": 23,
    "start_time": "2022-09-18T09:05:56.136Z"
   },
   {
    "duration": 16,
    "start_time": "2022-09-18T09:05:56.972Z"
   },
   {
    "duration": 35,
    "start_time": "2022-09-18T09:06:23.412Z"
   },
   {
    "duration": 4,
    "start_time": "2022-09-18T09:06:42.380Z"
   },
   {
    "duration": 4,
    "start_time": "2022-09-18T09:06:42.938Z"
   },
   {
    "duration": 1262,
    "start_time": "2022-09-18T09:06:43.781Z"
   },
   {
    "duration": 0,
    "start_time": "2022-09-18T09:06:45.045Z"
   },
   {
    "duration": 22,
    "start_time": "2022-09-18T09:06:45.472Z"
   },
   {
    "duration": 13,
    "start_time": "2022-09-18T09:08:03.424Z"
   },
   {
    "duration": 24,
    "start_time": "2022-09-18T09:08:12.639Z"
   },
   {
    "duration": 35,
    "start_time": "2022-09-18T09:08:14.426Z"
   },
   {
    "duration": 16,
    "start_time": "2022-09-18T09:09:44.335Z"
   },
   {
    "duration": 12,
    "start_time": "2022-09-18T09:12:23.127Z"
   },
   {
    "duration": 15,
    "start_time": "2022-09-18T09:12:34.745Z"
   },
   {
    "duration": 349,
    "start_time": "2022-09-18T09:13:43.015Z"
   },
   {
    "duration": 6,
    "start_time": "2022-09-18T09:14:13.166Z"
   },
   {
    "duration": 26,
    "start_time": "2022-09-18T09:14:19.820Z"
   },
   {
    "duration": 17,
    "start_time": "2022-09-18T09:16:21.820Z"
   },
   {
    "duration": 68,
    "start_time": "2022-09-18T09:26:02.450Z"
   },
   {
    "duration": 96,
    "start_time": "2022-09-18T10:34:12.376Z"
   },
   {
    "duration": 23,
    "start_time": "2022-09-18T10:46:52.165Z"
   },
   {
    "duration": 29,
    "start_time": "2022-09-18T10:49:42.600Z"
   },
   {
    "duration": 24,
    "start_time": "2022-09-18T10:50:18.048Z"
   },
   {
    "duration": 36,
    "start_time": "2022-09-18T10:50:20.557Z"
   },
   {
    "duration": 49,
    "start_time": "2022-09-18T10:50:40.663Z"
   },
   {
    "duration": 44,
    "start_time": "2022-09-18T10:50:57.081Z"
   },
   {
    "duration": 8,
    "start_time": "2022-09-18T10:51:54.747Z"
   },
   {
    "duration": 8,
    "start_time": "2022-09-18T10:52:16.455Z"
   },
   {
    "duration": 9,
    "start_time": "2022-09-18T10:52:40.846Z"
   },
   {
    "duration": 9,
    "start_time": "2022-09-18T10:52:44.515Z"
   },
   {
    "duration": 6,
    "start_time": "2022-09-18T10:53:00.916Z"
   },
   {
    "duration": 6,
    "start_time": "2022-09-18T10:53:24.669Z"
   },
   {
    "duration": 21,
    "start_time": "2022-09-18T10:53:33.817Z"
   },
   {
    "duration": 5,
    "start_time": "2022-09-18T10:53:59.472Z"
   },
   {
    "duration": 49,
    "start_time": "2022-09-18T10:56:36.551Z"
   },
   {
    "duration": 40,
    "start_time": "2022-09-18T10:56:51.773Z"
   },
   {
    "duration": 5,
    "start_time": "2022-09-18T10:57:10.800Z"
   },
   {
    "duration": 1029,
    "start_time": "2022-09-18T12:22:02.161Z"
   },
   {
    "duration": 26,
    "start_time": "2022-09-18T12:22:03.192Z"
   },
   {
    "duration": 28,
    "start_time": "2022-09-18T12:22:03.220Z"
   },
   {
    "duration": 82,
    "start_time": "2022-09-18T12:22:03.251Z"
   },
   {
    "duration": 13,
    "start_time": "2022-09-18T12:22:03.335Z"
   },
   {
    "duration": 20,
    "start_time": "2022-09-18T12:22:03.349Z"
   },
   {
    "duration": 4,
    "start_time": "2022-09-18T12:22:03.806Z"
   },
   {
    "duration": 4,
    "start_time": "2022-09-18T12:22:04.050Z"
   },
   {
    "duration": 3,
    "start_time": "2022-09-18T12:22:04.306Z"
   },
   {
    "duration": 8,
    "start_time": "2022-09-18T12:22:04.796Z"
   },
   {
    "duration": 6,
    "start_time": "2022-09-18T12:22:05.657Z"
   },
   {
    "duration": 22,
    "start_time": "2022-09-18T12:22:06.057Z"
   },
   {
    "duration": 5,
    "start_time": "2022-09-18T12:22:06.482Z"
   },
   {
    "duration": 17,
    "start_time": "2022-09-18T12:22:06.902Z"
   },
   {
    "duration": 9,
    "start_time": "2022-09-18T12:22:07.461Z"
   },
   {
    "duration": 62,
    "start_time": "2022-09-18T12:22:07.845Z"
   },
   {
    "duration": 5,
    "start_time": "2022-09-18T12:22:08.402Z"
   },
   {
    "duration": 14,
    "start_time": "2022-09-18T12:22:08.973Z"
   },
   {
    "duration": 6,
    "start_time": "2022-09-18T12:22:09.392Z"
   },
   {
    "duration": 28,
    "start_time": "2022-09-18T12:22:09.949Z"
   },
   {
    "duration": 6,
    "start_time": "2022-09-18T12:22:10.721Z"
   },
   {
    "duration": 3,
    "start_time": "2022-09-18T12:22:11.249Z"
   },
   {
    "duration": 53,
    "start_time": "2022-09-18T12:22:12.098Z"
   },
   {
    "duration": 8,
    "start_time": "2022-09-18T12:22:15.353Z"
   },
   {
    "duration": 20,
    "start_time": "2022-09-18T12:22:17.303Z"
   },
   {
    "duration": 42,
    "start_time": "2022-09-18T12:22:18.037Z"
   },
   {
    "duration": 16,
    "start_time": "2022-09-18T12:22:18.803Z"
   },
   {
    "duration": 294,
    "start_time": "2022-09-18T12:22:19.785Z"
   },
   {
    "duration": 26,
    "start_time": "2022-09-18T12:22:20.437Z"
   },
   {
    "duration": 13,
    "start_time": "2022-09-18T12:22:21.846Z"
   },
   {
    "duration": 87,
    "start_time": "2022-09-18T12:22:22.745Z"
   },
   {
    "duration": 21,
    "start_time": "2022-09-18T12:22:24.319Z"
   },
   {
    "duration": 5,
    "start_time": "2022-09-18T12:22:25.240Z"
   },
   {
    "duration": 35,
    "start_time": "2022-09-18T12:22:26.201Z"
   },
   {
    "duration": 33,
    "start_time": "2022-09-18T12:22:27.011Z"
   },
   {
    "duration": 22,
    "start_time": "2022-09-18T12:22:27.491Z"
   },
   {
    "duration": 167,
    "start_time": "2022-09-18T12:25:28.208Z"
   },
   {
    "duration": 775,
    "start_time": "2022-09-18T12:25:39.045Z"
   },
   {
    "duration": 1279,
    "start_time": "2022-09-18T12:25:58.353Z"
   },
   {
    "duration": 1399,
    "start_time": "2022-09-18T12:26:21.996Z"
   },
   {
    "duration": 49,
    "start_time": "2022-09-18T12:27:38.211Z"
   },
   {
    "duration": 1446,
    "start_time": "2022-09-18T12:27:44.580Z"
   },
   {
    "duration": 1383,
    "start_time": "2022-09-18T12:28:02.440Z"
   },
   {
    "duration": 1109,
    "start_time": "2022-09-18T14:16:56.404Z"
   },
   {
    "duration": 25,
    "start_time": "2022-09-18T14:16:57.514Z"
   },
   {
    "duration": 22,
    "start_time": "2022-09-18T14:16:57.540Z"
   },
   {
    "duration": 81,
    "start_time": "2022-09-18T14:16:57.564Z"
   },
   {
    "duration": 12,
    "start_time": "2022-09-18T14:16:57.646Z"
   },
   {
    "duration": 21,
    "start_time": "2022-09-18T14:16:57.661Z"
   },
   {
    "duration": 4,
    "start_time": "2022-09-18T14:16:58.486Z"
   },
   {
    "duration": 3,
    "start_time": "2022-09-18T14:16:58.574Z"
   },
   {
    "duration": 3,
    "start_time": "2022-09-18T14:16:58.855Z"
   },
   {
    "duration": 12,
    "start_time": "2022-09-18T14:16:59.284Z"
   },
   {
    "duration": 5,
    "start_time": "2022-09-18T14:16:59.665Z"
   },
   {
    "duration": 21,
    "start_time": "2022-09-18T14:16:59.721Z"
   },
   {
    "duration": 5,
    "start_time": "2022-09-18T14:17:00.900Z"
   },
   {
    "duration": 17,
    "start_time": "2022-09-18T14:17:00.967Z"
   },
   {
    "duration": 9,
    "start_time": "2022-09-18T14:17:01.256Z"
   },
   {
    "duration": 61,
    "start_time": "2022-09-18T14:17:01.319Z"
   },
   {
    "duration": 6,
    "start_time": "2022-09-18T14:17:01.655Z"
   },
   {
    "duration": 13,
    "start_time": "2022-09-18T14:17:01.728Z"
   },
   {
    "duration": 5,
    "start_time": "2022-09-18T14:17:02.166Z"
   },
   {
    "duration": 17,
    "start_time": "2022-09-18T14:17:02.653Z"
   },
   {
    "duration": 5,
    "start_time": "2022-09-18T14:17:03.181Z"
   },
   {
    "duration": 3,
    "start_time": "2022-09-18T14:17:03.684Z"
   },
   {
    "duration": 32,
    "start_time": "2022-09-18T14:17:04.335Z"
   },
   {
    "duration": 8,
    "start_time": "2022-09-18T14:17:04.912Z"
   },
   {
    "duration": 21,
    "start_time": "2022-09-18T14:17:06.451Z"
   },
   {
    "duration": 45,
    "start_time": "2022-09-18T14:17:06.895Z"
   },
   {
    "duration": 14,
    "start_time": "2022-09-18T14:17:07.354Z"
   },
   {
    "duration": 313,
    "start_time": "2022-09-18T14:17:09.557Z"
   },
   {
    "duration": 22,
    "start_time": "2022-09-18T14:17:10.217Z"
   },
   {
    "duration": 13,
    "start_time": "2022-09-18T14:17:10.766Z"
   },
   {
    "duration": 81,
    "start_time": "2022-09-18T14:17:11.377Z"
   },
   {
    "duration": 17,
    "start_time": "2022-09-18T14:17:12.397Z"
   },
   {
    "duration": 1072,
    "start_time": "2022-09-18T14:17:13.195Z"
   },
   {
    "duration": 1194,
    "start_time": "2022-09-18T14:17:14.268Z"
   },
   {
    "duration": 33,
    "start_time": "2022-09-18T14:17:15.464Z"
   },
   {
    "duration": 31,
    "start_time": "2022-09-18T14:17:15.509Z"
   },
   {
    "duration": 19,
    "start_time": "2022-09-18T14:17:16.352Z"
   },
   {
    "duration": 431,
    "start_time": "2022-09-18T14:43:49.863Z"
   },
   {
    "duration": 22,
    "start_time": "2022-09-18T14:44:41.160Z"
   },
   {
    "duration": 94,
    "start_time": "2022-09-18T14:45:04.002Z"
   },
   {
    "duration": 11,
    "start_time": "2022-09-18T14:45:44.163Z"
   },
   {
    "duration": 11,
    "start_time": "2022-09-18T14:46:08.906Z"
   },
   {
    "duration": 11,
    "start_time": "2022-09-18T14:50:48.765Z"
   },
   {
    "duration": 11,
    "start_time": "2022-09-18T14:51:08.473Z"
   },
   {
    "duration": 146,
    "start_time": "2022-09-18T15:01:58.315Z"
   },
   {
    "duration": 29,
    "start_time": "2022-09-18T15:02:22.684Z"
   },
   {
    "duration": 32,
    "start_time": "2022-09-18T15:03:04.573Z"
   },
   {
    "duration": 9,
    "start_time": "2022-09-18T15:03:31.333Z"
   },
   {
    "duration": 1262,
    "start_time": "2022-09-18T15:04:17.391Z"
   },
   {
    "duration": 1270,
    "start_time": "2022-09-18T15:04:29.070Z"
   },
   {
    "duration": 1417,
    "start_time": "2022-09-18T15:04:53.994Z"
   },
   {
    "duration": 197,
    "start_time": "2022-09-18T15:05:14.874Z"
   },
   {
    "duration": 113,
    "start_time": "2022-09-18T15:05:22.507Z"
   },
   {
    "duration": 1309,
    "start_time": "2022-09-18T15:07:38.370Z"
   },
   {
    "duration": 92,
    "start_time": "2022-09-18T15:10:19.835Z"
   },
   {
    "duration": 52,
    "start_time": "2022-09-18T15:10:26.006Z"
   },
   {
    "duration": 122,
    "start_time": "2022-09-18T15:10:46.169Z"
   },
   {
    "duration": 1133,
    "start_time": "2022-09-19T11:19:44.491Z"
   },
   {
    "duration": 30,
    "start_time": "2022-09-19T11:19:45.626Z"
   },
   {
    "duration": 28,
    "start_time": "2022-09-19T11:19:45.657Z"
   },
   {
    "duration": 78,
    "start_time": "2022-09-19T11:19:45.696Z"
   },
   {
    "duration": 30,
    "start_time": "2022-09-19T11:19:45.775Z"
   },
   {
    "duration": 24,
    "start_time": "2022-09-19T11:19:45.806Z"
   },
   {
    "duration": 5,
    "start_time": "2022-09-19T11:19:46.019Z"
   },
   {
    "duration": 3,
    "start_time": "2022-09-19T11:19:46.365Z"
   },
   {
    "duration": 4,
    "start_time": "2022-09-19T11:19:46.925Z"
   },
   {
    "duration": 13,
    "start_time": "2022-09-19T11:19:47.435Z"
   },
   {
    "duration": 6,
    "start_time": "2022-09-19T11:19:48.457Z"
   },
   {
    "duration": 26,
    "start_time": "2022-09-19T11:19:49.260Z"
   },
   {
    "duration": 5,
    "start_time": "2022-09-19T11:19:49.731Z"
   },
   {
    "duration": 17,
    "start_time": "2022-09-19T11:19:50.294Z"
   },
   {
    "duration": 9,
    "start_time": "2022-09-19T11:19:50.777Z"
   },
   {
    "duration": 67,
    "start_time": "2022-09-19T11:19:51.287Z"
   },
   {
    "duration": 6,
    "start_time": "2022-09-19T11:19:52.027Z"
   },
   {
    "duration": 16,
    "start_time": "2022-09-19T11:19:52.434Z"
   },
   {
    "duration": 6,
    "start_time": "2022-09-19T11:19:52.894Z"
   },
   {
    "duration": 21,
    "start_time": "2022-09-19T11:19:53.295Z"
   },
   {
    "duration": 5,
    "start_time": "2022-09-19T11:19:53.697Z"
   },
   {
    "duration": 4,
    "start_time": "2022-09-19T11:19:54.067Z"
   },
   {
    "duration": 36,
    "start_time": "2022-09-19T11:19:54.697Z"
   },
   {
    "duration": 8,
    "start_time": "2022-09-19T11:19:55.228Z"
   },
   {
    "duration": 35,
    "start_time": "2022-09-19T11:19:56.860Z"
   },
   {
    "duration": 37,
    "start_time": "2022-09-19T11:19:57.600Z"
   },
   {
    "duration": 16,
    "start_time": "2022-09-19T11:19:58.480Z"
   },
   {
    "duration": 319,
    "start_time": "2022-09-19T11:19:59.170Z"
   },
   {
    "duration": 25,
    "start_time": "2022-09-19T11:19:59.845Z"
   },
   {
    "duration": 15,
    "start_time": "2022-09-19T11:20:00.469Z"
   },
   {
    "duration": 97,
    "start_time": "2022-09-19T11:20:01.337Z"
   },
   {
    "duration": 409,
    "start_time": "2022-09-19T11:20:02.816Z"
   },
   {
    "duration": 1428,
    "start_time": "2022-09-19T11:20:03.811Z"
   },
   {
    "duration": 136,
    "start_time": "2022-09-19T11:20:05.241Z"
   },
   {
    "duration": 43,
    "start_time": "2022-09-19T11:20:05.379Z"
   },
   {
    "duration": 37,
    "start_time": "2022-09-19T11:20:06.108Z"
   },
   {
    "duration": 22,
    "start_time": "2022-09-19T11:20:06.654Z"
   },
   {
    "duration": 151,
    "start_time": "2022-09-19T11:56:45.673Z"
   },
   {
    "duration": 21,
    "start_time": "2022-09-19T11:57:21.928Z"
   },
   {
    "duration": 14,
    "start_time": "2022-09-19T11:57:56.118Z"
   },
   {
    "duration": 1407,
    "start_time": "2022-09-19T11:58:10.871Z"
   },
   {
    "duration": 40,
    "start_time": "2022-09-19T11:58:56.060Z"
   },
   {
    "duration": 110,
    "start_time": "2022-09-19T12:59:53.498Z"
   },
   {
    "duration": 7686,
    "start_time": "2022-09-19T12:59:58.159Z"
   },
   {
    "duration": 6405,
    "start_time": "2022-09-19T13:00:23.862Z"
   },
   {
    "duration": 6444,
    "start_time": "2022-09-19T13:00:54.808Z"
   },
   {
    "duration": 11,
    "start_time": "2022-09-19T13:01:58.552Z"
   },
   {
    "duration": 10,
    "start_time": "2022-09-19T13:02:32.928Z"
   },
   {
    "duration": 9,
    "start_time": "2022-09-19T13:02:44.555Z"
   },
   {
    "duration": 148,
    "start_time": "2022-09-19T13:03:04.746Z"
   },
   {
    "duration": 183,
    "start_time": "2022-09-19T13:03:33.890Z"
   },
   {
    "duration": 179,
    "start_time": "2022-09-19T13:05:40.195Z"
   },
   {
    "duration": 139,
    "start_time": "2022-09-19T13:06:08.518Z"
   },
   {
    "duration": 195,
    "start_time": "2022-09-19T13:06:14.362Z"
   },
   {
    "duration": 142,
    "start_time": "2022-09-19T13:06:56.543Z"
   },
   {
    "duration": 114,
    "start_time": "2022-09-19T13:07:09.569Z"
   },
   {
    "duration": 101,
    "start_time": "2022-09-19T13:07:16.406Z"
   },
   {
    "duration": 2191,
    "start_time": "2022-09-19T13:07:19.721Z"
   },
   {
    "duration": 167,
    "start_time": "2022-09-19T13:07:23.062Z"
   },
   {
    "duration": 146,
    "start_time": "2022-09-19T13:07:27.622Z"
   },
   {
    "duration": 43,
    "start_time": "2022-09-19T13:07:28.767Z"
   },
   {
    "duration": 40,
    "start_time": "2022-09-19T13:07:29.555Z"
   },
   {
    "duration": 212,
    "start_time": "2022-09-19T13:08:55.644Z"
   },
   {
    "duration": 120,
    "start_time": "2022-09-19T13:09:13.869Z"
   },
   {
    "duration": 248,
    "start_time": "2022-09-19T13:09:25.010Z"
   },
   {
    "duration": 182,
    "start_time": "2022-09-19T13:09:30.466Z"
   },
   {
    "duration": 159,
    "start_time": "2022-09-19T13:10:15.765Z"
   },
   {
    "duration": 151,
    "start_time": "2022-09-19T13:11:37.405Z"
   },
   {
    "duration": 47,
    "start_time": "2022-09-19T13:11:38.994Z"
   },
   {
    "duration": 30,
    "start_time": "2022-09-19T13:11:39.453Z"
   },
   {
    "duration": 92,
    "start_time": "2022-09-19T13:11:39.841Z"
   },
   {
    "duration": 17,
    "start_time": "2022-09-19T13:11:40.338Z"
   },
   {
    "duration": 47,
    "start_time": "2022-09-19T13:11:40.893Z"
   },
   {
    "duration": 5,
    "start_time": "2022-09-19T13:11:42.656Z"
   },
   {
    "duration": 6,
    "start_time": "2022-09-19T13:11:43.133Z"
   },
   {
    "duration": 5,
    "start_time": "2022-09-19T13:11:43.728Z"
   },
   {
    "duration": 16,
    "start_time": "2022-09-19T13:11:44.153Z"
   },
   {
    "duration": 7,
    "start_time": "2022-09-19T13:11:45.128Z"
   },
   {
    "duration": 39,
    "start_time": "2022-09-19T13:11:45.620Z"
   },
   {
    "duration": 7,
    "start_time": "2022-09-19T13:11:47.121Z"
   },
   {
    "duration": 35,
    "start_time": "2022-09-19T13:11:47.800Z"
   },
   {
    "duration": 17,
    "start_time": "2022-09-19T13:11:51.264Z"
   },
   {
    "duration": 107,
    "start_time": "2022-09-19T13:11:51.955Z"
   },
   {
    "duration": 7,
    "start_time": "2022-09-19T13:11:55.068Z"
   },
   {
    "duration": 18,
    "start_time": "2022-09-19T13:11:55.796Z"
   },
   {
    "duration": 14,
    "start_time": "2022-09-19T13:11:58.325Z"
   },
   {
    "duration": 22,
    "start_time": "2022-09-19T13:12:00.768Z"
   },
   {
    "duration": 7,
    "start_time": "2022-09-19T13:12:01.327Z"
   },
   {
    "duration": 4,
    "start_time": "2022-09-19T13:12:01.854Z"
   },
   {
    "duration": 47,
    "start_time": "2022-09-19T13:12:02.540Z"
   },
   {
    "duration": 10,
    "start_time": "2022-09-19T13:12:04.067Z"
   },
   {
    "duration": 29,
    "start_time": "2022-09-19T13:12:06.360Z"
   },
   {
    "duration": 69,
    "start_time": "2022-09-19T13:12:07.062Z"
   },
   {
    "duration": 42,
    "start_time": "2022-09-19T13:12:08.312Z"
   },
   {
    "duration": 583,
    "start_time": "2022-09-19T13:12:09.098Z"
   },
   {
    "duration": 29,
    "start_time": "2022-09-19T13:12:09.830Z"
   },
   {
    "duration": 34,
    "start_time": "2022-09-19T13:12:11.001Z"
   },
   {
    "duration": 170,
    "start_time": "2022-09-19T13:12:11.495Z"
   },
   {
    "duration": 16,
    "start_time": "2022-09-19T13:12:13.073Z"
   },
   {
    "duration": 171,
    "start_time": "2022-09-19T13:13:18.595Z"
   },
   {
    "duration": 173,
    "start_time": "2022-09-19T13:13:43.767Z"
   },
   {
    "duration": 153,
    "start_time": "2022-09-19T13:15:13.845Z"
   },
   {
    "duration": 183,
    "start_time": "2022-09-19T13:15:22.432Z"
   },
   {
    "duration": 211,
    "start_time": "2022-09-19T13:16:02.727Z"
   },
   {
    "duration": 217,
    "start_time": "2022-09-19T13:16:10.642Z"
   },
   {
    "duration": 142,
    "start_time": "2022-09-19T13:17:12.341Z"
   },
   {
    "duration": 284,
    "start_time": "2022-09-19T13:17:30.741Z"
   },
   {
    "duration": 183,
    "start_time": "2022-09-19T13:17:42.684Z"
   },
   {
    "duration": 142,
    "start_time": "2022-09-19T13:19:48.032Z"
   },
   {
    "duration": 119,
    "start_time": "2022-09-19T13:27:27.024Z"
   },
   {
    "duration": 152,
    "start_time": "2022-09-19T13:27:50.487Z"
   },
   {
    "duration": 118,
    "start_time": "2022-09-19T13:28:15.724Z"
   },
   {
    "duration": 161,
    "start_time": "2022-09-19T13:28:25.592Z"
   },
   {
    "duration": 155,
    "start_time": "2022-09-19T13:28:39.959Z"
   },
   {
    "duration": 130,
    "start_time": "2022-09-19T13:28:47.192Z"
   },
   {
    "duration": 31,
    "start_time": "2022-09-19T13:28:47.713Z"
   },
   {
    "duration": 43,
    "start_time": "2022-09-19T13:28:48.416Z"
   },
   {
    "duration": 80,
    "start_time": "2022-09-19T13:28:49.088Z"
   },
   {
    "duration": 15,
    "start_time": "2022-09-19T13:28:49.674Z"
   },
   {
    "duration": 24,
    "start_time": "2022-09-19T13:28:50.119Z"
   },
   {
    "duration": 12,
    "start_time": "2022-09-19T13:28:51.102Z"
   },
   {
    "duration": 4,
    "start_time": "2022-09-19T13:28:51.314Z"
   },
   {
    "duration": 5,
    "start_time": "2022-09-19T13:28:51.557Z"
   },
   {
    "duration": 17,
    "start_time": "2022-09-19T13:28:51.803Z"
   },
   {
    "duration": 14,
    "start_time": "2022-09-19T13:28:52.390Z"
   },
   {
    "duration": 36,
    "start_time": "2022-09-19T13:28:52.793Z"
   },
   {
    "duration": 7,
    "start_time": "2022-09-19T13:28:53.353Z"
   },
   {
    "duration": 21,
    "start_time": "2022-09-19T13:28:53.811Z"
   },
   {
    "duration": 9,
    "start_time": "2022-09-19T13:28:54.143Z"
   },
   {
    "duration": 92,
    "start_time": "2022-09-19T13:28:54.348Z"
   },
   {
    "duration": 7,
    "start_time": "2022-09-19T13:28:54.537Z"
   },
   {
    "duration": 13,
    "start_time": "2022-09-19T13:28:54.741Z"
   },
   {
    "duration": 9,
    "start_time": "2022-09-19T13:28:54.897Z"
   },
   {
    "duration": 22,
    "start_time": "2022-09-19T13:28:55.060Z"
   },
   {
    "duration": 6,
    "start_time": "2022-09-19T13:28:55.226Z"
   },
   {
    "duration": 4,
    "start_time": "2022-09-19T13:28:55.391Z"
   },
   {
    "duration": 55,
    "start_time": "2022-09-19T13:28:55.723Z"
   },
   {
    "duration": 9,
    "start_time": "2022-09-19T13:28:55.913Z"
   },
   {
    "duration": 27,
    "start_time": "2022-09-19T13:28:56.514Z"
   },
   {
    "duration": 44,
    "start_time": "2022-09-19T13:28:56.719Z"
   },
   {
    "duration": 27,
    "start_time": "2022-09-19T13:28:56.914Z"
   },
   {
    "duration": 355,
    "start_time": "2022-09-19T13:28:57.113Z"
   },
   {
    "duration": 43,
    "start_time": "2022-09-19T13:28:57.470Z"
   },
   {
    "duration": 14,
    "start_time": "2022-09-19T13:28:57.518Z"
   },
   {
    "duration": 108,
    "start_time": "2022-09-19T13:28:57.713Z"
   },
   {
    "duration": 227,
    "start_time": "2022-09-19T13:28:58.139Z"
   },
   {
    "duration": 186,
    "start_time": "2022-09-19T13:28:58.369Z"
   },
   {
    "duration": 171,
    "start_time": "2022-09-19T13:28:58.589Z"
   },
   {
    "duration": 484,
    "start_time": "2022-09-19T13:28:59.480Z"
   },
   {
    "duration": 43,
    "start_time": "2022-09-19T13:29:00.041Z"
   },
   {
    "duration": 51,
    "start_time": "2022-09-19T13:29:00.627Z"
   },
   {
    "duration": 37,
    "start_time": "2022-09-19T13:29:01.681Z"
   },
   {
    "duration": 130,
    "start_time": "2022-09-19T13:29:16.317Z"
   },
   {
    "duration": 263,
    "start_time": "2022-09-19T13:29:55.261Z"
   },
   {
    "duration": 166,
    "start_time": "2022-09-19T13:29:55.697Z"
   },
   {
    "duration": 142,
    "start_time": "2022-09-19T13:29:56.333Z"
   },
   {
    "duration": 155,
    "start_time": "2022-09-19T13:30:11.915Z"
   },
   {
    "duration": 38,
    "start_time": "2022-09-19T13:30:12.095Z"
   },
   {
    "duration": 35,
    "start_time": "2022-09-19T13:30:12.477Z"
   },
   {
    "duration": 84,
    "start_time": "2022-09-19T13:30:12.667Z"
   },
   {
    "duration": 29,
    "start_time": "2022-09-19T13:30:12.884Z"
   },
   {
    "duration": 32,
    "start_time": "2022-09-19T13:30:13.126Z"
   },
   {
    "duration": 6,
    "start_time": "2022-09-19T13:30:13.815Z"
   },
   {
    "duration": 4,
    "start_time": "2022-09-19T13:30:14.018Z"
   },
   {
    "duration": 13,
    "start_time": "2022-09-19T13:30:14.408Z"
   },
   {
    "duration": 12,
    "start_time": "2022-09-19T13:30:14.655Z"
   },
   {
    "duration": 11,
    "start_time": "2022-09-19T13:30:15.205Z"
   },
   {
    "duration": 35,
    "start_time": "2022-09-19T13:30:15.482Z"
   },
   {
    "duration": 6,
    "start_time": "2022-09-19T13:30:15.763Z"
   },
   {
    "duration": 19,
    "start_time": "2022-09-19T13:30:16.031Z"
   },
   {
    "duration": 12,
    "start_time": "2022-09-19T13:30:16.314Z"
   },
   {
    "duration": 127,
    "start_time": "2022-09-19T13:30:16.590Z"
   },
   {
    "duration": 6,
    "start_time": "2022-09-19T13:30:16.872Z"
   },
   {
    "duration": 18,
    "start_time": "2022-09-19T13:30:17.354Z"
   },
   {
    "duration": 9,
    "start_time": "2022-09-19T13:30:17.889Z"
   },
   {
    "duration": 34,
    "start_time": "2022-09-19T13:30:18.272Z"
   },
   {
    "duration": 6,
    "start_time": "2022-09-19T13:30:18.692Z"
   },
   {
    "duration": 4,
    "start_time": "2022-09-19T13:30:19.114Z"
   },
   {
    "duration": 39,
    "start_time": "2022-09-19T13:30:19.445Z"
   },
   {
    "duration": 13,
    "start_time": "2022-09-19T13:30:19.762Z"
   },
   {
    "duration": 28,
    "start_time": "2022-09-19T13:30:20.858Z"
   },
   {
    "duration": 43,
    "start_time": "2022-09-19T13:30:21.252Z"
   },
   {
    "duration": 21,
    "start_time": "2022-09-19T13:30:21.584Z"
   },
   {
    "duration": 409,
    "start_time": "2022-09-19T13:30:21.864Z"
   },
   {
    "duration": 46,
    "start_time": "2022-09-19T13:30:22.276Z"
   },
   {
    "duration": 14,
    "start_time": "2022-09-19T13:30:22.613Z"
   },
   {
    "duration": 105,
    "start_time": "2022-09-19T13:30:23.075Z"
   },
   {
    "duration": 169,
    "start_time": "2022-09-19T13:30:24.209Z"
   },
   {
    "duration": 168,
    "start_time": "2022-09-19T13:30:24.871Z"
   },
   {
    "duration": 200,
    "start_time": "2022-09-19T13:30:26.425Z"
   },
   {
    "duration": 271,
    "start_time": "2022-09-19T13:30:27.381Z"
   },
   {
    "duration": 205,
    "start_time": "2022-09-19T13:31:30.176Z"
   },
   {
    "duration": 103,
    "start_time": "2022-09-19T13:32:33.186Z"
   },
   {
    "duration": 135,
    "start_time": "2022-09-19T13:36:08.614Z"
   },
   {
    "duration": 53,
    "start_time": "2022-09-19T13:36:08.779Z"
   },
   {
    "duration": 28,
    "start_time": "2022-09-19T13:36:08.935Z"
   },
   {
    "duration": 95,
    "start_time": "2022-09-19T13:36:09.250Z"
   },
   {
    "duration": 17,
    "start_time": "2022-09-19T13:36:09.418Z"
   },
   {
    "duration": 24,
    "start_time": "2022-09-19T13:36:09.568Z"
   },
   {
    "duration": 5,
    "start_time": "2022-09-19T13:36:10.077Z"
   },
   {
    "duration": 5,
    "start_time": "2022-09-19T13:36:10.258Z"
   },
   {
    "duration": 5,
    "start_time": "2022-09-19T13:36:10.422Z"
   },
   {
    "duration": 15,
    "start_time": "2022-09-19T13:36:10.612Z"
   },
   {
    "duration": 6,
    "start_time": "2022-09-19T13:36:10.944Z"
   },
   {
    "duration": 28,
    "start_time": "2022-09-19T13:36:11.135Z"
   },
   {
    "duration": 5,
    "start_time": "2022-09-19T13:36:11.326Z"
   },
   {
    "duration": 20,
    "start_time": "2022-09-19T13:36:11.507Z"
   },
   {
    "duration": 11,
    "start_time": "2022-09-19T13:36:11.683Z"
   },
   {
    "duration": 102,
    "start_time": "2022-09-19T13:36:11.875Z"
   },
   {
    "duration": 6,
    "start_time": "2022-09-19T13:36:12.083Z"
   },
   {
    "duration": 13,
    "start_time": "2022-09-19T13:36:12.268Z"
   },
   {
    "duration": 6,
    "start_time": "2022-09-19T13:36:12.459Z"
   },
   {
    "duration": 25,
    "start_time": "2022-09-19T13:36:12.651Z"
   },
   {
    "duration": 5,
    "start_time": "2022-09-19T13:36:12.841Z"
   },
   {
    "duration": 4,
    "start_time": "2022-09-19T13:36:13.045Z"
   },
   {
    "duration": 32,
    "start_time": "2022-09-19T13:36:13.237Z"
   },
   {
    "duration": 8,
    "start_time": "2022-09-19T13:36:13.428Z"
   },
   {
    "duration": 24,
    "start_time": "2022-09-19T13:36:14.012Z"
   },
   {
    "duration": 42,
    "start_time": "2022-09-19T13:36:14.179Z"
   },
   {
    "duration": 29,
    "start_time": "2022-09-19T13:36:14.383Z"
   },
   {
    "duration": 372,
    "start_time": "2022-09-19T13:36:14.596Z"
   },
   {
    "duration": 47,
    "start_time": "2022-09-19T13:36:14.970Z"
   },
   {
    "duration": 19,
    "start_time": "2022-09-19T13:36:15.019Z"
   },
   {
    "duration": 111,
    "start_time": "2022-09-19T13:36:15.215Z"
   },
   {
    "duration": 172,
    "start_time": "2022-09-19T13:36:15.795Z"
   },
   {
    "duration": 158,
    "start_time": "2022-09-19T13:36:16.028Z"
   },
   {
    "duration": 168,
    "start_time": "2022-09-19T13:36:16.229Z"
   },
   {
    "duration": 621,
    "start_time": "2022-09-19T13:36:16.484Z"
   },
   {
    "duration": 313,
    "start_time": "2022-09-19T13:36:17.146Z"
   },
   {
    "duration": 320,
    "start_time": "2022-09-19T13:36:17.814Z"
   },
   {
    "duration": 150,
    "start_time": "2022-09-19T13:38:14.614Z"
   },
   {
    "duration": 37,
    "start_time": "2022-09-19T13:38:14.789Z"
   },
   {
    "duration": 26,
    "start_time": "2022-09-19T13:38:14.968Z"
   },
   {
    "duration": 79,
    "start_time": "2022-09-19T13:38:15.103Z"
   },
   {
    "duration": 15,
    "start_time": "2022-09-19T13:38:15.263Z"
   },
   {
    "duration": 23,
    "start_time": "2022-09-19T13:38:15.414Z"
   },
   {
    "duration": 4,
    "start_time": "2022-09-19T13:38:16.088Z"
   },
   {
    "duration": 6,
    "start_time": "2022-09-19T13:38:16.292Z"
   },
   {
    "duration": 5,
    "start_time": "2022-09-19T13:38:16.509Z"
   },
   {
    "duration": 9,
    "start_time": "2022-09-19T13:38:16.739Z"
   },
   {
    "duration": 6,
    "start_time": "2022-09-19T13:38:17.159Z"
   },
   {
    "duration": 26,
    "start_time": "2022-09-19T13:38:17.362Z"
   },
   {
    "duration": 6,
    "start_time": "2022-09-19T13:38:17.580Z"
   },
   {
    "duration": 28,
    "start_time": "2022-09-19T13:38:17.782Z"
   },
   {
    "duration": 10,
    "start_time": "2022-09-19T13:38:17.973Z"
   },
   {
    "duration": 122,
    "start_time": "2022-09-19T13:38:18.168Z"
   },
   {
    "duration": 9,
    "start_time": "2022-09-19T13:38:18.330Z"
   },
   {
    "duration": 13,
    "start_time": "2022-09-19T13:38:18.521Z"
   },
   {
    "duration": 6,
    "start_time": "2022-09-19T13:38:18.725Z"
   },
   {
    "duration": 26,
    "start_time": "2022-09-19T13:38:18.917Z"
   },
   {
    "duration": 6,
    "start_time": "2022-09-19T13:38:19.109Z"
   },
   {
    "duration": 4,
    "start_time": "2022-09-19T13:38:19.286Z"
   },
   {
    "duration": 44,
    "start_time": "2022-09-19T13:38:19.477Z"
   },
   {
    "duration": 8,
    "start_time": "2022-09-19T13:38:19.681Z"
   },
   {
    "duration": 29,
    "start_time": "2022-09-19T13:38:20.279Z"
   },
   {
    "duration": 40,
    "start_time": "2022-09-19T13:38:20.484Z"
   },
   {
    "duration": 17,
    "start_time": "2022-09-19T13:38:20.710Z"
   },
   {
    "duration": 366,
    "start_time": "2022-09-19T13:38:20.891Z"
   },
   {
    "duration": 26,
    "start_time": "2022-09-19T13:38:21.259Z"
   },
   {
    "duration": 14,
    "start_time": "2022-09-19T13:38:21.313Z"
   },
   {
    "duration": 92,
    "start_time": "2022-09-19T13:38:21.516Z"
   },
   {
    "duration": 170,
    "start_time": "2022-09-19T13:38:21.994Z"
   },
   {
    "duration": 150,
    "start_time": "2022-09-19T13:38:22.232Z"
   },
   {
    "duration": 158,
    "start_time": "2022-09-19T13:38:22.789Z"
   },
   {
    "duration": 273,
    "start_time": "2022-09-19T13:38:23.503Z"
   },
   {
    "duration": 150,
    "start_time": "2022-09-19T13:38:29.079Z"
   },
   {
    "duration": 469,
    "start_time": "2022-09-19T13:38:29.899Z"
   },
   {
    "duration": 158,
    "start_time": "2022-09-19T13:38:35.690Z"
   },
   {
    "duration": 236,
    "start_time": "2022-09-19T13:38:37.678Z"
   },
   {
    "duration": 151,
    "start_time": "2022-09-19T13:38:51.266Z"
   },
   {
    "duration": 107,
    "start_time": "2022-09-19T13:38:52.513Z"
   },
   {
    "duration": 178,
    "start_time": "2022-09-19T13:39:00.232Z"
   },
   {
    "duration": 115,
    "start_time": "2022-09-19T13:39:55.034Z"
   },
   {
    "duration": 32,
    "start_time": "2022-09-19T13:39:55.393Z"
   },
   {
    "duration": 27,
    "start_time": "2022-09-19T13:39:55.456Z"
   },
   {
    "duration": 72,
    "start_time": "2022-09-19T13:39:55.760Z"
   },
   {
    "duration": 14,
    "start_time": "2022-09-19T13:39:55.833Z"
   },
   {
    "duration": 22,
    "start_time": "2022-09-19T13:39:56.184Z"
   },
   {
    "duration": 5,
    "start_time": "2022-09-19T13:39:56.640Z"
   },
   {
    "duration": 4,
    "start_time": "2022-09-19T13:39:57.026Z"
   },
   {
    "duration": 5,
    "start_time": "2022-09-19T13:39:57.381Z"
   },
   {
    "duration": 10,
    "start_time": "2022-09-19T13:39:57.453Z"
   },
   {
    "duration": 6,
    "start_time": "2022-09-19T13:39:57.803Z"
   },
   {
    "duration": 37,
    "start_time": "2022-09-19T13:39:58.066Z"
   },
   {
    "duration": 10,
    "start_time": "2022-09-19T13:39:58.145Z"
   },
   {
    "duration": 19,
    "start_time": "2022-09-19T13:39:59.000Z"
   },
   {
    "duration": 9,
    "start_time": "2022-09-19T13:39:59.191Z"
   },
   {
    "duration": 67,
    "start_time": "2022-09-19T13:39:59.381Z"
   },
   {
    "duration": 6,
    "start_time": "2022-09-19T13:39:59.572Z"
   },
   {
    "duration": 12,
    "start_time": "2022-09-19T13:39:59.801Z"
   },
   {
    "duration": 7,
    "start_time": "2022-09-19T13:40:00.109Z"
   },
   {
    "duration": 20,
    "start_time": "2022-09-19T13:40:00.273Z"
   },
   {
    "duration": 5,
    "start_time": "2022-09-19T13:40:00.544Z"
   },
   {
    "duration": 3,
    "start_time": "2022-09-19T13:40:00.706Z"
   },
   {
    "duration": 35,
    "start_time": "2022-09-19T13:40:00.979Z"
   },
   {
    "duration": 9,
    "start_time": "2022-09-19T13:40:01.290Z"
   },
   {
    "duration": 26,
    "start_time": "2022-09-19T13:40:01.927Z"
   },
   {
    "duration": 38,
    "start_time": "2022-09-19T13:40:02.121Z"
   },
   {
    "duration": 17,
    "start_time": "2022-09-19T13:40:02.429Z"
   },
   {
    "duration": 349,
    "start_time": "2022-09-19T13:40:02.540Z"
   },
   {
    "duration": 26,
    "start_time": "2022-09-19T13:40:02.896Z"
   },
   {
    "duration": 14,
    "start_time": "2022-09-19T13:40:03.023Z"
   },
   {
    "duration": 94,
    "start_time": "2022-09-19T13:40:03.241Z"
   },
   {
    "duration": 158,
    "start_time": "2022-09-19T13:40:03.712Z"
   },
   {
    "duration": 155,
    "start_time": "2022-09-19T13:40:03.942Z"
   },
   {
    "duration": 156,
    "start_time": "2022-09-19T13:40:04.173Z"
   },
   {
    "duration": 278,
    "start_time": "2022-09-19T13:40:04.413Z"
   },
   {
    "duration": 165,
    "start_time": "2022-09-19T13:40:04.696Z"
   },
   {
    "duration": 462,
    "start_time": "2022-09-19T13:40:05.171Z"
   },
   {
    "duration": 160,
    "start_time": "2022-09-19T13:40:05.648Z"
   },
   {
    "duration": 238,
    "start_time": "2022-09-19T13:40:06.159Z"
   },
   {
    "duration": 178,
    "start_time": "2022-09-19T13:40:06.742Z"
   },
   {
    "duration": 101,
    "start_time": "2022-09-19T13:40:08.427Z"
   },
   {
    "duration": 876,
    "start_time": "2022-09-19T15:15:38.283Z"
   },
   {
    "duration": 25,
    "start_time": "2022-09-19T15:15:39.161Z"
   },
   {
    "duration": 22,
    "start_time": "2022-09-19T15:15:39.188Z"
   },
   {
    "duration": 70,
    "start_time": "2022-09-19T15:15:39.212Z"
   },
   {
    "duration": 12,
    "start_time": "2022-09-19T15:15:39.283Z"
   },
   {
    "duration": 33,
    "start_time": "2022-09-19T15:15:39.297Z"
   },
   {
    "duration": 5,
    "start_time": "2022-09-19T15:15:39.769Z"
   },
   {
    "duration": 3,
    "start_time": "2022-09-19T15:15:40.152Z"
   },
   {
    "duration": 5,
    "start_time": "2022-09-19T15:15:40.434Z"
   },
   {
    "duration": 10,
    "start_time": "2022-09-19T15:15:40.687Z"
   },
   {
    "duration": 5,
    "start_time": "2022-09-19T15:15:41.209Z"
   },
   {
    "duration": 22,
    "start_time": "2022-09-19T15:15:41.453Z"
   },
   {
    "duration": 10,
    "start_time": "2022-09-19T15:15:41.731Z"
   },
   {
    "duration": 15,
    "start_time": "2022-09-19T15:15:41.999Z"
   },
   {
    "duration": 8,
    "start_time": "2022-09-19T15:15:42.279Z"
   },
   {
    "duration": 69,
    "start_time": "2022-09-19T15:15:42.572Z"
   },
   {
    "duration": 5,
    "start_time": "2022-09-19T15:15:42.841Z"
   },
   {
    "duration": 16,
    "start_time": "2022-09-19T15:15:43.137Z"
   },
   {
    "duration": 6,
    "start_time": "2022-09-19T15:15:43.388Z"
   },
   {
    "duration": 27,
    "start_time": "2022-09-19T15:15:43.617Z"
   },
   {
    "duration": 4,
    "start_time": "2022-09-19T15:15:43.911Z"
   },
   {
    "duration": 4,
    "start_time": "2022-09-19T15:15:44.203Z"
   },
   {
    "duration": 34,
    "start_time": "2022-09-19T15:15:44.485Z"
   },
   {
    "duration": 9,
    "start_time": "2022-09-19T15:15:44.738Z"
   },
   {
    "duration": 23,
    "start_time": "2022-09-19T15:15:45.504Z"
   },
   {
    "duration": 40,
    "start_time": "2022-09-19T15:15:45.800Z"
   },
   {
    "duration": 19,
    "start_time": "2022-09-19T15:15:46.102Z"
   },
   {
    "duration": 342,
    "start_time": "2022-09-19T15:15:46.395Z"
   },
   {
    "duration": 24,
    "start_time": "2022-09-19T15:15:46.739Z"
   },
   {
    "duration": 16,
    "start_time": "2022-09-19T15:15:47.022Z"
   },
   {
    "duration": 101,
    "start_time": "2022-09-19T15:15:47.313Z"
   },
   {
    "duration": 214,
    "start_time": "2022-09-19T15:15:47.899Z"
   },
   {
    "duration": 164,
    "start_time": "2022-09-19T15:15:48.213Z"
   },
   {
    "duration": 137,
    "start_time": "2022-09-19T15:15:48.639Z"
   },
   {
    "duration": 215,
    "start_time": "2022-09-19T15:15:49.351Z"
   },
   {
    "duration": 132,
    "start_time": "2022-09-19T15:15:49.836Z"
   },
   {
    "duration": 209,
    "start_time": "2022-09-19T15:15:50.345Z"
   },
   {
    "duration": 180,
    "start_time": "2022-09-19T15:15:50.832Z"
   },
   {
    "duration": 217,
    "start_time": "2022-09-19T15:15:51.396Z"
   },
   {
    "duration": 138,
    "start_time": "2022-09-19T15:15:51.863Z"
   },
   {
    "duration": 95,
    "start_time": "2022-09-19T15:15:52.410Z"
   },
   {
    "duration": 2,
    "start_time": "2022-09-19T15:30:06.562Z"
   },
   {
    "duration": 16,
    "start_time": "2022-09-19T15:34:54.653Z"
   },
   {
    "duration": 0,
    "start_time": "2022-09-19T15:35:35.936Z"
   },
   {
    "duration": 0,
    "start_time": "2022-09-19T15:35:35.938Z"
   },
   {
    "duration": 16,
    "start_time": "2022-09-19T15:35:43.073Z"
   },
   {
    "duration": 107,
    "start_time": "2022-09-19T15:35:49.586Z"
   },
   {
    "duration": 32,
    "start_time": "2022-09-19T15:35:51.035Z"
   },
   {
    "duration": 24,
    "start_time": "2022-09-19T15:35:51.773Z"
   },
   {
    "duration": 70,
    "start_time": "2022-09-19T15:35:51.963Z"
   },
   {
    "duration": 13,
    "start_time": "2022-09-19T15:35:52.153Z"
   },
   {
    "duration": 18,
    "start_time": "2022-09-19T15:35:52.345Z"
   },
   {
    "duration": 4,
    "start_time": "2022-09-19T15:35:52.879Z"
   },
   {
    "duration": 4,
    "start_time": "2022-09-19T15:35:53.060Z"
   },
   {
    "duration": 4,
    "start_time": "2022-09-19T15:35:53.433Z"
   },
   {
    "duration": 9,
    "start_time": "2022-09-19T15:35:53.936Z"
   },
   {
    "duration": 6,
    "start_time": "2022-09-19T15:35:54.598Z"
   },
   {
    "duration": 22,
    "start_time": "2022-09-19T15:35:54.892Z"
   },
   {
    "duration": 5,
    "start_time": "2022-09-19T15:35:55.184Z"
   },
   {
    "duration": 16,
    "start_time": "2022-09-19T15:35:55.433Z"
   },
   {
    "duration": 9,
    "start_time": "2022-09-19T15:35:55.669Z"
   },
   {
    "duration": 69,
    "start_time": "2022-09-19T15:35:55.931Z"
   },
   {
    "duration": 7,
    "start_time": "2022-09-19T15:35:56.139Z"
   },
   {
    "duration": 10,
    "start_time": "2022-09-19T15:35:56.407Z"
   },
   {
    "duration": 5,
    "start_time": "2022-09-19T15:35:56.652Z"
   },
   {
    "duration": 21,
    "start_time": "2022-09-19T15:35:56.913Z"
   },
   {
    "duration": 5,
    "start_time": "2022-09-19T15:35:57.171Z"
   },
   {
    "duration": 5,
    "start_time": "2022-09-19T15:35:57.451Z"
   },
   {
    "duration": 75,
    "start_time": "2022-09-19T15:35:57.961Z"
   },
   {
    "duration": 141,
    "start_time": "2022-09-19T15:35:58.675Z"
   },
   {
    "duration": 136,
    "start_time": "2022-09-19T15:35:58.969Z"
   },
   {
    "duration": 136,
    "start_time": "2022-09-19T15:35:59.248Z"
   },
   {
    "duration": 220,
    "start_time": "2022-09-19T15:35:59.515Z"
   },
   {
    "duration": 140,
    "start_time": "2022-09-19T15:35:59.775Z"
   },
   {
    "duration": 151,
    "start_time": "2022-09-19T15:36:00.012Z"
   },
   {
    "duration": 129,
    "start_time": "2022-09-19T15:36:00.241Z"
   },
   {
    "duration": 151,
    "start_time": "2022-09-19T15:36:00.459Z"
   },
   {
    "duration": 167,
    "start_time": "2022-09-19T15:36:16.566Z"
   },
   {
    "duration": 31,
    "start_time": "2022-09-19T15:36:19.864Z"
   },
   {
    "duration": 8,
    "start_time": "2022-09-19T15:36:20.362Z"
   },
   {
    "duration": 23,
    "start_time": "2022-09-19T15:36:20.935Z"
   },
   {
    "duration": 38,
    "start_time": "2022-09-19T15:36:21.206Z"
   },
   {
    "duration": 19,
    "start_time": "2022-09-19T15:36:21.733Z"
   },
   {
    "duration": 332,
    "start_time": "2022-09-19T15:36:22.247Z"
   },
   {
    "duration": 27,
    "start_time": "2022-09-19T15:36:22.809Z"
   },
   {
    "duration": 18,
    "start_time": "2022-09-19T15:36:42.793Z"
   },
   {
    "duration": 17,
    "start_time": "2022-09-19T15:36:43.645Z"
   },
   {
    "duration": 16,
    "start_time": "2022-09-19T15:36:45.977Z"
   },
   {
    "duration": 2440,
    "start_time": "2022-09-19T15:36:46.604Z"
   },
   {
    "duration": 319,
    "start_time": "2022-09-19T15:37:58.523Z"
   },
   {
    "duration": 369,
    "start_time": "2022-09-19T15:38:36.813Z"
   },
   {
    "duration": 17,
    "start_time": "2022-09-19T15:38:43.449Z"
   },
   {
    "duration": 144,
    "start_time": "2022-09-19T15:39:31.006Z"
   },
   {
    "duration": 136,
    "start_time": "2022-09-19T15:39:39.727Z"
   },
   {
    "duration": 105,
    "start_time": "2022-09-19T15:39:43.115Z"
   },
   {
    "duration": 1611,
    "start_time": "2022-09-19T15:39:48.471Z"
   },
   {
    "duration": 74,
    "start_time": "2022-09-19T15:40:28.174Z"
   },
   {
    "duration": 104,
    "start_time": "2022-09-19T15:41:08.015Z"
   },
   {
    "duration": 25,
    "start_time": "2022-09-19T15:41:08.371Z"
   },
   {
    "duration": 23,
    "start_time": "2022-09-19T15:41:08.638Z"
   },
   {
    "duration": 70,
    "start_time": "2022-09-19T15:41:08.880Z"
   },
   {
    "duration": 23,
    "start_time": "2022-09-19T15:41:09.211Z"
   },
   {
    "duration": 23,
    "start_time": "2022-09-19T15:41:09.517Z"
   },
   {
    "duration": 3,
    "start_time": "2022-09-19T15:41:10.867Z"
   },
   {
    "duration": 3,
    "start_time": "2022-09-19T15:41:11.393Z"
   },
   {
    "duration": 5,
    "start_time": "2022-09-19T15:41:12.051Z"
   },
   {
    "duration": 13,
    "start_time": "2022-09-19T15:41:13.580Z"
   },
   {
    "duration": 7,
    "start_time": "2022-09-19T15:41:16.613Z"
   },
   {
    "duration": 29,
    "start_time": "2022-09-19T15:41:21.401Z"
   },
   {
    "duration": 4,
    "start_time": "2022-09-19T15:41:23.414Z"
   },
   {
    "duration": 16,
    "start_time": "2022-09-19T15:41:24.342Z"
   },
   {
    "duration": 9,
    "start_time": "2022-09-19T15:41:25.038Z"
   },
   {
    "duration": 89,
    "start_time": "2022-09-19T15:41:26.102Z"
   },
   {
    "duration": 5,
    "start_time": "2022-09-19T15:41:26.844Z"
   },
   {
    "duration": 13,
    "start_time": "2022-09-19T15:41:27.897Z"
   },
   {
    "duration": 6,
    "start_time": "2022-09-19T15:41:28.778Z"
   },
   {
    "duration": 38,
    "start_time": "2022-09-19T15:41:30.294Z"
   },
   {
    "duration": 5,
    "start_time": "2022-09-19T15:41:31.248Z"
   },
   {
    "duration": 4,
    "start_time": "2022-09-19T15:41:31.987Z"
   },
   {
    "duration": 88,
    "start_time": "2022-09-19T15:41:33.796Z"
   },
   {
    "duration": 155,
    "start_time": "2022-09-19T15:41:37.340Z"
   },
   {
    "duration": 144,
    "start_time": "2022-09-19T15:41:38.397Z"
   },
   {
    "duration": 143,
    "start_time": "2022-09-19T15:41:39.265Z"
   },
   {
    "duration": 164,
    "start_time": "2022-09-19T15:41:40.053Z"
   },
   {
    "duration": 137,
    "start_time": "2022-09-19T15:41:40.677Z"
   },
   {
    "duration": 187,
    "start_time": "2022-09-19T15:41:41.569Z"
   },
   {
    "duration": 132,
    "start_time": "2022-09-19T15:41:42.336Z"
   },
   {
    "duration": 36,
    "start_time": "2022-09-19T15:41:43.314Z"
   },
   {
    "duration": 32,
    "start_time": "2022-09-19T15:41:47.781Z"
   },
   {
    "duration": 8,
    "start_time": "2022-09-19T15:41:48.792Z"
   },
   {
    "duration": 21,
    "start_time": "2022-09-19T15:41:54.352Z"
   },
   {
    "duration": 34,
    "start_time": "2022-09-19T15:41:55.076Z"
   },
   {
    "duration": 18,
    "start_time": "2022-09-19T15:41:56.393Z"
   },
   {
    "duration": 370,
    "start_time": "2022-09-19T15:41:56.980Z"
   },
   {
    "duration": 28,
    "start_time": "2022-09-19T15:41:57.618Z"
   },
   {
    "duration": 35,
    "start_time": "2022-09-19T15:42:25.241Z"
   },
   {
    "duration": 22,
    "start_time": "2022-09-19T15:42:36.754Z"
   },
   {
    "duration": 133,
    "start_time": "2022-09-19T15:43:01.204Z"
   },
   {
    "duration": 107,
    "start_time": "2022-09-19T15:43:14.349Z"
   },
   {
    "duration": 25,
    "start_time": "2022-09-19T15:43:18.752Z"
   },
   {
    "duration": 114,
    "start_time": "2022-09-19T15:44:40.959Z"
   },
   {
    "duration": 33,
    "start_time": "2022-09-19T15:44:41.803Z"
   },
   {
    "duration": 36,
    "start_time": "2022-09-19T15:44:42.611Z"
   },
   {
    "duration": 73,
    "start_time": "2022-09-19T15:44:43.367Z"
   },
   {
    "duration": 12,
    "start_time": "2022-09-19T15:44:44.197Z"
   },
   {
    "duration": 26,
    "start_time": "2022-09-19T15:44:45.013Z"
   },
   {
    "duration": 4,
    "start_time": "2022-09-19T15:44:48.738Z"
   },
   {
    "duration": 13,
    "start_time": "2022-09-19T15:44:50.018Z"
   },
   {
    "duration": 4,
    "start_time": "2022-09-19T15:44:50.934Z"
   },
   {
    "duration": 9,
    "start_time": "2022-09-19T15:44:54.856Z"
   },
   {
    "duration": 12,
    "start_time": "2022-09-19T15:45:04.318Z"
   },
   {
    "duration": 27,
    "start_time": "2022-09-19T15:45:05.355Z"
   },
   {
    "duration": 4,
    "start_time": "2022-09-19T15:45:07.303Z"
   },
   {
    "duration": 15,
    "start_time": "2022-09-19T15:45:08.382Z"
   },
   {
    "duration": 8,
    "start_time": "2022-09-19T15:45:09.264Z"
   },
   {
    "duration": 68,
    "start_time": "2022-09-19T15:45:10.279Z"
   },
   {
    "duration": 6,
    "start_time": "2022-09-19T15:45:11.250Z"
   },
   {
    "duration": 11,
    "start_time": "2022-09-19T15:45:11.990Z"
   },
   {
    "duration": 5,
    "start_time": "2022-09-19T15:45:12.740Z"
   },
   {
    "duration": 18,
    "start_time": "2022-09-19T15:45:13.556Z"
   },
   {
    "duration": 5,
    "start_time": "2022-09-19T15:45:14.253Z"
   },
   {
    "duration": 4,
    "start_time": "2022-09-19T15:45:15.085Z"
   },
   {
    "duration": 77,
    "start_time": "2022-09-19T15:45:16.633Z"
   },
   {
    "duration": 80,
    "start_time": "2022-09-19T15:45:25.618Z"
   },
   {
    "duration": 149,
    "start_time": "2022-09-19T15:45:27.145Z"
   },
   {
    "duration": 136,
    "start_time": "2022-09-19T15:45:29.209Z"
   },
   {
    "duration": 137,
    "start_time": "2022-09-19T15:45:30.272Z"
   },
   {
    "duration": 159,
    "start_time": "2022-09-19T15:45:31.137Z"
   },
   {
    "duration": 134,
    "start_time": "2022-09-19T15:45:32.035Z"
   },
   {
    "duration": 165,
    "start_time": "2022-09-19T15:45:32.718Z"
   },
   {
    "duration": 140,
    "start_time": "2022-09-19T15:45:34.665Z"
   },
   {
    "duration": 33,
    "start_time": "2022-09-19T15:45:35.762Z"
   },
   {
    "duration": 22,
    "start_time": "2022-09-19T15:45:38.037Z"
   },
   {
    "duration": 23,
    "start_time": "2022-09-19T15:45:48.592Z"
   },
   {
    "duration": 109,
    "start_time": "2022-09-19T15:46:45.833Z"
   },
   {
    "duration": 31,
    "start_time": "2022-09-19T15:46:46.333Z"
   },
   {
    "duration": 33,
    "start_time": "2022-09-19T15:46:47.765Z"
   },
   {
    "duration": 83,
    "start_time": "2022-09-19T15:46:56.219Z"
   },
   {
    "duration": 18,
    "start_time": "2022-09-19T15:46:57.722Z"
   },
   {
    "duration": 28,
    "start_time": "2022-09-19T15:46:58.703Z"
   },
   {
    "duration": 5,
    "start_time": "2022-09-19T15:47:01.785Z"
   },
   {
    "duration": 4,
    "start_time": "2022-09-19T15:47:03.932Z"
   },
   {
    "duration": 4,
    "start_time": "2022-09-19T15:47:05.352Z"
   },
   {
    "duration": 12,
    "start_time": "2022-09-19T15:47:06.208Z"
   },
   {
    "duration": 5,
    "start_time": "2022-09-19T15:47:09.811Z"
   },
   {
    "duration": 28,
    "start_time": "2022-09-19T15:47:11.086Z"
   },
   {
    "duration": 5,
    "start_time": "2022-09-19T15:47:12.205Z"
   },
   {
    "duration": 16,
    "start_time": "2022-09-19T15:47:13.263Z"
   },
   {
    "duration": 14,
    "start_time": "2022-09-19T15:47:14.116Z"
   },
   {
    "duration": 67,
    "start_time": "2022-09-19T15:47:14.970Z"
   },
   {
    "duration": 15,
    "start_time": "2022-09-19T15:47:15.517Z"
   },
   {
    "duration": 17,
    "start_time": "2022-09-19T15:47:16.117Z"
   },
   {
    "duration": 6,
    "start_time": "2022-09-19T15:47:16.694Z"
   },
   {
    "duration": 19,
    "start_time": "2022-09-19T15:47:17.136Z"
   },
   {
    "duration": 5,
    "start_time": "2022-09-19T15:47:17.681Z"
   },
   {
    "duration": 4,
    "start_time": "2022-09-19T15:47:18.307Z"
   },
   {
    "duration": 33,
    "start_time": "2022-09-19T15:47:20.103Z"
   },
   {
    "duration": 34,
    "start_time": "2022-09-19T15:47:22.919Z"
   },
   {
    "duration": 8,
    "start_time": "2022-09-19T15:47:23.607Z"
   },
   {
    "duration": 29,
    "start_time": "2022-09-19T15:47:26.224Z"
   },
   {
    "duration": 44,
    "start_time": "2022-09-19T15:47:26.792Z"
   },
   {
    "duration": 16,
    "start_time": "2022-09-19T15:47:27.933Z"
   },
   {
    "duration": 378,
    "start_time": "2022-09-19T15:47:29.669Z"
   },
   {
    "duration": 31,
    "start_time": "2022-09-19T15:47:30.085Z"
   },
   {
    "duration": 12,
    "start_time": "2022-09-19T15:47:30.663Z"
   },
   {
    "duration": 94,
    "start_time": "2022-09-19T15:47:37.254Z"
   },
   {
    "duration": 141,
    "start_time": "2022-09-19T15:47:39.146Z"
   },
   {
    "duration": 147,
    "start_time": "2022-09-19T15:47:40.337Z"
   },
   {
    "duration": 30,
    "start_time": "2022-09-19T15:48:03.020Z"
   },
   {
    "duration": 135,
    "start_time": "2022-09-19T15:48:09.632Z"
   },
   {
    "duration": 225,
    "start_time": "2022-09-19T15:48:13.283Z"
   },
   {
    "duration": 147,
    "start_time": "2022-09-19T15:48:15.494Z"
   },
   {
    "duration": 280,
    "start_time": "2022-09-19T15:48:16.691Z"
   },
   {
    "duration": 150,
    "start_time": "2022-09-19T15:48:17.756Z"
   },
   {
    "duration": 95,
    "start_time": "2022-09-19T15:48:18.907Z"
   },
   {
    "duration": 24,
    "start_time": "2022-09-19T15:48:20.069Z"
   },
   {
    "duration": 19,
    "start_time": "2022-09-19T15:48:33.449Z"
   },
   {
    "duration": 1338,
    "start_time": "2022-09-19T15:48:34.207Z"
   },
   {
    "duration": 28,
    "start_time": "2022-09-19T15:48:43.820Z"
   },
   {
    "duration": 22,
    "start_time": "2022-09-19T15:48:57.593Z"
   },
   {
    "duration": 23,
    "start_time": "2022-09-19T15:49:08.627Z"
   },
   {
    "duration": 24,
    "start_time": "2022-09-19T15:49:21.282Z"
   },
   {
    "duration": 25,
    "start_time": "2022-09-19T15:49:27.918Z"
   },
   {
    "duration": 88,
    "start_time": "2022-09-19T15:49:35.720Z"
   },
   {
    "duration": 111,
    "start_time": "2022-09-19T15:50:30.725Z"
   },
   {
    "duration": 27,
    "start_time": "2022-09-19T15:50:30.965Z"
   },
   {
    "duration": 23,
    "start_time": "2022-09-19T15:50:31.155Z"
   },
   {
    "duration": 73,
    "start_time": "2022-09-19T15:50:31.347Z"
   },
   {
    "duration": 13,
    "start_time": "2022-09-19T15:50:31.548Z"
   },
   {
    "duration": 19,
    "start_time": "2022-09-19T15:50:32.290Z"
   },
   {
    "duration": 7,
    "start_time": "2022-09-19T15:50:33.376Z"
   },
   {
    "duration": 4,
    "start_time": "2022-09-19T15:50:33.563Z"
   },
   {
    "duration": 4,
    "start_time": "2022-09-19T15:50:33.741Z"
   },
   {
    "duration": 9,
    "start_time": "2022-09-19T15:50:34.173Z"
   },
   {
    "duration": 6,
    "start_time": "2022-09-19T15:50:34.682Z"
   },
   {
    "duration": 25,
    "start_time": "2022-09-19T15:50:34.953Z"
   },
   {
    "duration": 6,
    "start_time": "2022-09-19T15:50:35.254Z"
   },
   {
    "duration": 16,
    "start_time": "2022-09-19T15:50:36.796Z"
   },
   {
    "duration": 9,
    "start_time": "2022-09-19T15:50:37.077Z"
   },
   {
    "duration": 76,
    "start_time": "2022-09-19T15:50:37.611Z"
   },
   {
    "duration": 6,
    "start_time": "2022-09-19T15:50:38.044Z"
   },
   {
    "duration": 11,
    "start_time": "2022-09-19T15:50:38.388Z"
   },
   {
    "duration": 5,
    "start_time": "2022-09-19T15:50:38.693Z"
   },
   {
    "duration": 17,
    "start_time": "2022-09-19T15:50:38.986Z"
   },
   {
    "duration": 13,
    "start_time": "2022-09-19T15:50:39.317Z"
   },
   {
    "duration": 4,
    "start_time": "2022-09-19T15:50:39.749Z"
   },
   {
    "duration": 25,
    "start_time": "2022-09-19T15:50:40.633Z"
   },
   {
    "duration": 31,
    "start_time": "2022-09-19T15:50:42.476Z"
   },
   {
    "duration": 8,
    "start_time": "2022-09-19T15:50:42.947Z"
   },
   {
    "duration": 20,
    "start_time": "2022-09-19T15:50:43.652Z"
   },
   {
    "duration": 38,
    "start_time": "2022-09-19T15:50:43.914Z"
   },
   {
    "duration": 14,
    "start_time": "2022-09-19T15:50:44.248Z"
   },
   {
    "duration": 321,
    "start_time": "2022-09-19T15:50:44.972Z"
   },
   {
    "duration": 32,
    "start_time": "2022-09-19T15:50:45.404Z"
   },
   {
    "duration": 14,
    "start_time": "2022-09-19T15:50:46.066Z"
   },
   {
    "duration": 95,
    "start_time": "2022-09-19T15:50:47.352Z"
   },
   {
    "duration": 146,
    "start_time": "2022-09-19T15:50:49.351Z"
   },
   {
    "duration": 147,
    "start_time": "2022-09-19T15:50:51.657Z"
   },
   {
    "duration": 27,
    "start_time": "2022-09-19T15:50:52.715Z"
   },
   {
    "duration": 136,
    "start_time": "2022-09-19T15:50:55.044Z"
   },
   {
    "duration": 29,
    "start_time": "2022-09-19T15:50:59.013Z"
   },
   {
    "duration": 295,
    "start_time": "2022-09-19T15:51:11.801Z"
   },
   {
    "duration": 22,
    "start_time": "2022-09-19T15:51:13.091Z"
   },
   {
    "duration": 114,
    "start_time": "2022-09-19T15:51:39.624Z"
   },
   {
    "duration": 1067,
    "start_time": "2022-09-20T10:43:10.199Z"
   },
   {
    "duration": 33,
    "start_time": "2022-09-20T10:43:11.268Z"
   },
   {
    "duration": 31,
    "start_time": "2022-09-20T10:43:11.303Z"
   },
   {
    "duration": 99,
    "start_time": "2022-09-20T10:43:11.336Z"
   },
   {
    "duration": 15,
    "start_time": "2022-09-20T10:43:11.437Z"
   },
   {
    "duration": 40,
    "start_time": "2022-09-20T10:43:11.454Z"
   },
   {
    "duration": 5,
    "start_time": "2022-09-20T10:43:11.777Z"
   },
   {
    "duration": 5,
    "start_time": "2022-09-20T10:43:11.972Z"
   },
   {
    "duration": 4,
    "start_time": "2022-09-20T10:43:12.173Z"
   },
   {
    "duration": 12,
    "start_time": "2022-09-20T10:43:12.396Z"
   },
   {
    "duration": 6,
    "start_time": "2022-09-20T10:43:12.841Z"
   },
   {
    "duration": 25,
    "start_time": "2022-09-20T10:43:13.027Z"
   },
   {
    "duration": 5,
    "start_time": "2022-09-20T10:43:13.256Z"
   },
   {
    "duration": 19,
    "start_time": "2022-09-20T10:43:13.481Z"
   },
   {
    "duration": 13,
    "start_time": "2022-09-20T10:43:13.703Z"
   },
   {
    "duration": 73,
    "start_time": "2022-09-20T10:43:13.944Z"
   },
   {
    "duration": 8,
    "start_time": "2022-09-20T10:43:14.187Z"
   },
   {
    "duration": 14,
    "start_time": "2022-09-20T10:43:14.416Z"
   },
   {
    "duration": 6,
    "start_time": "2022-09-20T10:43:14.684Z"
   },
   {
    "duration": 21,
    "start_time": "2022-09-20T10:43:14.927Z"
   },
   {
    "duration": 5,
    "start_time": "2022-09-20T10:43:15.326Z"
   },
   {
    "duration": 4,
    "start_time": "2022-09-20T10:43:15.563Z"
   },
   {
    "duration": 35,
    "start_time": "2022-09-20T10:43:16.240Z"
   },
   {
    "duration": 40,
    "start_time": "2022-09-20T10:43:17.770Z"
   },
   {
    "duration": 11,
    "start_time": "2022-09-20T10:43:18.216Z"
   },
   {
    "duration": 24,
    "start_time": "2022-09-20T10:43:18.816Z"
   },
   {
    "duration": 45,
    "start_time": "2022-09-20T10:43:19.149Z"
   },
   {
    "duration": 16,
    "start_time": "2022-09-20T10:43:19.440Z"
   },
   {
    "duration": 330,
    "start_time": "2022-09-20T10:43:19.747Z"
   },
   {
    "duration": 29,
    "start_time": "2022-09-20T10:43:20.079Z"
   },
   {
    "duration": 16,
    "start_time": "2022-09-20T10:43:20.269Z"
   },
   {
    "duration": 101,
    "start_time": "2022-09-20T10:43:21.150Z"
   },
   {
    "duration": 243,
    "start_time": "2022-09-20T10:43:21.876Z"
   },
   {
    "duration": 217,
    "start_time": "2022-09-20T10:43:22.400Z"
   },
   {
    "duration": 32,
    "start_time": "2022-09-20T10:43:42.310Z"
   },
   {
    "duration": 161,
    "start_time": "2022-09-20T10:43:43.046Z"
   },
   {
    "duration": 26,
    "start_time": "2022-09-20T10:43:46.526Z"
   },
   {
    "duration": 142,
    "start_time": "2022-09-20T10:43:49.836Z"
   },
   {
    "duration": 29,
    "start_time": "2022-09-20T10:43:53.804Z"
   },
   {
    "duration": 160,
    "start_time": "2022-09-20T10:43:55.465Z"
   },
   {
    "duration": 24,
    "start_time": "2022-09-20T10:43:59.465Z"
   },
   {
    "duration": 143,
    "start_time": "2022-09-20T10:44:46.621Z"
   },
   {
    "duration": 27,
    "start_time": "2022-09-20T10:45:04.792Z"
   },
   {
    "duration": 161,
    "start_time": "2022-09-20T10:45:21.689Z"
   },
   {
    "duration": 25,
    "start_time": "2022-09-20T10:45:22.942Z"
   },
   {
    "duration": 98,
    "start_time": "2022-09-20T10:45:25.691Z"
   },
   {
    "duration": 195,
    "start_time": "2022-09-20T10:45:36.327Z"
   },
   {
    "duration": 123,
    "start_time": "2022-09-20T10:45:39.830Z"
   },
   {
    "duration": 1729,
    "start_time": "2022-09-20T10:46:09.488Z"
   },
   {
    "duration": 35,
    "start_time": "2022-09-20T10:46:18.588Z"
   },
   {
    "duration": 120,
    "start_time": "2022-09-20T10:46:23.537Z"
   },
   {
    "duration": 12,
    "start_time": "2022-09-20T10:53:10.483Z"
   },
   {
    "duration": 120,
    "start_time": "2022-09-20T10:53:23.234Z"
   },
   {
    "duration": 8,
    "start_time": "2022-09-20T10:57:30.041Z"
   },
   {
    "duration": 41,
    "start_time": "2022-09-20T10:57:53.988Z"
   },
   {
    "duration": 26,
    "start_time": "2022-09-20T10:58:42.986Z"
   },
   {
    "duration": 227,
    "start_time": "2022-09-20T10:59:49.196Z"
   },
   {
    "duration": 114,
    "start_time": "2022-09-20T11:00:14.005Z"
   },
   {
    "duration": 114,
    "start_time": "2022-09-20T11:03:14.507Z"
   },
   {
    "duration": 196,
    "start_time": "2022-09-20T11:08:16.107Z"
   },
   {
    "duration": 126,
    "start_time": "2022-09-20T11:14:51.680Z"
   },
   {
    "duration": 125,
    "start_time": "2022-09-20T11:16:50.736Z"
   },
   {
    "duration": 30,
    "start_time": "2022-09-20T11:16:50.894Z"
   },
   {
    "duration": 27,
    "start_time": "2022-09-20T11:16:51.068Z"
   },
   {
    "duration": 75,
    "start_time": "2022-09-20T11:16:51.253Z"
   },
   {
    "duration": 14,
    "start_time": "2022-09-20T11:16:51.437Z"
   },
   {
    "duration": 22,
    "start_time": "2022-09-20T11:16:51.597Z"
   },
   {
    "duration": 7,
    "start_time": "2022-09-20T11:16:52.143Z"
   },
   {
    "duration": 4,
    "start_time": "2022-09-20T11:16:52.321Z"
   },
   {
    "duration": 4,
    "start_time": "2022-09-20T11:16:52.688Z"
   },
   {
    "duration": 10,
    "start_time": "2022-09-20T11:16:52.848Z"
   },
   {
    "duration": 6,
    "start_time": "2022-09-20T11:16:53.219Z"
   },
   {
    "duration": 27,
    "start_time": "2022-09-20T11:16:53.395Z"
   },
   {
    "duration": 6,
    "start_time": "2022-09-20T11:16:53.587Z"
   },
   {
    "duration": 19,
    "start_time": "2022-09-20T11:16:53.765Z"
   },
   {
    "duration": 10,
    "start_time": "2022-09-20T11:16:53.955Z"
   },
   {
    "duration": 70,
    "start_time": "2022-09-20T11:16:54.146Z"
   },
   {
    "duration": 6,
    "start_time": "2022-09-20T11:16:54.339Z"
   },
   {
    "duration": 13,
    "start_time": "2022-09-20T11:16:54.494Z"
   },
   {
    "duration": 5,
    "start_time": "2022-09-20T11:16:54.697Z"
   },
   {
    "duration": 21,
    "start_time": "2022-09-20T11:16:54.887Z"
   },
   {
    "duration": 5,
    "start_time": "2022-09-20T11:16:55.065Z"
   },
   {
    "duration": 4,
    "start_time": "2022-09-20T11:16:55.257Z"
   },
   {
    "duration": 41,
    "start_time": "2022-09-20T11:16:55.843Z"
   },
   {
    "duration": 34,
    "start_time": "2022-09-20T11:16:56.607Z"
   },
   {
    "duration": 9,
    "start_time": "2022-09-20T11:16:56.785Z"
   },
   {
    "duration": 24,
    "start_time": "2022-09-20T11:16:57.169Z"
   },
   {
    "duration": 37,
    "start_time": "2022-09-20T11:16:57.374Z"
   },
   {
    "duration": 17,
    "start_time": "2022-09-20T11:16:57.564Z"
   },
   {
    "duration": 317,
    "start_time": "2022-09-20T11:16:57.781Z"
   },
   {
    "duration": 27,
    "start_time": "2022-09-20T11:16:58.100Z"
   },
   {
    "duration": 13,
    "start_time": "2022-09-20T11:16:58.433Z"
   },
   {
    "duration": 102,
    "start_time": "2022-09-20T11:17:00.241Z"
   },
   {
    "duration": 160,
    "start_time": "2022-09-20T11:17:01.061Z"
   },
   {
    "duration": 161,
    "start_time": "2022-09-20T11:17:01.454Z"
   },
   {
    "duration": 8,
    "start_time": "2022-09-20T11:19:16.545Z"
   },
   {
    "duration": 3,
    "start_time": "2022-09-20T11:19:20.635Z"
   },
   {
    "duration": 8,
    "start_time": "2022-09-20T11:19:22.383Z"
   },
   {
    "duration": 156,
    "start_time": "2022-09-20T11:19:50.435Z"
   },
   {
    "duration": 34,
    "start_time": "2022-09-20T11:19:51.940Z"
   },
   {
    "duration": 154,
    "start_time": "2022-09-20T11:19:52.849Z"
   },
   {
    "duration": 26,
    "start_time": "2022-09-20T11:19:53.947Z"
   },
   {
    "duration": 154,
    "start_time": "2022-09-20T11:19:57.244Z"
   },
   {
    "duration": 25,
    "start_time": "2022-09-20T11:19:58.813Z"
   },
   {
    "duration": 147,
    "start_time": "2022-09-20T11:19:59.964Z"
   },
   {
    "duration": 134,
    "start_time": "2022-09-20T11:20:02.572Z"
   },
   {
    "duration": 7,
    "start_time": "2022-09-20T11:20:19.141Z"
   },
   {
    "duration": 27,
    "start_time": "2022-09-20T11:27:29.472Z"
   },
   {
    "duration": 11,
    "start_time": "2022-09-20T11:32:45.953Z"
   },
   {
    "duration": 12,
    "start_time": "2022-09-20T11:33:07.591Z"
   },
   {
    "duration": 88,
    "start_time": "2022-09-20T11:34:02.902Z"
   },
   {
    "duration": 12,
    "start_time": "2022-09-20T11:34:17.665Z"
   },
   {
    "duration": 134,
    "start_time": "2022-09-20T11:34:53.767Z"
   },
   {
    "duration": 18,
    "start_time": "2022-09-20T11:35:28.654Z"
   },
   {
    "duration": 18,
    "start_time": "2022-09-20T11:36:09.068Z"
   },
   {
    "duration": 18,
    "start_time": "2022-09-20T11:36:16.797Z"
   },
   {
    "duration": 16,
    "start_time": "2022-09-20T11:37:39.342Z"
   },
   {
    "duration": 1992,
    "start_time": "2022-09-20T11:38:43.913Z"
   },
   {
    "duration": 26,
    "start_time": "2022-09-20T11:39:08.969Z"
   },
   {
    "duration": 18,
    "start_time": "2022-09-20T11:39:18.904Z"
   },
   {
    "duration": 1449,
    "start_time": "2022-09-20T11:39:21.596Z"
   },
   {
    "duration": 124,
    "start_time": "2022-09-20T11:39:29.472Z"
   },
   {
    "duration": 219,
    "start_time": "2022-09-20T11:45:19.711Z"
   },
   {
    "duration": 241,
    "start_time": "2022-09-20T11:45:54.642Z"
   },
   {
    "duration": 1467,
    "start_time": "2022-09-20T11:46:31.855Z"
   },
   {
    "duration": 406,
    "start_time": "2022-09-20T11:46:50.801Z"
   },
   {
    "duration": 97,
    "start_time": "2022-09-20T11:48:00.046Z"
   },
   {
    "duration": 289,
    "start_time": "2022-09-20T11:59:45.509Z"
   },
   {
    "duration": 247,
    "start_time": "2022-09-20T12:00:14.142Z"
   },
   {
    "duration": 130,
    "start_time": "2022-09-20T12:00:17.997Z"
   },
   {
    "duration": 179,
    "start_time": "2022-09-20T12:00:21.987Z"
   },
   {
    "duration": 152,
    "start_time": "2022-09-20T12:00:25.878Z"
   },
   {
    "duration": 129,
    "start_time": "2022-09-20T12:00:30.864Z"
   },
   {
    "duration": 147,
    "start_time": "2022-09-20T12:00:33.225Z"
   },
   {
    "duration": 131,
    "start_time": "2022-09-20T12:00:38.658Z"
   },
   {
    "duration": 261,
    "start_time": "2022-09-20T12:01:30.839Z"
   },
   {
    "duration": 5,
    "start_time": "2022-09-20T12:02:11.653Z"
   },
   {
    "duration": 6,
    "start_time": "2022-09-20T12:05:46.739Z"
   },
   {
    "duration": 125,
    "start_time": "2022-09-20T12:06:01.114Z"
   },
   {
    "duration": 30,
    "start_time": "2022-09-20T12:06:01.321Z"
   },
   {
    "duration": 28,
    "start_time": "2022-09-20T12:06:01.634Z"
   },
   {
    "duration": 74,
    "start_time": "2022-09-20T12:06:02.182Z"
   },
   {
    "duration": 14,
    "start_time": "2022-09-20T12:06:02.385Z"
   },
   {
    "duration": 22,
    "start_time": "2022-09-20T12:06:02.564Z"
   },
   {
    "duration": 4,
    "start_time": "2022-09-20T12:06:03.150Z"
   },
   {
    "duration": 4,
    "start_time": "2022-09-20T12:06:03.340Z"
   },
   {
    "duration": 4,
    "start_time": "2022-09-20T12:06:03.531Z"
   },
   {
    "duration": 9,
    "start_time": "2022-09-20T12:06:03.722Z"
   },
   {
    "duration": 6,
    "start_time": "2022-09-20T12:06:04.129Z"
   },
   {
    "duration": 25,
    "start_time": "2022-09-20T12:06:04.334Z"
   },
   {
    "duration": 6,
    "start_time": "2022-09-20T12:06:04.537Z"
   },
   {
    "duration": 18,
    "start_time": "2022-09-20T12:06:04.728Z"
   },
   {
    "duration": 9,
    "start_time": "2022-09-20T12:06:04.919Z"
   },
   {
    "duration": 71,
    "start_time": "2022-09-20T12:06:05.097Z"
   },
   {
    "duration": 6,
    "start_time": "2022-09-20T12:06:05.289Z"
   },
   {
    "duration": 11,
    "start_time": "2022-09-20T12:06:05.480Z"
   },
   {
    "duration": 6,
    "start_time": "2022-09-20T12:06:05.683Z"
   },
   {
    "duration": 21,
    "start_time": "2022-09-20T12:06:05.875Z"
   },
   {
    "duration": 4,
    "start_time": "2022-09-20T12:06:06.053Z"
   },
   {
    "duration": 3,
    "start_time": "2022-09-20T12:06:06.256Z"
   },
   {
    "duration": 26,
    "start_time": "2022-09-20T12:06:06.817Z"
   },
   {
    "duration": 39,
    "start_time": "2022-09-20T12:06:07.622Z"
   },
   {
    "duration": 8,
    "start_time": "2022-09-20T12:06:07.822Z"
   },
   {
    "duration": 24,
    "start_time": "2022-09-20T12:06:08.230Z"
   },
   {
    "duration": 37,
    "start_time": "2022-09-20T12:06:08.448Z"
   },
   {
    "duration": 16,
    "start_time": "2022-09-20T12:06:08.680Z"
   },
   {
    "duration": 326,
    "start_time": "2022-09-20T12:06:08.906Z"
   },
   {
    "duration": 26,
    "start_time": "2022-09-20T12:06:09.234Z"
   },
   {
    "duration": 14,
    "start_time": "2022-09-20T12:06:09.340Z"
   },
   {
    "duration": 90,
    "start_time": "2022-09-20T12:06:09.759Z"
   },
   {
    "duration": 25,
    "start_time": "2022-09-20T12:06:09.989Z"
   },
   {
    "duration": 155,
    "start_time": "2022-09-20T12:06:10.434Z"
   },
   {
    "duration": 3,
    "start_time": "2022-09-20T12:06:10.655Z"
   },
   {
    "duration": 4,
    "start_time": "2022-09-20T12:06:10.854Z"
   },
   {
    "duration": 7,
    "start_time": "2022-09-20T12:06:11.122Z"
   },
   {
    "duration": 311,
    "start_time": "2022-09-20T12:06:11.721Z"
   },
   {
    "duration": 26,
    "start_time": "2022-09-20T12:06:12.034Z"
   },
   {
    "duration": 157,
    "start_time": "2022-09-20T12:06:12.243Z"
   },
   {
    "duration": 27,
    "start_time": "2022-09-20T12:06:12.524Z"
   },
   {
    "duration": 9,
    "start_time": "2022-09-20T12:06:12.800Z"
   },
   {
    "duration": 145,
    "start_time": "2022-09-20T12:06:13.117Z"
   },
   {
    "duration": 140,
    "start_time": "2022-09-20T12:06:13.402Z"
   },
   {
    "duration": 138,
    "start_time": "2022-09-20T12:06:13.682Z"
   },
   {
    "duration": 138,
    "start_time": "2022-09-20T12:06:14.039Z"
   },
   {
    "duration": 9,
    "start_time": "2022-09-20T12:06:14.395Z"
   },
   {
    "duration": 24,
    "start_time": "2022-09-20T12:06:14.819Z"
   },
   {
    "duration": 24,
    "start_time": "2022-09-20T12:06:15.885Z"
   },
   {
    "duration": 99,
    "start_time": "2022-09-20T12:06:17.935Z"
   },
   {
    "duration": 368,
    "start_time": "2022-09-20T12:06:18.534Z"
   },
   {
    "duration": 5,
    "start_time": "2022-09-20T12:06:18.981Z"
   },
   {
    "duration": 211,
    "start_time": "2022-09-20T12:06:19.707Z"
   },
   {
    "duration": 367,
    "start_time": "2022-09-20T12:06:40.204Z"
   },
   {
    "duration": 5,
    "start_time": "2022-09-20T12:06:40.922Z"
   },
   {
    "duration": 201,
    "start_time": "2022-09-20T12:06:42.028Z"
   },
   {
    "duration": 140,
    "start_time": "2022-09-20T12:06:44.232Z"
   },
   {
    "duration": 392,
    "start_time": "2022-09-20T12:06:45.290Z"
   },
   {
    "duration": 139,
    "start_time": "2022-09-20T12:06:46.721Z"
   },
   {
    "duration": 139,
    "start_time": "2022-09-20T12:06:47.091Z"
   },
   {
    "duration": 132,
    "start_time": "2022-09-20T12:06:47.495Z"
   },
   {
    "duration": 136,
    "start_time": "2022-09-20T12:06:48.893Z"
   },
   {
    "duration": 10,
    "start_time": "2022-09-20T12:08:43.825Z"
   },
   {
    "duration": 129,
    "start_time": "2022-09-20T12:08:56.181Z"
   },
   {
    "duration": 118,
    "start_time": "2022-09-20T12:09:27.069Z"
   },
   {
    "duration": 131,
    "start_time": "2022-09-20T12:09:30.775Z"
   },
   {
    "duration": 4,
    "start_time": "2022-09-20T12:09:51.876Z"
   },
   {
    "duration": 4,
    "start_time": "2022-09-20T12:09:52.521Z"
   },
   {
    "duration": 93,
    "start_time": "2022-09-20T12:09:53.575Z"
   },
   {
    "duration": 120,
    "start_time": "2022-09-20T12:10:32.977Z"
   },
   {
    "duration": 138,
    "start_time": "2022-09-20T12:10:38.986Z"
   },
   {
    "duration": 79,
    "start_time": "2022-09-20T12:10:55.361Z"
   },
   {
    "duration": 155,
    "start_time": "2022-09-20T12:11:02.574Z"
   },
   {
    "duration": 101,
    "start_time": "2022-09-20T12:11:50.553Z"
   },
   {
    "duration": 37,
    "start_time": "2022-09-20T12:14:56.400Z"
   },
   {
    "duration": 131,
    "start_time": "2022-09-20T12:15:01.394Z"
   },
   {
    "duration": 101,
    "start_time": "2022-09-20T12:15:59.043Z"
   },
   {
    "duration": 115,
    "start_time": "2022-09-20T12:16:18.158Z"
   },
   {
    "duration": 117,
    "start_time": "2022-09-20T12:17:17.532Z"
   },
   {
    "duration": 957,
    "start_time": "2022-09-20T12:20:30.909Z"
   },
   {
    "duration": 45,
    "start_time": "2022-09-20T12:20:31.869Z"
   },
   {
    "duration": 36,
    "start_time": "2022-09-20T12:20:31.916Z"
   },
   {
    "duration": 119,
    "start_time": "2022-09-20T12:20:31.955Z"
   },
   {
    "duration": 21,
    "start_time": "2022-09-20T12:20:32.075Z"
   },
   {
    "duration": 26,
    "start_time": "2022-09-20T12:20:32.098Z"
   },
   {
    "duration": 4,
    "start_time": "2022-09-20T12:20:32.126Z"
   },
   {
    "duration": 8,
    "start_time": "2022-09-20T12:20:32.132Z"
   },
   {
    "duration": 9,
    "start_time": "2022-09-20T12:20:32.142Z"
   },
   {
    "duration": 41,
    "start_time": "2022-09-20T12:20:32.154Z"
   },
   {
    "duration": 9,
    "start_time": "2022-09-20T12:20:32.197Z"
   },
   {
    "duration": 29,
    "start_time": "2022-09-20T12:20:32.208Z"
   },
   {
    "duration": 9,
    "start_time": "2022-09-20T12:20:32.239Z"
   },
   {
    "duration": 21,
    "start_time": "2022-09-20T12:20:32.249Z"
   },
   {
    "duration": 11,
    "start_time": "2022-09-20T12:20:32.289Z"
   },
   {
    "duration": 70,
    "start_time": "2022-09-20T12:20:32.301Z"
   },
   {
    "duration": 20,
    "start_time": "2022-09-20T12:20:32.372Z"
   },
   {
    "duration": 18,
    "start_time": "2022-09-20T12:20:32.394Z"
   },
   {
    "duration": 5,
    "start_time": "2022-09-20T12:20:32.413Z"
   },
   {
    "duration": 21,
    "start_time": "2022-09-20T12:20:32.420Z"
   },
   {
    "duration": 4,
    "start_time": "2022-09-20T12:20:32.443Z"
   },
   {
    "duration": 10,
    "start_time": "2022-09-20T12:20:32.448Z"
   },
   {
    "duration": 51,
    "start_time": "2022-09-20T12:20:32.460Z"
   },
   {
    "duration": 36,
    "start_time": "2022-09-20T12:20:32.513Z"
   },
   {
    "duration": 8,
    "start_time": "2022-09-20T12:20:32.551Z"
   },
   {
    "duration": 47,
    "start_time": "2022-09-20T12:20:32.560Z"
   },
   {
    "duration": 39,
    "start_time": "2022-09-20T12:20:32.609Z"
   },
   {
    "duration": 17,
    "start_time": "2022-09-20T12:20:32.652Z"
   },
   {
    "duration": 355,
    "start_time": "2022-09-20T12:20:32.670Z"
   },
   {
    "duration": 26,
    "start_time": "2022-09-20T12:20:33.027Z"
   },
   {
    "duration": 15,
    "start_time": "2022-09-20T12:20:33.055Z"
   },
   {
    "duration": 106,
    "start_time": "2022-09-20T12:20:33.072Z"
   },
   {
    "duration": 25,
    "start_time": "2022-09-20T12:20:33.189Z"
   },
   {
    "duration": 185,
    "start_time": "2022-09-20T12:20:33.216Z"
   },
   {
    "duration": 4,
    "start_time": "2022-09-20T12:20:33.403Z"
   },
   {
    "duration": 7,
    "start_time": "2022-09-20T12:20:33.409Z"
   },
   {
    "duration": 48,
    "start_time": "2022-09-20T12:20:33.417Z"
   },
   {
    "duration": 234,
    "start_time": "2022-09-20T12:20:33.467Z"
   },
   {
    "duration": 25,
    "start_time": "2022-09-20T12:20:33.702Z"
   },
   {
    "duration": 161,
    "start_time": "2022-09-20T12:20:33.729Z"
   },
   {
    "duration": 25,
    "start_time": "2022-09-20T12:20:33.892Z"
   },
   {
    "duration": 7,
    "start_time": "2022-09-20T12:20:33.919Z"
   },
   {
    "duration": 167,
    "start_time": "2022-09-20T12:20:33.927Z"
   },
   {
    "duration": 152,
    "start_time": "2022-09-20T12:20:34.095Z"
   },
   {
    "duration": 156,
    "start_time": "2022-09-20T12:20:34.249Z"
   },
   {
    "duration": 147,
    "start_time": "2022-09-20T12:20:34.407Z"
   },
   {
    "duration": 7,
    "start_time": "2022-09-20T12:20:34.556Z"
   },
   {
    "duration": 40,
    "start_time": "2022-09-20T12:20:34.564Z"
   },
   {
    "duration": 27,
    "start_time": "2022-09-20T12:20:34.605Z"
   },
   {
    "duration": 104,
    "start_time": "2022-09-20T12:20:34.634Z"
   },
   {
    "duration": 394,
    "start_time": "2022-09-20T12:20:34.739Z"
   },
   {
    "duration": 5,
    "start_time": "2022-09-20T12:20:35.135Z"
   },
   {
    "duration": 436,
    "start_time": "2022-09-20T12:20:35.141Z"
   },
   {
    "duration": 0,
    "start_time": "2022-09-20T12:20:35.589Z"
   },
   {
    "duration": 0,
    "start_time": "2022-09-20T12:20:35.590Z"
   },
   {
    "duration": 0,
    "start_time": "2022-09-20T12:20:35.592Z"
   },
   {
    "duration": 0,
    "start_time": "2022-09-20T12:20:35.593Z"
   },
   {
    "duration": 0,
    "start_time": "2022-09-20T12:20:35.595Z"
   },
   {
    "duration": 0,
    "start_time": "2022-09-20T12:20:35.597Z"
   },
   {
    "duration": 0,
    "start_time": "2022-09-20T12:20:35.599Z"
   },
   {
    "duration": 0,
    "start_time": "2022-09-20T12:20:35.600Z"
   },
   {
    "duration": 0,
    "start_time": "2022-09-20T12:20:35.602Z"
   },
   {
    "duration": 0,
    "start_time": "2022-09-20T12:20:35.604Z"
   },
   {
    "duration": 0,
    "start_time": "2022-09-20T12:20:35.605Z"
   },
   {
    "duration": 0,
    "start_time": "2022-09-20T12:20:35.607Z"
   },
   {
    "duration": 120,
    "start_time": "2022-09-20T12:20:43.484Z"
   },
   {
    "duration": 31,
    "start_time": "2022-09-20T12:20:43.713Z"
   },
   {
    "duration": 29,
    "start_time": "2022-09-20T12:20:44.325Z"
   },
   {
    "duration": 94,
    "start_time": "2022-09-20T12:20:44.515Z"
   },
   {
    "duration": 22,
    "start_time": "2022-09-20T12:20:45.013Z"
   },
   {
    "duration": 32,
    "start_time": "2022-09-20T12:20:45.244Z"
   },
   {
    "duration": 4,
    "start_time": "2022-09-20T12:20:46.108Z"
   },
   {
    "duration": 4,
    "start_time": "2022-09-20T12:20:46.579Z"
   },
   {
    "duration": 4,
    "start_time": "2022-09-20T12:20:47.001Z"
   },
   {
    "duration": 15,
    "start_time": "2022-09-20T12:20:47.308Z"
   },
   {
    "duration": 8,
    "start_time": "2022-09-20T12:20:47.944Z"
   },
   {
    "duration": 31,
    "start_time": "2022-09-20T12:20:48.262Z"
   },
   {
    "duration": 5,
    "start_time": "2022-09-20T12:20:48.574Z"
   },
   {
    "duration": 18,
    "start_time": "2022-09-20T12:20:48.875Z"
   },
   {
    "duration": 9,
    "start_time": "2022-09-20T12:20:49.171Z"
   },
   {
    "duration": 68,
    "start_time": "2022-09-20T12:20:49.475Z"
   },
   {
    "duration": 8,
    "start_time": "2022-09-20T12:20:49.714Z"
   },
   {
    "duration": 19,
    "start_time": "2022-09-20T12:20:49.984Z"
   },
   {
    "duration": 6,
    "start_time": "2022-09-20T12:20:50.249Z"
   },
   {
    "duration": 33,
    "start_time": "2022-09-20T12:20:50.504Z"
   },
   {
    "duration": 6,
    "start_time": "2022-09-20T12:20:50.976Z"
   },
   {
    "duration": 3,
    "start_time": "2022-09-20T12:20:51.306Z"
   },
   {
    "duration": 37,
    "start_time": "2022-09-20T12:20:52.658Z"
   },
   {
    "duration": 37,
    "start_time": "2022-09-20T12:20:55.091Z"
   },
   {
    "duration": 9,
    "start_time": "2022-09-20T12:20:56.059Z"
   },
   {
    "duration": 28,
    "start_time": "2022-09-20T12:20:57.027Z"
   },
   {
    "duration": 39,
    "start_time": "2022-09-20T12:20:57.741Z"
   },
   {
    "duration": 17,
    "start_time": "2022-09-20T12:20:58.583Z"
   },
   {
    "duration": 403,
    "start_time": "2022-09-20T12:20:59.374Z"
   },
   {
    "duration": 30,
    "start_time": "2022-09-20T12:21:07.007Z"
   },
   {
    "duration": 15,
    "start_time": "2022-09-20T12:21:11.693Z"
   },
   {
    "duration": 97,
    "start_time": "2022-09-20T12:21:13.184Z"
   },
   {
    "duration": 27,
    "start_time": "2022-09-20T12:21:18.320Z"
   },
   {
    "duration": 156,
    "start_time": "2022-09-20T12:21:22.207Z"
   },
   {
    "duration": 4,
    "start_time": "2022-09-20T12:21:23.240Z"
   },
   {
    "duration": 4,
    "start_time": "2022-09-20T12:21:24.092Z"
   },
   {
    "duration": 31,
    "start_time": "2022-09-20T12:21:25.283Z"
   },
   {
    "duration": 8,
    "start_time": "2022-09-20T12:21:58.040Z"
   },
   {
    "duration": 176,
    "start_time": "2022-09-20T12:22:07.676Z"
   },
   {
    "duration": 35,
    "start_time": "2022-09-20T12:22:08.776Z"
   },
   {
    "duration": 163,
    "start_time": "2022-09-20T12:22:09.536Z"
   },
   {
    "duration": 25,
    "start_time": "2022-09-20T12:22:10.881Z"
   },
   {
    "duration": 113,
    "start_time": "2022-09-20T12:22:29.046Z"
   },
   {
    "duration": 218,
    "start_time": "2022-09-20T12:22:29.910Z"
   },
   {
    "duration": 217,
    "start_time": "2022-09-20T12:22:30.754Z"
   },
   {
    "duration": 194,
    "start_time": "2022-09-20T12:22:31.961Z"
   },
   {
    "duration": 180,
    "start_time": "2022-09-20T12:22:48.644Z"
   },
   {
    "duration": 26,
    "start_time": "2022-09-20T12:22:49.558Z"
   },
   {
    "duration": 182,
    "start_time": "2022-09-20T12:23:06.707Z"
   },
   {
    "duration": 24,
    "start_time": "2022-09-20T12:23:26.533Z"
   },
   {
    "duration": 129,
    "start_time": "2022-09-20T12:23:32.126Z"
   },
   {
    "duration": 32,
    "start_time": "2022-09-20T12:23:32.398Z"
   },
   {
    "duration": 27,
    "start_time": "2022-09-20T12:23:32.559Z"
   },
   {
    "duration": 84,
    "start_time": "2022-09-20T12:23:33.201Z"
   },
   {
    "duration": 15,
    "start_time": "2022-09-20T12:23:33.309Z"
   },
   {
    "duration": 24,
    "start_time": "2022-09-20T12:23:33.641Z"
   },
   {
    "duration": 5,
    "start_time": "2022-09-20T12:23:34.417Z"
   },
   {
    "duration": 5,
    "start_time": "2022-09-20T12:23:34.634Z"
   },
   {
    "duration": 4,
    "start_time": "2022-09-20T12:23:34.851Z"
   },
   {
    "duration": 11,
    "start_time": "2022-09-20T12:23:35.080Z"
   },
   {
    "duration": 6,
    "start_time": "2022-09-20T12:23:35.474Z"
   },
   {
    "duration": 28,
    "start_time": "2022-09-20T12:23:35.695Z"
   },
   {
    "duration": 7,
    "start_time": "2022-09-20T12:23:36.008Z"
   },
   {
    "duration": 20,
    "start_time": "2022-09-20T12:23:36.125Z"
   },
   {
    "duration": 10,
    "start_time": "2022-09-20T12:23:36.382Z"
   },
   {
    "duration": 73,
    "start_time": "2022-09-20T12:23:36.562Z"
   },
   {
    "duration": 6,
    "start_time": "2022-09-20T12:23:36.788Z"
   },
   {
    "duration": 14,
    "start_time": "2022-09-20T12:23:36.991Z"
   },
   {
    "duration": 7,
    "start_time": "2022-09-20T12:23:37.220Z"
   },
   {
    "duration": 21,
    "start_time": "2022-09-20T12:23:37.476Z"
   },
   {
    "duration": 4,
    "start_time": "2022-09-20T12:23:37.705Z"
   },
   {
    "duration": 4,
    "start_time": "2022-09-20T12:23:37.946Z"
   },
   {
    "duration": 25,
    "start_time": "2022-09-20T12:23:38.623Z"
   },
   {
    "duration": 36,
    "start_time": "2022-09-20T12:23:40.379Z"
   },
   {
    "duration": 8,
    "start_time": "2022-09-20T12:23:40.748Z"
   },
   {
    "duration": 26,
    "start_time": "2022-09-20T12:23:41.577Z"
   },
   {
    "duration": 52,
    "start_time": "2022-09-20T12:23:41.977Z"
   },
   {
    "duration": 17,
    "start_time": "2022-09-20T12:23:42.405Z"
   },
   {
    "duration": 338,
    "start_time": "2022-09-20T12:23:42.902Z"
   },
   {
    "duration": 28,
    "start_time": "2022-09-20T12:23:43.297Z"
   },
   {
    "duration": 15,
    "start_time": "2022-09-20T12:23:43.875Z"
   },
   {
    "duration": 95,
    "start_time": "2022-09-20T12:23:44.609Z"
   },
   {
    "duration": 26,
    "start_time": "2022-09-20T12:23:44.891Z"
   },
   {
    "duration": 159,
    "start_time": "2022-09-20T12:23:45.399Z"
   },
   {
    "duration": 4,
    "start_time": "2022-09-20T12:23:45.615Z"
   },
   {
    "duration": 4,
    "start_time": "2022-09-20T12:23:45.875Z"
   },
   {
    "duration": 9,
    "start_time": "2022-09-20T12:23:46.393Z"
   },
   {
    "duration": 170,
    "start_time": "2022-09-20T12:23:47.705Z"
   },
   {
    "duration": 30,
    "start_time": "2022-09-20T12:23:48.214Z"
   },
   {
    "duration": 158,
    "start_time": "2022-09-20T12:23:48.710Z"
   },
   {
    "duration": 26,
    "start_time": "2022-09-20T12:23:49.450Z"
   },
   {
    "duration": 10,
    "start_time": "2022-09-20T12:23:50.076Z"
   },
   {
    "duration": 156,
    "start_time": "2022-09-20T12:23:50.750Z"
   },
   {
    "duration": 145,
    "start_time": "2022-09-20T12:23:51.450Z"
   },
   {
    "duration": 217,
    "start_time": "2022-09-20T12:23:52.272Z"
   },
   {
    "duration": 147,
    "start_time": "2022-09-20T12:23:52.915Z"
   },
   {
    "duration": 10,
    "start_time": "2022-09-20T12:23:53.947Z"
   },
   {
    "duration": 29,
    "start_time": "2022-09-20T12:23:54.777Z"
   },
   {
    "duration": 26,
    "start_time": "2022-09-20T12:23:57.276Z"
   },
   {
    "duration": 94,
    "start_time": "2022-09-20T12:24:00.482Z"
   },
   {
    "duration": 412,
    "start_time": "2022-09-20T12:24:01.644Z"
   },
   {
    "duration": 6,
    "start_time": "2022-09-20T12:24:03.056Z"
   },
   {
    "duration": 134,
    "start_time": "2022-09-20T12:24:03.772Z"
   },
   {
    "duration": 132,
    "start_time": "2022-09-20T12:24:07.656Z"
   },
   {
    "duration": 282,
    "start_time": "2022-09-20T12:24:08.636Z"
   },
   {
    "duration": 142,
    "start_time": "2022-09-20T12:24:09.502Z"
   },
   {
    "duration": 140,
    "start_time": "2022-09-20T12:24:10.637Z"
   },
   {
    "duration": 268,
    "start_time": "2022-09-20T12:24:11.719Z"
   },
   {
    "duration": 142,
    "start_time": "2022-09-20T12:24:20.676Z"
   },
   {
    "duration": 145,
    "start_time": "2022-09-20T12:24:21.572Z"
   },
   {
    "duration": 134,
    "start_time": "2022-09-20T12:24:22.555Z"
   },
   {
    "duration": 157,
    "start_time": "2022-09-20T12:24:23.304Z"
   },
   {
    "duration": 132,
    "start_time": "2022-09-20T12:24:24.107Z"
   },
   {
    "duration": 185,
    "start_time": "2022-09-20T12:24:25.015Z"
   },
   {
    "duration": 259,
    "start_time": "2022-09-20T12:24:35.932Z"
   },
   {
    "duration": 166,
    "start_time": "2022-09-20T12:24:42.286Z"
   },
   {
    "duration": 227,
    "start_time": "2022-09-20T12:24:50.057Z"
   },
   {
    "duration": 201,
    "start_time": "2022-09-20T12:26:07.297Z"
   },
   {
    "duration": 283,
    "start_time": "2022-09-20T12:26:13.469Z"
   },
   {
    "duration": 1256,
    "start_time": "2022-09-20T15:30:32.909Z"
   },
   {
    "duration": 33,
    "start_time": "2022-09-20T15:30:34.167Z"
   },
   {
    "duration": 33,
    "start_time": "2022-09-20T15:30:34.202Z"
   },
   {
    "duration": 84,
    "start_time": "2022-09-20T15:30:34.238Z"
   },
   {
    "duration": 15,
    "start_time": "2022-09-20T15:30:34.324Z"
   },
   {
    "duration": 25,
    "start_time": "2022-09-20T15:30:34.341Z"
   },
   {
    "duration": 5,
    "start_time": "2022-09-20T15:30:34.368Z"
   },
   {
    "duration": 11,
    "start_time": "2022-09-20T15:30:34.375Z"
   },
   {
    "duration": 5,
    "start_time": "2022-09-20T15:30:34.421Z"
   },
   {
    "duration": 25,
    "start_time": "2022-09-20T15:30:34.430Z"
   },
   {
    "duration": 7,
    "start_time": "2022-09-20T15:30:34.457Z"
   },
   {
    "duration": 31,
    "start_time": "2022-09-20T15:30:34.466Z"
   },
   {
    "duration": 28,
    "start_time": "2022-09-20T15:30:34.499Z"
   },
   {
    "duration": 21,
    "start_time": "2022-09-20T15:30:34.529Z"
   },
   {
    "duration": 10,
    "start_time": "2022-09-20T15:30:34.552Z"
   },
   {
    "duration": 95,
    "start_time": "2022-09-20T15:30:34.564Z"
   },
   {
    "duration": 5,
    "start_time": "2022-09-20T15:30:34.661Z"
   },
   {
    "duration": 16,
    "start_time": "2022-09-20T15:30:34.668Z"
   },
   {
    "duration": 6,
    "start_time": "2022-09-20T15:30:34.686Z"
   },
   {
    "duration": 53,
    "start_time": "2022-09-20T15:30:34.694Z"
   },
   {
    "duration": 10,
    "start_time": "2022-09-20T15:30:34.749Z"
   },
   {
    "duration": 5,
    "start_time": "2022-09-20T15:30:34.761Z"
   },
   {
    "duration": 37,
    "start_time": "2022-09-20T15:30:34.768Z"
   },
   {
    "duration": 62,
    "start_time": "2022-09-20T15:30:34.807Z"
   },
   {
    "duration": 12,
    "start_time": "2022-09-20T15:30:34.871Z"
   },
   {
    "duration": 47,
    "start_time": "2022-09-20T15:30:34.886Z"
   },
   {
    "duration": 50,
    "start_time": "2022-09-20T15:30:34.935Z"
   },
   {
    "duration": 31,
    "start_time": "2022-09-20T15:30:34.991Z"
   },
   {
    "duration": 374,
    "start_time": "2022-09-20T15:30:35.024Z"
   },
   {
    "duration": 37,
    "start_time": "2022-09-20T15:30:35.400Z"
   },
   {
    "duration": 18,
    "start_time": "2022-09-20T15:30:35.439Z"
   },
   {
    "duration": 145,
    "start_time": "2022-09-20T15:30:35.459Z"
   },
   {
    "duration": 33,
    "start_time": "2022-09-20T15:30:35.606Z"
   },
   {
    "duration": 201,
    "start_time": "2022-09-20T15:30:35.641Z"
   },
   {
    "duration": 14,
    "start_time": "2022-09-20T15:30:35.844Z"
   },
   {
    "duration": 48,
    "start_time": "2022-09-20T15:30:35.860Z"
   },
   {
    "duration": 33,
    "start_time": "2022-09-20T15:30:35.910Z"
   },
   {
    "duration": 221,
    "start_time": "2022-09-20T15:30:35.945Z"
   },
   {
    "duration": 26,
    "start_time": "2022-09-20T15:30:36.167Z"
   },
   {
    "duration": 192,
    "start_time": "2022-09-20T15:30:36.195Z"
   },
   {
    "duration": 40,
    "start_time": "2022-09-20T15:30:36.389Z"
   },
   {
    "duration": 11,
    "start_time": "2022-09-20T15:30:36.431Z"
   },
   {
    "duration": 181,
    "start_time": "2022-09-20T15:30:36.444Z"
   },
   {
    "duration": 169,
    "start_time": "2022-09-20T15:30:36.627Z"
   },
   {
    "duration": 222,
    "start_time": "2022-09-20T15:30:36.798Z"
   },
   {
    "duration": 157,
    "start_time": "2022-09-20T15:30:37.023Z"
   },
   {
    "duration": 11,
    "start_time": "2022-09-20T15:30:37.182Z"
   },
   {
    "duration": 41,
    "start_time": "2022-09-20T15:30:37.195Z"
   },
   {
    "duration": 34,
    "start_time": "2022-09-20T15:30:37.238Z"
   },
   {
    "duration": 121,
    "start_time": "2022-09-20T15:30:37.274Z"
   },
   {
    "duration": 418,
    "start_time": "2022-09-20T15:30:37.397Z"
   },
   {
    "duration": 5,
    "start_time": "2022-09-20T15:30:37.820Z"
   },
   {
    "duration": 166,
    "start_time": "2022-09-20T15:30:37.827Z"
   },
   {
    "duration": 171,
    "start_time": "2022-09-20T15:30:37.996Z"
   },
   {
    "duration": 372,
    "start_time": "2022-09-20T15:30:38.169Z"
   },
   {
    "duration": 173,
    "start_time": "2022-09-20T15:30:38.543Z"
   },
   {
    "duration": 211,
    "start_time": "2022-09-20T15:30:38.718Z"
   },
   {
    "duration": 205,
    "start_time": "2022-09-20T15:30:38.932Z"
   },
   {
    "duration": 230,
    "start_time": "2022-09-20T15:30:39.139Z"
   },
   {
    "duration": 252,
    "start_time": "2022-09-20T15:30:39.372Z"
   },
   {
    "duration": 283,
    "start_time": "2022-09-20T15:30:39.626Z"
   },
   {
    "duration": 219,
    "start_time": "2022-09-20T15:30:39.911Z"
   },
   {
    "duration": 232,
    "start_time": "2022-09-20T15:30:40.132Z"
   },
   {
    "duration": 219,
    "start_time": "2022-09-20T15:30:40.366Z"
   },
   {
    "duration": 151,
    "start_time": "2022-09-20T15:30:40.587Z"
   },
   {
    "duration": 2335,
    "start_time": "2022-09-20T15:31:51.958Z"
   },
   {
    "duration": 178,
    "start_time": "2022-09-20T15:32:54.010Z"
   },
   {
    "duration": 214,
    "start_time": "2022-09-20T15:33:11.024Z"
   },
   {
    "duration": 208,
    "start_time": "2022-09-20T15:34:42.550Z"
   },
   {
    "duration": 225,
    "start_time": "2022-09-20T15:34:52.819Z"
   },
   {
    "duration": 5,
    "start_time": "2022-09-20T15:39:26.208Z"
   },
   {
    "duration": 152,
    "start_time": "2022-09-20T15:40:28.545Z"
   },
   {
    "duration": 10,
    "start_time": "2022-09-20T15:45:02.522Z"
   },
   {
    "duration": 216,
    "start_time": "2022-09-20T15:45:16.384Z"
   },
   {
    "duration": 288,
    "start_time": "2022-09-20T15:45:21.287Z"
   },
   {
    "duration": 5,
    "start_time": "2022-09-20T15:45:25.047Z"
   },
   {
    "duration": 141,
    "start_time": "2022-09-20T15:45:29.682Z"
   },
   {
    "duration": 27,
    "start_time": "2022-09-20T15:50:36.688Z"
   },
   {
    "duration": 30,
    "start_time": "2022-09-20T15:51:54.456Z"
   },
   {
    "duration": 33,
    "start_time": "2022-09-20T15:52:55.721Z"
   },
   {
    "duration": 19,
    "start_time": "2022-09-20T15:53:47.523Z"
   },
   {
    "duration": 10,
    "start_time": "2022-09-20T15:59:49.987Z"
   },
   {
    "duration": 16,
    "start_time": "2022-09-20T16:00:17.282Z"
   },
   {
    "duration": 11,
    "start_time": "2022-09-20T16:00:43.478Z"
   },
   {
    "duration": 12,
    "start_time": "2022-09-20T16:00:58.537Z"
   },
   {
    "duration": 8,
    "start_time": "2022-09-20T16:03:00.648Z"
   },
   {
    "duration": 14,
    "start_time": "2022-09-20T16:03:09.526Z"
   },
   {
    "duration": 19,
    "start_time": "2022-09-20T16:06:28.862Z"
   },
   {
    "duration": 21,
    "start_time": "2022-09-20T16:07:58.727Z"
   },
   {
    "duration": 62,
    "start_time": "2022-09-20T16:08:07.920Z"
   },
   {
    "duration": 18,
    "start_time": "2022-09-20T16:08:20.351Z"
   },
   {
    "duration": 21,
    "start_time": "2022-09-20T16:09:29.206Z"
   },
   {
    "duration": 1077,
    "start_time": "2022-09-21T13:40:51.789Z"
   },
   {
    "duration": 27,
    "start_time": "2022-09-21T13:40:52.868Z"
   },
   {
    "duration": 30,
    "start_time": "2022-09-21T13:40:52.896Z"
   },
   {
    "duration": 71,
    "start_time": "2022-09-21T13:40:52.927Z"
   },
   {
    "duration": 23,
    "start_time": "2022-09-21T13:40:53.000Z"
   },
   {
    "duration": 21,
    "start_time": "2022-09-21T13:40:53.025Z"
   },
   {
    "duration": 4,
    "start_time": "2022-09-21T13:40:53.363Z"
   },
   {
    "duration": 4,
    "start_time": "2022-09-21T13:40:53.565Z"
   },
   {
    "duration": 4,
    "start_time": "2022-09-21T13:40:53.769Z"
   },
   {
    "duration": 8,
    "start_time": "2022-09-21T13:40:53.993Z"
   },
   {
    "duration": 5,
    "start_time": "2022-09-21T13:40:54.504Z"
   },
   {
    "duration": 24,
    "start_time": "2022-09-21T13:40:54.765Z"
   },
   {
    "duration": 6,
    "start_time": "2022-09-21T13:40:54.983Z"
   },
   {
    "duration": 18,
    "start_time": "2022-09-21T13:40:55.205Z"
   },
   {
    "duration": 8,
    "start_time": "2022-09-21T13:40:55.441Z"
   },
   {
    "duration": 74,
    "start_time": "2022-09-21T13:40:55.669Z"
   },
   {
    "duration": 5,
    "start_time": "2022-09-21T13:40:55.866Z"
   },
   {
    "duration": 13,
    "start_time": "2022-09-21T13:40:56.073Z"
   },
   {
    "duration": 5,
    "start_time": "2022-09-21T13:40:56.269Z"
   },
   {
    "duration": 19,
    "start_time": "2022-09-21T13:40:56.494Z"
   },
   {
    "duration": 4,
    "start_time": "2022-09-21T13:40:56.753Z"
   },
   {
    "duration": 3,
    "start_time": "2022-09-21T13:40:57.041Z"
   },
   {
    "duration": 24,
    "start_time": "2022-09-21T13:40:57.758Z"
   },
   {
    "duration": 52,
    "start_time": "2022-09-21T13:40:59.033Z"
   },
   {
    "duration": 8,
    "start_time": "2022-09-21T13:40:59.357Z"
   },
   {
    "duration": 21,
    "start_time": "2022-09-21T13:40:59.809Z"
   },
   {
    "duration": 38,
    "start_time": "2022-09-21T13:41:00.001Z"
   },
   {
    "duration": 14,
    "start_time": "2022-09-21T13:41:00.253Z"
   },
   {
    "duration": 300,
    "start_time": "2022-09-21T13:41:00.453Z"
   },
   {
    "duration": 24,
    "start_time": "2022-09-21T13:41:00.755Z"
   },
   {
    "duration": 14,
    "start_time": "2022-09-21T13:41:00.869Z"
   },
   {
    "duration": 89,
    "start_time": "2022-09-21T13:41:01.245Z"
   },
   {
    "duration": 26,
    "start_time": "2022-09-21T13:41:01.480Z"
   },
   {
    "duration": 155,
    "start_time": "2022-09-21T13:41:01.901Z"
   },
   {
    "duration": 4,
    "start_time": "2022-09-21T13:41:02.157Z"
   },
   {
    "duration": 4,
    "start_time": "2022-09-21T13:41:02.568Z"
   },
   {
    "duration": 8,
    "start_time": "2022-09-21T13:41:03.056Z"
   },
   {
    "duration": 173,
    "start_time": "2022-09-21T13:41:04.158Z"
   },
   {
    "duration": 22,
    "start_time": "2022-09-21T13:41:04.769Z"
   },
   {
    "duration": 141,
    "start_time": "2022-09-21T13:41:05.153Z"
   },
   {
    "duration": 23,
    "start_time": "2022-09-21T13:41:05.777Z"
   },
   {
    "duration": 9,
    "start_time": "2022-09-21T13:41:06.349Z"
   },
   {
    "duration": 125,
    "start_time": "2022-09-21T13:41:06.845Z"
   },
   {
    "duration": 123,
    "start_time": "2022-09-21T13:41:07.765Z"
   },
   {
    "duration": 125,
    "start_time": "2022-09-21T13:41:08.566Z"
   },
   {
    "duration": 120,
    "start_time": "2022-09-21T13:41:09.692Z"
   },
   {
    "duration": 10,
    "start_time": "2022-09-21T13:41:10.306Z"
   },
   {
    "duration": 24,
    "start_time": "2022-09-21T13:41:10.853Z"
   },
   {
    "duration": 22,
    "start_time": "2022-09-21T13:41:12.581Z"
   },
   {
    "duration": 78,
    "start_time": "2022-09-21T13:41:14.987Z"
   },
   {
    "duration": 316,
    "start_time": "2022-09-21T13:41:15.745Z"
   },
   {
    "duration": 4,
    "start_time": "2022-09-21T13:41:16.290Z"
   },
   {
    "duration": 113,
    "start_time": "2022-09-21T13:41:16.914Z"
   },
   {
    "duration": 102,
    "start_time": "2022-09-21T13:41:18.053Z"
   },
   {
    "duration": 280,
    "start_time": "2022-09-21T13:41:19.286Z"
   },
   {
    "duration": 118,
    "start_time": "2022-09-21T13:41:20.561Z"
   },
   {
    "duration": 139,
    "start_time": "2022-09-21T13:41:21.949Z"
   },
   {
    "duration": 121,
    "start_time": "2022-09-21T13:41:42.745Z"
   },
   {
    "duration": 107,
    "start_time": "2022-09-21T13:41:45.457Z"
   },
   {
    "duration": 184,
    "start_time": "2022-09-21T13:41:47.080Z"
   },
   {
    "duration": 167,
    "start_time": "2022-09-21T13:41:48.357Z"
   },
   {
    "duration": 165,
    "start_time": "2022-09-21T13:41:49.457Z"
   },
   {
    "duration": 149,
    "start_time": "2022-09-21T13:41:50.857Z"
   },
   {
    "duration": 255,
    "start_time": "2022-09-21T13:41:51.645Z"
   },
   {
    "duration": 175,
    "start_time": "2022-09-21T13:41:52.203Z"
   },
   {
    "duration": 6,
    "start_time": "2022-09-21T13:41:54.282Z"
   },
   {
    "duration": 126,
    "start_time": "2022-09-21T13:41:55.053Z"
   },
   {
    "duration": 55,
    "start_time": "2022-09-21T13:41:58.688Z"
   },
   {
    "duration": 13,
    "start_time": "2022-09-21T13:42:00.280Z"
   },
   {
    "duration": 222,
    "start_time": "2022-09-21T13:55:56.514Z"
   },
   {
    "duration": 1889,
    "start_time": "2022-09-21T13:55:58.202Z"
   },
   {
    "duration": 0,
    "start_time": "2022-09-21T13:56:00.092Z"
   },
   {
    "duration": 2,
    "start_time": "2022-09-21T13:57:05.374Z"
   },
   {
    "duration": 1751,
    "start_time": "2022-09-21T14:09:43.271Z"
   },
   {
    "duration": 1192,
    "start_time": "2022-09-21T14:11:09.657Z"
   },
   {
    "duration": 1175,
    "start_time": "2022-09-21T14:11:18.899Z"
   },
   {
    "duration": 41290,
    "start_time": "2022-09-21T14:11:35.395Z"
   },
   {
    "duration": 985,
    "start_time": "2022-09-21T14:16:26.899Z"
   },
   {
    "duration": 13,
    "start_time": "2022-09-21T14:16:46.154Z"
   },
   {
    "duration": 855,
    "start_time": "2022-09-21T14:17:02.382Z"
   },
   {
    "duration": 848,
    "start_time": "2022-09-21T14:17:21.964Z"
   },
   {
    "duration": 0,
    "start_time": "2022-09-21T14:17:22.814Z"
   },
   {
    "duration": 51,
    "start_time": "2022-09-21T14:20:18.413Z"
   },
   {
    "duration": 4,
    "start_time": "2022-09-21T14:20:33.105Z"
   },
   {
    "duration": 3,
    "start_time": "2022-09-21T14:20:42.802Z"
   },
   {
    "duration": 4,
    "start_time": "2022-09-21T14:20:50.185Z"
   },
   {
    "duration": 39525,
    "start_time": "2022-09-21T14:20:51.411Z"
   },
   {
    "duration": 14,
    "start_time": "2022-09-21T14:21:30.938Z"
   },
   {
    "duration": 237,
    "start_time": "2022-09-21T14:21:47.466Z"
   },
   {
    "duration": 150,
    "start_time": "2022-09-21T14:22:07.279Z"
   },
   {
    "duration": 8,
    "start_time": "2022-09-21T14:27:58.745Z"
   },
   {
    "duration": 8,
    "start_time": "2022-09-21T14:28:21.375Z"
   },
   {
    "duration": 8,
    "start_time": "2022-09-21T14:29:26.789Z"
   },
   {
    "duration": 12,
    "start_time": "2022-09-21T14:31:13.454Z"
   },
   {
    "duration": 160,
    "start_time": "2022-09-21T14:33:07.877Z"
   },
   {
    "duration": 164,
    "start_time": "2022-09-21T14:34:18.153Z"
   },
   {
    "duration": 10,
    "start_time": "2022-09-21T14:34:29.950Z"
   },
   {
    "duration": 165,
    "start_time": "2022-09-21T14:35:17.963Z"
   },
   {
    "duration": 159,
    "start_time": "2022-09-21T14:35:36.690Z"
   },
   {
    "duration": 151,
    "start_time": "2022-09-21T14:36:08.665Z"
   },
   {
    "duration": 47,
    "start_time": "2022-09-21T14:38:50.375Z"
   },
   {
    "duration": 13,
    "start_time": "2022-09-21T14:39:16.545Z"
   },
   {
    "duration": 16,
    "start_time": "2022-09-21T14:39:26.615Z"
   },
   {
    "duration": 4777,
    "start_time": "2022-09-21T14:39:43.563Z"
   },
   {
    "duration": 173,
    "start_time": "2022-09-21T14:40:14.415Z"
   },
   {
    "duration": 16,
    "start_time": "2022-09-21T14:40:52.465Z"
   },
   {
    "duration": 174,
    "start_time": "2022-09-21T14:41:01.646Z"
   },
   {
    "duration": 158,
    "start_time": "2022-09-21T14:41:15.998Z"
   },
   {
    "duration": 12,
    "start_time": "2022-09-21T14:42:09.280Z"
   },
   {
    "duration": 13,
    "start_time": "2022-09-21T14:42:43.985Z"
   },
   {
    "duration": 153,
    "start_time": "2022-09-21T14:42:49.393Z"
   },
   {
    "duration": 1329,
    "start_time": "2022-09-22T12:16:05.362Z"
   },
   {
    "duration": 51,
    "start_time": "2022-09-22T12:16:06.693Z"
   },
   {
    "duration": 24,
    "start_time": "2022-09-22T12:16:06.745Z"
   },
   {
    "duration": 82,
    "start_time": "2022-09-22T12:16:06.771Z"
   },
   {
    "duration": 13,
    "start_time": "2022-09-22T12:16:06.854Z"
   },
   {
    "duration": 21,
    "start_time": "2022-09-22T12:16:06.868Z"
   },
   {
    "duration": 4,
    "start_time": "2022-09-22T12:16:06.890Z"
   },
   {
    "duration": 9,
    "start_time": "2022-09-22T12:16:07.036Z"
   },
   {
    "duration": 11,
    "start_time": "2022-09-22T12:16:07.231Z"
   },
   {
    "duration": 8,
    "start_time": "2022-09-22T12:16:07.376Z"
   },
   {
    "duration": 6,
    "start_time": "2022-09-22T12:16:07.745Z"
   },
   {
    "duration": 22,
    "start_time": "2022-09-22T12:16:07.953Z"
   },
   {
    "duration": 5,
    "start_time": "2022-09-22T12:16:08.153Z"
   },
   {
    "duration": 16,
    "start_time": "2022-09-22T12:16:08.348Z"
   },
   {
    "duration": 9,
    "start_time": "2022-09-22T12:16:08.549Z"
   },
   {
    "duration": 82,
    "start_time": "2022-09-22T12:16:08.765Z"
   },
   {
    "duration": 5,
    "start_time": "2022-09-22T12:16:08.970Z"
   },
   {
    "duration": 12,
    "start_time": "2022-09-22T12:16:09.173Z"
   },
   {
    "duration": 5,
    "start_time": "2022-09-22T12:16:09.365Z"
   },
   {
    "duration": 17,
    "start_time": "2022-09-22T12:16:09.586Z"
   },
   {
    "duration": 15,
    "start_time": "2022-09-22T12:16:09.834Z"
   },
   {
    "duration": 3,
    "start_time": "2022-09-22T12:16:10.071Z"
   },
   {
    "duration": 22,
    "start_time": "2022-09-22T12:16:10.760Z"
   },
   {
    "duration": 34,
    "start_time": "2022-09-22T12:16:11.636Z"
   },
   {
    "duration": 8,
    "start_time": "2022-09-22T12:16:11.859Z"
   },
   {
    "duration": 37,
    "start_time": "2022-09-22T12:16:12.302Z"
   },
   {
    "duration": 35,
    "start_time": "2022-09-22T12:16:12.536Z"
   },
   {
    "duration": 15,
    "start_time": "2022-09-22T12:16:12.733Z"
   },
   {
    "duration": 360,
    "start_time": "2022-09-22T12:16:13.156Z"
   },
   {
    "duration": 37,
    "start_time": "2022-09-22T12:16:13.518Z"
   },
   {
    "duration": 13,
    "start_time": "2022-09-22T12:16:13.594Z"
   },
   {
    "duration": 90,
    "start_time": "2022-09-22T12:16:14.049Z"
   },
   {
    "duration": 22,
    "start_time": "2022-09-22T12:16:14.331Z"
   },
   {
    "duration": 195,
    "start_time": "2022-09-22T12:16:15.065Z"
   },
   {
    "duration": 4,
    "start_time": "2022-09-22T12:16:15.336Z"
   },
   {
    "duration": 3,
    "start_time": "2022-09-22T12:16:15.600Z"
   },
   {
    "duration": 7,
    "start_time": "2022-09-22T12:16:15.956Z"
   },
   {
    "duration": 207,
    "start_time": "2022-09-22T12:16:16.453Z"
   },
   {
    "duration": 24,
    "start_time": "2022-09-22T12:16:16.731Z"
   },
   {
    "duration": 148,
    "start_time": "2022-09-22T12:16:16.957Z"
   },
   {
    "duration": 22,
    "start_time": "2022-09-22T12:16:17.383Z"
   },
   {
    "duration": 11,
    "start_time": "2022-09-22T12:16:17.636Z"
   },
   {
    "duration": 176,
    "start_time": "2022-09-22T12:16:17.885Z"
   },
   {
    "duration": 140,
    "start_time": "2022-09-22T12:16:18.272Z"
   },
   {
    "duration": 132,
    "start_time": "2022-09-22T12:16:18.541Z"
   },
   {
    "duration": 155,
    "start_time": "2022-09-22T12:16:18.950Z"
   },
   {
    "duration": 9,
    "start_time": "2022-09-22T12:16:19.343Z"
   },
   {
    "duration": 22,
    "start_time": "2022-09-22T12:16:19.544Z"
   },
   {
    "duration": 21,
    "start_time": "2022-09-22T12:16:20.155Z"
   },
   {
    "duration": 80,
    "start_time": "2022-09-22T12:16:21.923Z"
   },
   {
    "duration": 340,
    "start_time": "2022-09-22T12:16:22.152Z"
   },
   {
    "duration": 4,
    "start_time": "2022-09-22T12:16:22.494Z"
   },
   {
    "duration": 190,
    "start_time": "2022-09-22T12:16:22.645Z"
   },
   {
    "duration": 132,
    "start_time": "2022-09-22T12:16:23.135Z"
   },
   {
    "duration": 300,
    "start_time": "2022-09-22T12:16:23.606Z"
   },
   {
    "duration": 131,
    "start_time": "2022-09-22T12:16:24.064Z"
   },
   {
    "duration": 181,
    "start_time": "2022-09-22T12:16:24.627Z"
   },
   {
    "duration": 172,
    "start_time": "2022-09-22T12:16:26.204Z"
   },
   {
    "duration": 115,
    "start_time": "2022-09-22T12:16:27.456Z"
   },
   {
    "duration": 185,
    "start_time": "2022-09-22T12:16:28.648Z"
   },
   {
    "duration": 171,
    "start_time": "2022-09-22T12:16:39.431Z"
   },
   {
    "duration": 172,
    "start_time": "2022-09-22T12:16:40.609Z"
   },
   {
    "duration": 168,
    "start_time": "2022-09-22T12:16:41.793Z"
   },
   {
    "duration": 256,
    "start_time": "2022-09-22T12:16:42.337Z"
   },
   {
    "duration": 191,
    "start_time": "2022-09-22T12:16:43.161Z"
   },
   {
    "duration": 5,
    "start_time": "2022-09-22T12:16:43.844Z"
   },
   {
    "duration": 195,
    "start_time": "2022-09-22T12:16:44.548Z"
   },
   {
    "duration": 67,
    "start_time": "2022-09-22T12:16:45.900Z"
   },
   {
    "duration": 15,
    "start_time": "2022-09-22T12:16:47.134Z"
   },
   {
    "duration": 241,
    "start_time": "2022-09-22T12:16:48.240Z"
   },
   {
    "duration": 14,
    "start_time": "2022-09-22T12:16:48.966Z"
   },
   {
    "duration": 157,
    "start_time": "2022-09-22T12:16:49.456Z"
   },
   {
    "duration": 323,
    "start_time": "2022-09-22T12:16:57.959Z"
   },
   {
    "duration": 218,
    "start_time": "2022-09-22T12:16:59.145Z"
   },
   {
    "duration": 21,
    "start_time": "2022-09-22T12:16:59.734Z"
   },
   {
    "duration": 13,
    "start_time": "2022-09-22T12:17:00.349Z"
   },
   {
    "duration": 293,
    "start_time": "2022-09-22T12:17:01.111Z"
   },
   {
    "duration": 10,
    "start_time": "2022-09-22T12:17:01.568Z"
   },
   {
    "duration": 18,
    "start_time": "2022-09-22T12:17:02.235Z"
   },
   {
    "duration": 195,
    "start_time": "2022-09-22T12:17:02.701Z"
   },
   {
    "duration": 114,
    "start_time": "2022-09-22T12:19:35.574Z"
   },
   {
    "duration": 58,
    "start_time": "2022-09-22T12:19:54.303Z"
   },
   {
    "duration": 29,
    "start_time": "2022-09-22T12:21:23.448Z"
   },
   {
    "duration": 17,
    "start_time": "2022-09-22T12:21:51.971Z"
   },
   {
    "duration": 27,
    "start_time": "2022-09-22T12:22:13.360Z"
   },
   {
    "duration": 17,
    "start_time": "2022-09-22T12:23:27.098Z"
   },
   {
    "duration": 8,
    "start_time": "2022-09-22T12:23:49.732Z"
   },
   {
    "duration": 5,
    "start_time": "2022-09-22T12:23:57.989Z"
   },
   {
    "duration": 9,
    "start_time": "2022-09-22T12:24:26.238Z"
   },
   {
    "duration": 55,
    "start_time": "2022-09-22T12:24:56.249Z"
   },
   {
    "duration": 197,
    "start_time": "2022-09-22T12:25:04.165Z"
   },
   {
    "duration": 76,
    "start_time": "2022-09-22T12:25:42.494Z"
   },
   {
    "duration": 45,
    "start_time": "2022-09-22T12:25:47.161Z"
   },
   {
    "duration": 56,
    "start_time": "2022-09-22T12:25:58.128Z"
   },
   {
    "duration": 86,
    "start_time": "2022-09-22T12:26:05.388Z"
   },
   {
    "duration": 78,
    "start_time": "2022-09-22T12:29:15.021Z"
   },
   {
    "duration": 122,
    "start_time": "2022-09-22T12:30:13.032Z"
   },
   {
    "duration": 8,
    "start_time": "2022-09-22T12:30:26.031Z"
   },
   {
    "duration": 7,
    "start_time": "2022-09-22T12:30:47.784Z"
   },
   {
    "duration": 9,
    "start_time": "2022-09-22T12:31:41.428Z"
   },
   {
    "duration": 5,
    "start_time": "2022-09-22T12:31:51.549Z"
   },
   {
    "duration": 5,
    "start_time": "2022-09-22T12:33:04.337Z"
   },
   {
    "duration": 4,
    "start_time": "2022-09-22T12:33:22.398Z"
   },
   {
    "duration": 8,
    "start_time": "2022-09-22T12:34:00.199Z"
   },
   {
    "duration": 10,
    "start_time": "2022-09-22T12:34:34.601Z"
   },
   {
    "duration": 6,
    "start_time": "2022-09-22T12:36:07.783Z"
   },
   {
    "duration": 13,
    "start_time": "2022-09-22T12:36:31.189Z"
   },
   {
    "duration": 11,
    "start_time": "2022-09-22T12:37:03.488Z"
   },
   {
    "duration": 110,
    "start_time": "2022-09-22T12:44:54.196Z"
   },
   {
    "duration": 8,
    "start_time": "2022-09-22T12:45:02.840Z"
   },
   {
    "duration": 5,
    "start_time": "2022-09-22T12:45:03.781Z"
   },
   {
    "duration": 3,
    "start_time": "2022-09-22T12:45:08.654Z"
   },
   {
    "duration": 13,
    "start_time": "2022-09-22T12:45:51.731Z"
   },
   {
    "duration": 8,
    "start_time": "2022-09-22T12:46:04.048Z"
   },
   {
    "duration": 8,
    "start_time": "2022-09-22T12:46:37.290Z"
   },
   {
    "duration": 6,
    "start_time": "2022-09-22T12:46:52.536Z"
   },
   {
    "duration": 8,
    "start_time": "2022-09-22T12:47:13.790Z"
   },
   {
    "duration": 6,
    "start_time": "2022-09-22T12:47:19.991Z"
   },
   {
    "duration": 20,
    "start_time": "2022-09-22T12:58:09.046Z"
   },
   {
    "duration": 22,
    "start_time": "2022-09-22T12:58:47.279Z"
   },
   {
    "duration": 4,
    "start_time": "2022-09-22T13:02:45.488Z"
   },
   {
    "duration": 25,
    "start_time": "2022-09-22T13:03:01.668Z"
   },
   {
    "duration": 22,
    "start_time": "2022-09-22T13:04:28.448Z"
   },
   {
    "duration": 26,
    "start_time": "2022-09-22T13:05:16.637Z"
   },
   {
    "duration": 26,
    "start_time": "2022-09-22T13:09:02.048Z"
   },
   {
    "duration": 181,
    "start_time": "2022-09-22T13:43:37.677Z"
   },
   {
    "duration": 241,
    "start_time": "2022-09-22T13:46:14.194Z"
   },
   {
    "duration": 4,
    "start_time": "2022-09-22T14:53:04.171Z"
   },
   {
    "duration": 89,
    "start_time": "2022-09-22T15:03:37.642Z"
   },
   {
    "duration": 725,
    "start_time": "2022-09-22T20:38:19.154Z"
   },
   {
    "duration": 34,
    "start_time": "2022-09-22T20:38:19.881Z"
   },
   {
    "duration": 26,
    "start_time": "2022-09-22T20:38:19.916Z"
   },
   {
    "duration": 97,
    "start_time": "2022-09-22T20:38:19.944Z"
   },
   {
    "duration": 15,
    "start_time": "2022-09-22T20:38:20.044Z"
   },
   {
    "duration": 44,
    "start_time": "2022-09-22T20:38:20.061Z"
   },
   {
    "duration": 4,
    "start_time": "2022-09-22T20:38:20.107Z"
   },
   {
    "duration": 5,
    "start_time": "2022-09-22T20:38:20.113Z"
   },
   {
    "duration": 8,
    "start_time": "2022-09-22T20:38:20.120Z"
   },
   {
    "duration": 15,
    "start_time": "2022-09-22T20:38:20.129Z"
   },
   {
    "duration": 5,
    "start_time": "2022-09-22T20:38:20.146Z"
   },
   {
    "duration": 52,
    "start_time": "2022-09-22T20:38:20.153Z"
   },
   {
    "duration": 6,
    "start_time": "2022-09-22T20:38:20.207Z"
   },
   {
    "duration": 18,
    "start_time": "2022-09-22T20:38:20.215Z"
   },
   {
    "duration": 11,
    "start_time": "2022-09-22T20:38:20.234Z"
   },
   {
    "duration": 93,
    "start_time": "2022-09-22T20:38:20.246Z"
   },
   {
    "duration": 6,
    "start_time": "2022-09-22T20:38:20.340Z"
   },
   {
    "duration": 16,
    "start_time": "2022-09-22T20:38:20.348Z"
   },
   {
    "duration": 5,
    "start_time": "2022-09-22T20:38:20.365Z"
   },
   {
    "duration": 40,
    "start_time": "2022-09-22T20:38:20.372Z"
   },
   {
    "duration": 5,
    "start_time": "2022-09-22T20:38:20.413Z"
   },
   {
    "duration": 10,
    "start_time": "2022-09-22T20:38:20.419Z"
   },
   {
    "duration": 30,
    "start_time": "2022-09-22T20:38:20.430Z"
   },
   {
    "duration": 60,
    "start_time": "2022-09-22T20:38:20.461Z"
   },
   {
    "duration": 8,
    "start_time": "2022-09-22T20:38:20.523Z"
   },
   {
    "duration": 23,
    "start_time": "2022-09-22T20:38:20.532Z"
   },
   {
    "duration": 54,
    "start_time": "2022-09-22T20:38:20.557Z"
   },
   {
    "duration": 15,
    "start_time": "2022-09-22T20:38:20.613Z"
   },
   {
    "duration": 346,
    "start_time": "2022-09-22T20:38:20.630Z"
   },
   {
    "duration": 35,
    "start_time": "2022-09-22T20:38:20.978Z"
   },
   {
    "duration": 16,
    "start_time": "2022-09-22T20:38:21.015Z"
   },
   {
    "duration": 112,
    "start_time": "2022-09-22T20:38:21.032Z"
   },
   {
    "duration": 24,
    "start_time": "2022-09-22T20:38:21.146Z"
   },
   {
    "duration": 191,
    "start_time": "2022-09-22T20:38:21.171Z"
   },
   {
    "duration": 4,
    "start_time": "2022-09-22T20:38:21.363Z"
   },
   {
    "duration": 6,
    "start_time": "2022-09-22T20:38:21.368Z"
   },
   {
    "duration": 20,
    "start_time": "2022-09-22T20:38:21.376Z"
   },
   {
    "duration": 204,
    "start_time": "2022-09-22T20:38:21.398Z"
   },
   {
    "duration": 27,
    "start_time": "2022-09-22T20:38:21.604Z"
   },
   {
    "duration": 168,
    "start_time": "2022-09-22T20:38:21.633Z"
   },
   {
    "duration": 26,
    "start_time": "2022-09-22T20:38:21.806Z"
   },
   {
    "duration": 14,
    "start_time": "2022-09-22T20:38:21.834Z"
   },
   {
    "duration": 173,
    "start_time": "2022-09-22T20:38:21.850Z"
   },
   {
    "duration": 156,
    "start_time": "2022-09-22T20:38:22.024Z"
   },
   {
    "duration": 160,
    "start_time": "2022-09-22T20:38:22.182Z"
   },
   {
    "duration": 152,
    "start_time": "2022-09-22T20:38:22.343Z"
   },
   {
    "duration": 9,
    "start_time": "2022-09-22T20:38:22.497Z"
   },
   {
    "duration": 26,
    "start_time": "2022-09-22T20:38:22.508Z"
   },
   {
    "duration": 27,
    "start_time": "2022-09-22T20:38:22.535Z"
   },
   {
    "duration": 108,
    "start_time": "2022-09-22T20:38:22.564Z"
   },
   {
    "duration": 389,
    "start_time": "2022-09-22T20:38:22.674Z"
   },
   {
    "duration": 4,
    "start_time": "2022-09-22T20:38:23.065Z"
   },
   {
    "duration": 144,
    "start_time": "2022-09-22T20:38:23.071Z"
   },
   {
    "duration": 183,
    "start_time": "2022-09-22T20:38:23.216Z"
   },
   {
    "duration": 208,
    "start_time": "2022-09-22T20:38:23.400Z"
   },
   {
    "duration": 171,
    "start_time": "2022-09-22T20:38:23.609Z"
   },
   {
    "duration": 245,
    "start_time": "2022-09-22T20:38:23.782Z"
   },
   {
    "duration": 280,
    "start_time": "2022-09-22T20:38:24.028Z"
   },
   {
    "duration": 0,
    "start_time": "2022-09-22T20:38:24.310Z"
   },
   {
    "duration": 0,
    "start_time": "2022-09-22T20:38:24.312Z"
   },
   {
    "duration": 0,
    "start_time": "2022-09-22T20:38:24.314Z"
   },
   {
    "duration": 0,
    "start_time": "2022-09-22T20:38:24.315Z"
   },
   {
    "duration": 0,
    "start_time": "2022-09-22T20:38:24.317Z"
   },
   {
    "duration": 0,
    "start_time": "2022-09-22T20:38:24.319Z"
   },
   {
    "duration": 0,
    "start_time": "2022-09-22T20:38:24.320Z"
   },
   {
    "duration": 0,
    "start_time": "2022-09-22T20:38:24.322Z"
   },
   {
    "duration": 1,
    "start_time": "2022-09-22T20:38:24.323Z"
   },
   {
    "duration": 0,
    "start_time": "2022-09-22T20:38:24.325Z"
   },
   {
    "duration": 0,
    "start_time": "2022-09-22T20:38:24.327Z"
   },
   {
    "duration": 0,
    "start_time": "2022-09-22T20:38:24.328Z"
   },
   {
    "duration": 0,
    "start_time": "2022-09-22T20:38:24.329Z"
   },
   {
    "duration": 0,
    "start_time": "2022-09-22T20:38:24.330Z"
   },
   {
    "duration": 0,
    "start_time": "2022-09-22T20:38:24.332Z"
   },
   {
    "duration": 0,
    "start_time": "2022-09-22T20:38:24.333Z"
   },
   {
    "duration": 0,
    "start_time": "2022-09-22T20:38:24.334Z"
   },
   {
    "duration": 0,
    "start_time": "2022-09-22T20:38:24.335Z"
   },
   {
    "duration": 0,
    "start_time": "2022-09-22T20:38:24.337Z"
   },
   {
    "duration": 0,
    "start_time": "2022-09-22T20:38:24.338Z"
   },
   {
    "duration": 0,
    "start_time": "2022-09-22T20:38:24.339Z"
   },
   {
    "duration": 0,
    "start_time": "2022-09-22T20:38:24.340Z"
   },
   {
    "duration": 0,
    "start_time": "2022-09-22T20:38:24.342Z"
   },
   {
    "duration": 0,
    "start_time": "2022-09-22T20:38:24.343Z"
   },
   {
    "duration": 0,
    "start_time": "2022-09-22T20:38:24.344Z"
   },
   {
    "duration": 0,
    "start_time": "2022-09-22T20:38:24.345Z"
   },
   {
    "duration": 0,
    "start_time": "2022-09-22T20:38:24.346Z"
   },
   {
    "duration": 0,
    "start_time": "2022-09-22T20:38:24.347Z"
   },
   {
    "duration": 0,
    "start_time": "2022-09-22T20:38:24.395Z"
   },
   {
    "duration": 0,
    "start_time": "2022-09-22T20:38:24.397Z"
   },
   {
    "duration": 1503,
    "start_time": "2022-09-23T14:08:58.661Z"
   },
   {
    "duration": 31,
    "start_time": "2022-09-23T14:09:00.167Z"
   },
   {
    "duration": 29,
    "start_time": "2022-09-23T14:09:00.200Z"
   },
   {
    "duration": 86,
    "start_time": "2022-09-23T14:09:00.232Z"
   },
   {
    "duration": 15,
    "start_time": "2022-09-23T14:09:00.320Z"
   },
   {
    "duration": 30,
    "start_time": "2022-09-23T14:09:00.336Z"
   },
   {
    "duration": 4,
    "start_time": "2022-09-23T14:09:00.377Z"
   },
   {
    "duration": 12,
    "start_time": "2022-09-23T14:09:00.383Z"
   },
   {
    "duration": 7,
    "start_time": "2022-09-23T14:09:00.396Z"
   },
   {
    "duration": 17,
    "start_time": "2022-09-23T14:09:00.406Z"
   },
   {
    "duration": 16,
    "start_time": "2022-09-23T14:09:00.425Z"
   },
   {
    "duration": 27,
    "start_time": "2022-09-23T14:09:00.442Z"
   },
   {
    "duration": 34,
    "start_time": "2022-09-23T14:09:00.471Z"
   },
   {
    "duration": 27,
    "start_time": "2022-09-23T14:09:00.507Z"
   },
   {
    "duration": 27,
    "start_time": "2022-09-23T14:09:00.535Z"
   },
   {
    "duration": 76,
    "start_time": "2022-09-23T14:09:00.564Z"
   },
   {
    "duration": 6,
    "start_time": "2022-09-23T14:09:00.642Z"
   },
   {
    "duration": 21,
    "start_time": "2022-09-23T14:09:00.650Z"
   },
   {
    "duration": 6,
    "start_time": "2022-09-23T14:09:00.673Z"
   },
   {
    "duration": 33,
    "start_time": "2022-09-23T14:09:00.680Z"
   },
   {
    "duration": 11,
    "start_time": "2022-09-23T14:09:00.714Z"
   },
   {
    "duration": 20,
    "start_time": "2022-09-23T14:09:00.726Z"
   },
   {
    "duration": 34,
    "start_time": "2022-09-23T14:09:00.748Z"
   },
   {
    "duration": 48,
    "start_time": "2022-09-23T14:09:00.784Z"
   },
   {
    "duration": 8,
    "start_time": "2022-09-23T14:09:00.834Z"
   },
   {
    "duration": 52,
    "start_time": "2022-09-23T14:09:00.843Z"
   },
   {
    "duration": 53,
    "start_time": "2022-09-23T14:09:00.896Z"
   },
   {
    "duration": 14,
    "start_time": "2022-09-23T14:09:00.954Z"
   },
   {
    "duration": 327,
    "start_time": "2022-09-23T14:09:00.970Z"
   },
   {
    "duration": 26,
    "start_time": "2022-09-23T14:09:01.299Z"
   },
   {
    "duration": 14,
    "start_time": "2022-09-23T14:09:01.327Z"
   },
   {
    "duration": 115,
    "start_time": "2022-09-23T14:09:01.343Z"
   },
   {
    "duration": 30,
    "start_time": "2022-09-23T14:09:01.460Z"
   },
   {
    "duration": 188,
    "start_time": "2022-09-23T14:09:01.492Z"
   },
   {
    "duration": 4,
    "start_time": "2022-09-23T14:09:01.682Z"
   },
   {
    "duration": 35,
    "start_time": "2022-09-23T14:09:01.687Z"
   },
   {
    "duration": 18,
    "start_time": "2022-09-23T14:09:01.724Z"
   },
   {
    "duration": 189,
    "start_time": "2022-09-23T14:09:01.744Z"
   },
   {
    "duration": 25,
    "start_time": "2022-09-23T14:09:01.935Z"
   },
   {
    "duration": 159,
    "start_time": "2022-09-23T14:09:01.961Z"
   },
   {
    "duration": 24,
    "start_time": "2022-09-23T14:09:02.121Z"
   },
   {
    "duration": 76,
    "start_time": "2022-09-23T14:09:02.147Z"
   },
   {
    "duration": 178,
    "start_time": "2022-09-23T14:09:02.224Z"
   },
   {
    "duration": 142,
    "start_time": "2022-09-23T14:09:02.405Z"
   },
   {
    "duration": 152,
    "start_time": "2022-09-23T14:09:02.549Z"
   },
   {
    "duration": 147,
    "start_time": "2022-09-23T14:09:02.703Z"
   },
   {
    "duration": 10,
    "start_time": "2022-09-23T14:09:02.852Z"
   },
   {
    "duration": 32,
    "start_time": "2022-09-23T14:09:02.864Z"
   },
   {
    "duration": 23,
    "start_time": "2022-09-23T14:09:02.898Z"
   },
   {
    "duration": 111,
    "start_time": "2022-09-23T14:09:02.923Z"
   },
   {
    "duration": 360,
    "start_time": "2022-09-23T14:09:03.036Z"
   },
   {
    "duration": 4,
    "start_time": "2022-09-23T14:09:03.398Z"
   },
   {
    "duration": 132,
    "start_time": "2022-09-23T14:09:03.404Z"
   },
   {
    "duration": 171,
    "start_time": "2022-09-23T14:09:03.537Z"
   },
   {
    "duration": 210,
    "start_time": "2022-09-23T14:09:03.710Z"
   },
   {
    "duration": 158,
    "start_time": "2022-09-23T14:09:03.922Z"
   },
   {
    "duration": 238,
    "start_time": "2022-09-23T14:09:04.081Z"
   },
   {
    "duration": 78,
    "start_time": "2022-09-23T14:09:04.321Z"
   },
   {
    "duration": 0,
    "start_time": "2022-09-23T14:09:04.401Z"
   },
   {
    "duration": 0,
    "start_time": "2022-09-23T14:09:04.402Z"
   },
   {
    "duration": 0,
    "start_time": "2022-09-23T14:09:04.403Z"
   },
   {
    "duration": 0,
    "start_time": "2022-09-23T14:09:04.404Z"
   },
   {
    "duration": 0,
    "start_time": "2022-09-23T14:09:04.405Z"
   },
   {
    "duration": 0,
    "start_time": "2022-09-23T14:09:04.406Z"
   },
   {
    "duration": 0,
    "start_time": "2022-09-23T14:09:04.407Z"
   },
   {
    "duration": 0,
    "start_time": "2022-09-23T14:09:04.408Z"
   },
   {
    "duration": 0,
    "start_time": "2022-09-23T14:09:04.409Z"
   },
   {
    "duration": 0,
    "start_time": "2022-09-23T14:09:04.409Z"
   },
   {
    "duration": 0,
    "start_time": "2022-09-23T14:09:04.410Z"
   },
   {
    "duration": 0,
    "start_time": "2022-09-23T14:09:04.411Z"
   },
   {
    "duration": 0,
    "start_time": "2022-09-23T14:09:04.412Z"
   },
   {
    "duration": 0,
    "start_time": "2022-09-23T14:09:04.413Z"
   },
   {
    "duration": 0,
    "start_time": "2022-09-23T14:09:04.414Z"
   },
   {
    "duration": 0,
    "start_time": "2022-09-23T14:09:04.415Z"
   },
   {
    "duration": 0,
    "start_time": "2022-09-23T14:09:04.416Z"
   },
   {
    "duration": 0,
    "start_time": "2022-09-23T14:09:04.417Z"
   },
   {
    "duration": 0,
    "start_time": "2022-09-23T14:09:04.418Z"
   },
   {
    "duration": 0,
    "start_time": "2022-09-23T14:09:04.419Z"
   },
   {
    "duration": 0,
    "start_time": "2022-09-23T14:09:04.420Z"
   },
   {
    "duration": 0,
    "start_time": "2022-09-23T14:09:04.421Z"
   },
   {
    "duration": 0,
    "start_time": "2022-09-23T14:09:04.423Z"
   },
   {
    "duration": 0,
    "start_time": "2022-09-23T14:09:04.424Z"
   },
   {
    "duration": 0,
    "start_time": "2022-09-23T14:09:04.425Z"
   },
   {
    "duration": 0,
    "start_time": "2022-09-23T14:09:04.426Z"
   },
   {
    "duration": 0,
    "start_time": "2022-09-23T14:09:04.426Z"
   },
   {
    "duration": 0,
    "start_time": "2022-09-23T14:09:04.427Z"
   },
   {
    "duration": 0,
    "start_time": "2022-09-23T14:09:04.428Z"
   },
   {
    "duration": 0,
    "start_time": "2022-09-23T14:09:04.429Z"
   },
   {
    "duration": 112,
    "start_time": "2022-09-23T14:09:21.159Z"
   },
   {
    "duration": 28,
    "start_time": "2022-09-23T14:09:21.693Z"
   },
   {
    "duration": 27,
    "start_time": "2022-09-23T14:09:22.242Z"
   },
   {
    "duration": 74,
    "start_time": "2022-09-23T14:09:22.764Z"
   },
   {
    "duration": 15,
    "start_time": "2022-09-23T14:09:23.300Z"
   },
   {
    "duration": 20,
    "start_time": "2022-09-23T14:09:23.797Z"
   },
   {
    "duration": 4,
    "start_time": "2022-09-23T14:09:25.568Z"
   },
   {
    "duration": 3,
    "start_time": "2022-09-23T14:09:26.181Z"
   },
   {
    "duration": 756,
    "start_time": "2022-09-23T14:09:51.956Z"
   },
   {
    "duration": 30,
    "start_time": "2022-09-23T14:09:52.714Z"
   },
   {
    "duration": 39,
    "start_time": "2022-09-23T14:09:52.746Z"
   },
   {
    "duration": 72,
    "start_time": "2022-09-23T14:09:52.788Z"
   },
   {
    "duration": 27,
    "start_time": "2022-09-23T14:09:52.862Z"
   },
   {
    "duration": 23,
    "start_time": "2022-09-23T14:09:52.891Z"
   },
   {
    "duration": 4,
    "start_time": "2022-09-23T14:09:52.915Z"
   },
   {
    "duration": 28,
    "start_time": "2022-09-23T14:09:52.921Z"
   },
   {
    "duration": 8,
    "start_time": "2022-09-23T14:09:52.951Z"
   },
   {
    "duration": 19,
    "start_time": "2022-09-23T14:09:52.961Z"
   },
   {
    "duration": 6,
    "start_time": "2022-09-23T14:09:52.981Z"
   },
   {
    "duration": 29,
    "start_time": "2022-09-23T14:09:52.989Z"
   },
   {
    "duration": 6,
    "start_time": "2022-09-23T14:09:53.020Z"
   },
   {
    "duration": 18,
    "start_time": "2022-09-23T14:09:53.028Z"
   },
   {
    "duration": 35,
    "start_time": "2022-09-23T14:09:53.048Z"
   },
   {
    "duration": 75,
    "start_time": "2022-09-23T14:09:53.085Z"
   },
   {
    "duration": 16,
    "start_time": "2022-09-23T14:09:53.162Z"
   },
   {
    "duration": 16,
    "start_time": "2022-09-23T14:09:53.180Z"
   },
   {
    "duration": 6,
    "start_time": "2022-09-23T14:09:53.197Z"
   },
   {
    "duration": 21,
    "start_time": "2022-09-23T14:09:53.204Z"
   },
   {
    "duration": 5,
    "start_time": "2022-09-23T14:09:53.226Z"
   },
   {
    "duration": 7,
    "start_time": "2022-09-23T14:09:53.233Z"
   },
   {
    "duration": 52,
    "start_time": "2022-09-23T14:09:53.242Z"
   },
   {
    "duration": 36,
    "start_time": "2022-09-23T14:09:53.297Z"
   },
   {
    "duration": 7,
    "start_time": "2022-09-23T14:09:53.335Z"
   },
   {
    "duration": 46,
    "start_time": "2022-09-23T14:09:53.344Z"
   },
   {
    "duration": 39,
    "start_time": "2022-09-23T14:09:53.392Z"
   },
   {
    "duration": 15,
    "start_time": "2022-09-23T14:09:53.437Z"
   },
   {
    "duration": 336,
    "start_time": "2022-09-23T14:09:53.476Z"
   },
   {
    "duration": 27,
    "start_time": "2022-09-23T14:09:53.814Z"
   },
   {
    "duration": 14,
    "start_time": "2022-09-23T14:09:53.843Z"
   },
   {
    "duration": 120,
    "start_time": "2022-09-23T14:09:53.858Z"
   },
   {
    "duration": 26,
    "start_time": "2022-09-23T14:09:53.979Z"
   },
   {
    "duration": 195,
    "start_time": "2022-09-23T14:09:54.007Z"
   },
   {
    "duration": 4,
    "start_time": "2022-09-23T14:09:54.204Z"
   },
   {
    "duration": 13,
    "start_time": "2022-09-23T14:09:54.210Z"
   },
   {
    "duration": 12,
    "start_time": "2022-09-23T14:09:54.224Z"
   },
   {
    "duration": 214,
    "start_time": "2022-09-23T14:09:54.238Z"
   },
   {
    "duration": 31,
    "start_time": "2022-09-23T14:09:54.454Z"
   },
   {
    "duration": 165,
    "start_time": "2022-09-23T14:09:54.487Z"
   },
   {
    "duration": 30,
    "start_time": "2022-09-23T14:09:54.654Z"
   },
   {
    "duration": 14,
    "start_time": "2022-09-23T14:09:54.686Z"
   },
   {
    "duration": 149,
    "start_time": "2022-09-23T14:09:54.702Z"
   },
   {
    "duration": 143,
    "start_time": "2022-09-23T14:09:54.852Z"
   },
   {
    "duration": 165,
    "start_time": "2022-09-23T14:09:54.996Z"
   },
   {
    "duration": 178,
    "start_time": "2022-09-23T14:09:55.163Z"
   },
   {
    "duration": 12,
    "start_time": "2022-09-23T14:09:55.343Z"
   },
   {
    "duration": 41,
    "start_time": "2022-09-23T14:09:55.357Z"
   },
   {
    "duration": 25,
    "start_time": "2022-09-23T14:09:55.400Z"
   },
   {
    "duration": 105,
    "start_time": "2022-09-23T14:09:55.427Z"
   },
   {
    "duration": 362,
    "start_time": "2022-09-23T14:09:55.533Z"
   },
   {
    "duration": 5,
    "start_time": "2022-09-23T14:09:55.896Z"
   },
   {
    "duration": 141,
    "start_time": "2022-09-23T14:09:55.902Z"
   },
   {
    "duration": 179,
    "start_time": "2022-09-23T14:09:56.044Z"
   },
   {
    "duration": 201,
    "start_time": "2022-09-23T14:09:56.224Z"
   },
   {
    "duration": 158,
    "start_time": "2022-09-23T14:09:56.427Z"
   },
   {
    "duration": 240,
    "start_time": "2022-09-23T14:09:56.587Z"
   },
   {
    "duration": 123,
    "start_time": "2022-09-23T14:09:56.829Z"
   },
   {
    "duration": 232,
    "start_time": "2022-09-23T14:09:56.954Z"
   },
   {
    "duration": 197,
    "start_time": "2022-09-23T14:09:57.187Z"
   },
   {
    "duration": 49,
    "start_time": "2022-09-23T14:09:57.386Z"
   },
   {
    "duration": 0,
    "start_time": "2022-09-23T14:09:57.437Z"
   },
   {
    "duration": 0,
    "start_time": "2022-09-23T14:09:57.438Z"
   },
   {
    "duration": 0,
    "start_time": "2022-09-23T14:09:57.439Z"
   },
   {
    "duration": 0,
    "start_time": "2022-09-23T14:09:57.440Z"
   },
   {
    "duration": 0,
    "start_time": "2022-09-23T14:09:57.441Z"
   },
   {
    "duration": 0,
    "start_time": "2022-09-23T14:09:57.442Z"
   },
   {
    "duration": 0,
    "start_time": "2022-09-23T14:09:57.443Z"
   },
   {
    "duration": 0,
    "start_time": "2022-09-23T14:09:57.444Z"
   },
   {
    "duration": 0,
    "start_time": "2022-09-23T14:09:57.445Z"
   },
   {
    "duration": 0,
    "start_time": "2022-09-23T14:09:57.446Z"
   },
   {
    "duration": 0,
    "start_time": "2022-09-23T14:09:57.447Z"
   },
   {
    "duration": 0,
    "start_time": "2022-09-23T14:09:57.448Z"
   },
   {
    "duration": 0,
    "start_time": "2022-09-23T14:09:57.449Z"
   },
   {
    "duration": 0,
    "start_time": "2022-09-23T14:09:57.450Z"
   },
   {
    "duration": 0,
    "start_time": "2022-09-23T14:09:57.451Z"
   },
   {
    "duration": 0,
    "start_time": "2022-09-23T14:09:57.452Z"
   },
   {
    "duration": 0,
    "start_time": "2022-09-23T14:09:57.454Z"
   },
   {
    "duration": 0,
    "start_time": "2022-09-23T14:09:57.455Z"
   },
   {
    "duration": 0,
    "start_time": "2022-09-23T14:09:57.455Z"
   },
   {
    "duration": 0,
    "start_time": "2022-09-23T14:09:57.456Z"
   },
   {
    "duration": 0,
    "start_time": "2022-09-23T14:09:57.458Z"
   },
   {
    "duration": 0,
    "start_time": "2022-09-23T14:09:57.459Z"
   },
   {
    "duration": 0,
    "start_time": "2022-09-23T14:09:57.460Z"
   },
   {
    "duration": 0,
    "start_time": "2022-09-23T14:09:57.461Z"
   },
   {
    "duration": 0,
    "start_time": "2022-09-23T14:09:57.462Z"
   },
   {
    "duration": 0,
    "start_time": "2022-09-23T14:09:57.463Z"
   },
   {
    "duration": 185,
    "start_time": "2022-09-23T14:10:17.575Z"
   },
   {
    "duration": 236,
    "start_time": "2022-09-23T14:10:18.312Z"
   },
   {
    "duration": 213,
    "start_time": "2022-09-23T14:10:22.781Z"
   },
   {
    "duration": 179,
    "start_time": "2022-09-23T14:10:23.717Z"
   },
   {
    "duration": 5,
    "start_time": "2022-09-23T14:10:24.344Z"
   },
   {
    "duration": 126,
    "start_time": "2022-09-23T14:10:24.904Z"
   },
   {
    "duration": 64,
    "start_time": "2022-09-23T14:10:26.585Z"
   },
   {
    "duration": 18,
    "start_time": "2022-09-23T14:10:28.293Z"
   },
   {
    "duration": 222,
    "start_time": "2022-09-23T14:10:29.609Z"
   },
   {
    "duration": 15,
    "start_time": "2022-09-23T14:10:30.170Z"
   },
   {
    "duration": 166,
    "start_time": "2022-09-23T14:10:30.857Z"
   },
   {
    "duration": 307,
    "start_time": "2022-09-23T14:10:31.662Z"
   },
   {
    "duration": 204,
    "start_time": "2022-09-23T14:10:32.234Z"
   },
   {
    "duration": 10,
    "start_time": "2022-09-23T14:10:33.543Z"
   },
   {
    "duration": 15,
    "start_time": "2022-09-23T14:10:34.123Z"
   },
   {
    "duration": 285,
    "start_time": "2022-09-23T14:10:34.621Z"
   },
   {
    "duration": 14,
    "start_time": "2022-09-23T14:10:35.357Z"
   },
   {
    "duration": 15,
    "start_time": "2022-09-23T14:10:35.934Z"
   },
   {
    "duration": 177,
    "start_time": "2022-09-23T14:10:36.580Z"
   },
   {
    "duration": 33,
    "start_time": "2022-09-23T14:10:37.605Z"
   },
   {
    "duration": 16,
    "start_time": "2022-09-23T14:10:38.230Z"
   },
   {
    "duration": 10,
    "start_time": "2022-09-23T14:10:38.711Z"
   },
   {
    "duration": 5,
    "start_time": "2022-09-23T14:10:39.479Z"
   },
   {
    "duration": 4,
    "start_time": "2022-09-23T14:10:39.973Z"
   },
   {
    "duration": 6,
    "start_time": "2022-09-23T14:10:40.394Z"
   },
   {
    "duration": 29,
    "start_time": "2022-09-23T14:10:40.826Z"
   },
   {
    "duration": 810,
    "start_time": "2022-09-23T14:11:02.956Z"
   },
   {
    "duration": 41,
    "start_time": "2022-09-23T14:11:03.769Z"
   },
   {
    "duration": 28,
    "start_time": "2022-09-23T14:11:03.812Z"
   },
   {
    "duration": 96,
    "start_time": "2022-09-23T14:11:03.843Z"
   },
   {
    "duration": 20,
    "start_time": "2022-09-23T14:11:03.941Z"
   },
   {
    "duration": 46,
    "start_time": "2022-09-23T14:11:03.963Z"
   },
   {
    "duration": 5,
    "start_time": "2022-09-23T14:11:04.011Z"
   },
   {
    "duration": 8,
    "start_time": "2022-09-23T14:11:04.017Z"
   },
   {
    "duration": 11,
    "start_time": "2022-09-23T14:11:04.027Z"
   },
   {
    "duration": 23,
    "start_time": "2022-09-23T14:11:04.041Z"
   },
   {
    "duration": 7,
    "start_time": "2022-09-23T14:11:04.078Z"
   },
   {
    "duration": 35,
    "start_time": "2022-09-23T14:11:04.087Z"
   },
   {
    "duration": 6,
    "start_time": "2022-09-23T14:11:04.124Z"
   },
   {
    "duration": 20,
    "start_time": "2022-09-23T14:11:04.132Z"
   },
   {
    "duration": 23,
    "start_time": "2022-09-23T14:11:04.154Z"
   },
   {
    "duration": 73,
    "start_time": "2022-09-23T14:11:04.179Z"
   },
   {
    "duration": 5,
    "start_time": "2022-09-23T14:11:04.254Z"
   },
   {
    "duration": 33,
    "start_time": "2022-09-23T14:11:04.260Z"
   },
   {
    "duration": 9,
    "start_time": "2022-09-23T14:11:04.295Z"
   },
   {
    "duration": 29,
    "start_time": "2022-09-23T14:11:04.306Z"
   },
   {
    "duration": 6,
    "start_time": "2022-09-23T14:11:04.337Z"
   },
   {
    "duration": 6,
    "start_time": "2022-09-23T14:11:04.346Z"
   },
   {
    "duration": 52,
    "start_time": "2022-09-23T14:11:04.353Z"
   },
   {
    "duration": 37,
    "start_time": "2022-09-23T14:11:04.406Z"
   },
   {
    "duration": 8,
    "start_time": "2022-09-23T14:11:04.444Z"
   },
   {
    "duration": 46,
    "start_time": "2022-09-23T14:11:04.454Z"
   },
   {
    "duration": 43,
    "start_time": "2022-09-23T14:11:04.502Z"
   },
   {
    "duration": 37,
    "start_time": "2022-09-23T14:11:04.550Z"
   },
   {
    "duration": 360,
    "start_time": "2022-09-23T14:11:04.589Z"
   },
   {
    "duration": 36,
    "start_time": "2022-09-23T14:11:04.950Z"
   },
   {
    "duration": 17,
    "start_time": "2022-09-23T14:11:04.988Z"
   },
   {
    "duration": 114,
    "start_time": "2022-09-23T14:11:05.006Z"
   },
   {
    "duration": 25,
    "start_time": "2022-09-23T14:11:05.122Z"
   },
   {
    "duration": 252,
    "start_time": "2022-09-23T14:11:05.149Z"
   },
   {
    "duration": 4,
    "start_time": "2022-09-23T14:11:05.402Z"
   },
   {
    "duration": 36,
    "start_time": "2022-09-23T14:11:05.408Z"
   },
   {
    "duration": 27,
    "start_time": "2022-09-23T14:11:05.446Z"
   },
   {
    "duration": 234,
    "start_time": "2022-09-23T14:11:05.476Z"
   },
   {
    "duration": 26,
    "start_time": "2022-09-23T14:11:05.712Z"
   },
   {
    "duration": 186,
    "start_time": "2022-09-23T14:11:05.740Z"
   },
   {
    "duration": 29,
    "start_time": "2022-09-23T14:11:05.928Z"
   },
   {
    "duration": 28,
    "start_time": "2022-09-23T14:11:05.958Z"
   },
   {
    "duration": 173,
    "start_time": "2022-09-23T14:11:05.988Z"
   },
   {
    "duration": 157,
    "start_time": "2022-09-23T14:11:06.163Z"
   },
   {
    "duration": 160,
    "start_time": "2022-09-23T14:11:06.321Z"
   },
   {
    "duration": 173,
    "start_time": "2022-09-23T14:11:06.483Z"
   },
   {
    "duration": 10,
    "start_time": "2022-09-23T14:11:06.658Z"
   },
   {
    "duration": 33,
    "start_time": "2022-09-23T14:11:06.677Z"
   },
   {
    "duration": 48,
    "start_time": "2022-09-23T14:11:06.712Z"
   },
   {
    "duration": 122,
    "start_time": "2022-09-23T14:11:06.761Z"
   },
   {
    "duration": 441,
    "start_time": "2022-09-23T14:11:06.886Z"
   },
   {
    "duration": 5,
    "start_time": "2022-09-23T14:11:07.329Z"
   },
   {
    "duration": 164,
    "start_time": "2022-09-23T14:11:07.336Z"
   },
   {
    "duration": 193,
    "start_time": "2022-09-23T14:11:07.502Z"
   },
   {
    "duration": 219,
    "start_time": "2022-09-23T14:11:07.696Z"
   },
   {
    "duration": 176,
    "start_time": "2022-09-23T14:11:07.916Z"
   },
   {
    "duration": 269,
    "start_time": "2022-09-23T14:11:08.094Z"
   },
   {
    "duration": 157,
    "start_time": "2022-09-23T14:11:08.365Z"
   },
   {
    "duration": 209,
    "start_time": "2022-09-23T14:11:08.523Z"
   },
   {
    "duration": 223,
    "start_time": "2022-09-23T14:11:08.734Z"
   },
   {
    "duration": 205,
    "start_time": "2022-09-23T14:11:08.959Z"
   },
   {
    "duration": 224,
    "start_time": "2022-09-23T14:11:09.166Z"
   },
   {
    "duration": 319,
    "start_time": "2022-09-23T14:11:09.392Z"
   },
   {
    "duration": 217,
    "start_time": "2022-09-23T14:11:09.713Z"
   },
   {
    "duration": 5,
    "start_time": "2022-09-23T14:11:09.932Z"
   },
   {
    "duration": 167,
    "start_time": "2022-09-23T14:11:09.938Z"
   },
   {
    "duration": 58,
    "start_time": "2022-09-23T14:11:10.107Z"
   },
   {
    "duration": 29,
    "start_time": "2022-09-23T14:11:10.166Z"
   },
   {
    "duration": 268,
    "start_time": "2022-09-23T14:11:10.197Z"
   },
   {
    "duration": 26,
    "start_time": "2022-09-23T14:11:10.466Z"
   },
   {
    "duration": 196,
    "start_time": "2022-09-23T14:11:10.494Z"
   },
   {
    "duration": 340,
    "start_time": "2022-09-23T14:11:10.693Z"
   },
   {
    "duration": 256,
    "start_time": "2022-09-23T14:11:11.035Z"
   },
   {
    "duration": 10,
    "start_time": "2022-09-23T14:11:11.293Z"
   },
   {
    "duration": 21,
    "start_time": "2022-09-23T14:11:11.305Z"
   },
   {
    "duration": 321,
    "start_time": "2022-09-23T14:11:11.328Z"
   },
   {
    "duration": 12,
    "start_time": "2022-09-23T14:11:11.651Z"
   },
   {
    "duration": 30,
    "start_time": "2022-09-23T14:11:11.666Z"
   },
   {
    "duration": 209,
    "start_time": "2022-09-23T14:11:11.698Z"
   },
   {
    "duration": 33,
    "start_time": "2022-09-23T14:11:11.909Z"
   },
   {
    "duration": 14,
    "start_time": "2022-09-23T14:11:11.944Z"
   },
   {
    "duration": 9,
    "start_time": "2022-09-23T14:11:11.983Z"
   },
   {
    "duration": 12,
    "start_time": "2022-09-23T14:11:11.994Z"
   },
   {
    "duration": 8,
    "start_time": "2022-09-23T14:11:12.008Z"
   },
   {
    "duration": 7,
    "start_time": "2022-09-23T14:11:12.018Z"
   },
   {
    "duration": 31,
    "start_time": "2022-09-23T14:11:12.027Z"
   },
   {
    "duration": 817,
    "start_time": "2022-09-23T14:11:57.369Z"
   },
   {
    "duration": 36,
    "start_time": "2022-09-23T14:11:58.189Z"
   },
   {
    "duration": 43,
    "start_time": "2022-09-23T14:11:58.227Z"
   },
   {
    "duration": 82,
    "start_time": "2022-09-23T14:11:58.273Z"
   },
   {
    "duration": 26,
    "start_time": "2022-09-23T14:11:58.357Z"
   },
   {
    "duration": 25,
    "start_time": "2022-09-23T14:11:58.386Z"
   },
   {
    "duration": 4,
    "start_time": "2022-09-23T14:11:58.414Z"
   },
   {
    "duration": 9,
    "start_time": "2022-09-23T14:11:58.420Z"
   },
   {
    "duration": 21,
    "start_time": "2022-09-23T14:11:58.431Z"
   },
   {
    "duration": 26,
    "start_time": "2022-09-23T14:11:58.455Z"
   },
   {
    "duration": 18,
    "start_time": "2022-09-23T14:11:58.482Z"
   },
   {
    "duration": 35,
    "start_time": "2022-09-23T14:11:58.502Z"
   },
   {
    "duration": 21,
    "start_time": "2022-09-23T14:11:58.538Z"
   },
   {
    "duration": 26,
    "start_time": "2022-09-23T14:11:58.562Z"
   },
   {
    "duration": 10,
    "start_time": "2022-09-23T14:11:58.592Z"
   },
   {
    "duration": 83,
    "start_time": "2022-09-23T14:11:58.604Z"
   },
   {
    "duration": 7,
    "start_time": "2022-09-23T14:11:58.690Z"
   },
   {
    "duration": 22,
    "start_time": "2022-09-23T14:11:58.699Z"
   },
   {
    "duration": 7,
    "start_time": "2022-09-23T14:11:58.723Z"
   },
   {
    "duration": 26,
    "start_time": "2022-09-23T14:11:58.732Z"
   },
   {
    "duration": 58,
    "start_time": "2022-09-23T14:11:58.759Z"
   },
   {
    "duration": 13,
    "start_time": "2022-09-23T14:11:58.819Z"
   },
   {
    "duration": 29,
    "start_time": "2022-09-23T14:11:58.833Z"
   },
   {
    "duration": 47,
    "start_time": "2022-09-23T14:11:58.864Z"
   },
   {
    "duration": 7,
    "start_time": "2022-09-23T14:11:58.913Z"
   },
   {
    "duration": 27,
    "start_time": "2022-09-23T14:11:58.922Z"
   },
   {
    "duration": 54,
    "start_time": "2022-09-23T14:11:58.951Z"
   },
   {
    "duration": 15,
    "start_time": "2022-09-23T14:11:59.009Z"
   },
   {
    "duration": 366,
    "start_time": "2022-09-23T14:11:59.026Z"
   },
   {
    "duration": 28,
    "start_time": "2022-09-23T14:11:59.394Z"
   },
   {
    "duration": 15,
    "start_time": "2022-09-23T14:11:59.423Z"
   },
   {
    "duration": 119,
    "start_time": "2022-09-23T14:11:59.439Z"
   },
   {
    "duration": 33,
    "start_time": "2022-09-23T14:11:59.560Z"
   },
   {
    "duration": 205,
    "start_time": "2022-09-23T14:11:59.596Z"
   },
   {
    "duration": 6,
    "start_time": "2022-09-23T14:11:59.810Z"
   },
   {
    "duration": 6,
    "start_time": "2022-09-23T14:11:59.818Z"
   },
   {
    "duration": 12,
    "start_time": "2022-09-23T14:11:59.826Z"
   },
   {
    "duration": 216,
    "start_time": "2022-09-23T14:11:59.839Z"
   },
   {
    "duration": 38,
    "start_time": "2022-09-23T14:12:00.057Z"
   },
   {
    "duration": 165,
    "start_time": "2022-09-23T14:12:00.097Z"
   },
   {
    "duration": 38,
    "start_time": "2022-09-23T14:12:00.263Z"
   },
   {
    "duration": 45,
    "start_time": "2022-09-23T14:12:00.303Z"
   },
   {
    "duration": 197,
    "start_time": "2022-09-23T14:12:00.350Z"
   },
   {
    "duration": 177,
    "start_time": "2022-09-23T14:12:00.549Z"
   },
   {
    "duration": 164,
    "start_time": "2022-09-23T14:12:00.728Z"
   },
   {
    "duration": 149,
    "start_time": "2022-09-23T14:12:00.894Z"
   },
   {
    "duration": 14,
    "start_time": "2022-09-23T14:12:01.045Z"
   },
   {
    "duration": 51,
    "start_time": "2022-09-23T14:12:01.061Z"
   },
   {
    "duration": 44,
    "start_time": "2022-09-23T14:12:01.114Z"
   },
   {
    "duration": 110,
    "start_time": "2022-09-23T14:12:01.161Z"
   },
   {
    "duration": 396,
    "start_time": "2022-09-23T14:12:01.273Z"
   },
   {
    "duration": 17,
    "start_time": "2022-09-23T14:12:01.671Z"
   },
   {
    "duration": 172,
    "start_time": "2022-09-23T14:12:01.690Z"
   },
   {
    "duration": 191,
    "start_time": "2022-09-23T14:12:01.864Z"
   },
   {
    "duration": 229,
    "start_time": "2022-09-23T14:12:02.057Z"
   },
   {
    "duration": 160,
    "start_time": "2022-09-23T14:12:02.288Z"
   },
   {
    "duration": 283,
    "start_time": "2022-09-23T14:12:02.450Z"
   },
   {
    "duration": 130,
    "start_time": "2022-09-23T14:12:02.735Z"
   },
   {
    "duration": 242,
    "start_time": "2022-09-23T14:12:02.867Z"
   },
   {
    "duration": 207,
    "start_time": "2022-09-23T14:12:03.111Z"
   },
   {
    "duration": 219,
    "start_time": "2022-09-23T14:12:03.320Z"
   },
   {
    "duration": 204,
    "start_time": "2022-09-23T14:12:03.541Z"
   },
   {
    "duration": 316,
    "start_time": "2022-09-23T14:12:03.746Z"
   },
   {
    "duration": 209,
    "start_time": "2022-09-23T14:12:04.063Z"
   },
   {
    "duration": 12,
    "start_time": "2022-09-23T14:12:04.277Z"
   },
   {
    "duration": 140,
    "start_time": "2022-09-23T14:12:04.292Z"
   },
   {
    "duration": 87,
    "start_time": "2022-09-23T14:12:04.434Z"
   },
   {
    "duration": 14,
    "start_time": "2022-09-23T14:12:04.523Z"
   },
   {
    "duration": 276,
    "start_time": "2022-09-23T14:12:04.539Z"
   },
   {
    "duration": 17,
    "start_time": "2022-09-23T14:12:04.817Z"
   },
   {
    "duration": 187,
    "start_time": "2022-09-23T14:12:04.836Z"
   },
   {
    "duration": 393,
    "start_time": "2022-09-23T14:12:05.026Z"
   },
   {
    "duration": 246,
    "start_time": "2022-09-23T14:12:05.421Z"
   },
   {
    "duration": 24,
    "start_time": "2022-09-23T14:12:05.669Z"
   },
   {
    "duration": 16,
    "start_time": "2022-09-23T14:12:05.695Z"
   },
   {
    "duration": 291,
    "start_time": "2022-09-23T14:12:05.713Z"
   },
   {
    "duration": 12,
    "start_time": "2022-09-23T14:12:06.006Z"
   },
   {
    "duration": 13,
    "start_time": "2022-09-23T14:12:06.020Z"
   },
   {
    "duration": 199,
    "start_time": "2022-09-23T14:12:06.034Z"
   },
   {
    "duration": 32,
    "start_time": "2022-09-23T14:12:06.234Z"
   },
   {
    "duration": 22,
    "start_time": "2022-09-23T14:12:06.281Z"
   },
   {
    "duration": 7,
    "start_time": "2022-09-23T14:12:06.308Z"
   },
   {
    "duration": 6,
    "start_time": "2022-09-23T14:12:06.316Z"
   },
   {
    "duration": 7,
    "start_time": "2022-09-23T14:12:06.324Z"
   },
   {
    "duration": 8,
    "start_time": "2022-09-23T14:12:06.332Z"
   },
   {
    "duration": 50,
    "start_time": "2022-09-23T14:12:06.342Z"
   },
   {
    "duration": 1158,
    "start_time": "2022-09-24T13:59:10.546Z"
   },
   {
    "duration": 27,
    "start_time": "2022-09-24T13:59:11.706Z"
   },
   {
    "duration": 29,
    "start_time": "2022-09-24T13:59:11.735Z"
   },
   {
    "duration": 80,
    "start_time": "2022-09-24T13:59:11.766Z"
   },
   {
    "duration": 13,
    "start_time": "2022-09-24T13:59:11.848Z"
   },
   {
    "duration": 21,
    "start_time": "2022-09-24T13:59:11.862Z"
   },
   {
    "duration": 4,
    "start_time": "2022-09-24T13:59:11.884Z"
   },
   {
    "duration": 4,
    "start_time": "2022-09-24T13:59:11.910Z"
   },
   {
    "duration": 7,
    "start_time": "2022-09-24T13:59:11.916Z"
   },
   {
    "duration": 13,
    "start_time": "2022-09-24T13:59:11.926Z"
   },
   {
    "duration": 5,
    "start_time": "2022-09-24T13:59:11.941Z"
   },
   {
    "duration": 33,
    "start_time": "2022-09-24T13:59:11.948Z"
   },
   {
    "duration": 30,
    "start_time": "2022-09-24T13:59:11.983Z"
   },
   {
    "duration": 28,
    "start_time": "2022-09-24T13:59:12.015Z"
   },
   {
    "duration": 13,
    "start_time": "2022-09-24T13:59:12.045Z"
   },
   {
    "duration": 84,
    "start_time": "2022-09-24T13:59:12.059Z"
   },
   {
    "duration": 4,
    "start_time": "2022-09-24T13:59:12.145Z"
   },
   {
    "duration": 19,
    "start_time": "2022-09-24T13:59:12.151Z"
   },
   {
    "duration": 4,
    "start_time": "2022-09-24T13:59:12.172Z"
   },
   {
    "duration": 33,
    "start_time": "2022-09-24T13:59:12.177Z"
   },
   {
    "duration": 6,
    "start_time": "2022-09-24T13:59:12.211Z"
   },
   {
    "duration": 3,
    "start_time": "2022-09-24T13:59:12.219Z"
   },
   {
    "duration": 24,
    "start_time": "2022-09-24T13:59:12.224Z"
   },
   {
    "duration": 31,
    "start_time": "2022-09-24T13:59:12.250Z"
   },
   {
    "duration": 30,
    "start_time": "2022-09-24T13:59:12.282Z"
   },
   {
    "duration": 27,
    "start_time": "2022-09-24T13:59:12.314Z"
   },
   {
    "duration": 35,
    "start_time": "2022-09-24T13:59:12.342Z"
   },
   {
    "duration": 32,
    "start_time": "2022-09-24T13:59:12.380Z"
   },
   {
    "duration": 330,
    "start_time": "2022-09-24T13:59:12.413Z"
   },
   {
    "duration": 24,
    "start_time": "2022-09-24T13:59:12.744Z"
   },
   {
    "duration": 13,
    "start_time": "2022-09-24T13:59:12.769Z"
   },
   {
    "duration": 100,
    "start_time": "2022-09-24T13:59:12.784Z"
   },
   {
    "duration": 32,
    "start_time": "2022-09-24T13:59:12.886Z"
   },
   {
    "duration": 158,
    "start_time": "2022-09-24T13:59:12.919Z"
   },
   {
    "duration": 3,
    "start_time": "2022-09-24T13:59:13.079Z"
   },
   {
    "duration": 13,
    "start_time": "2022-09-24T13:59:13.084Z"
   },
   {
    "duration": 12,
    "start_time": "2022-09-24T13:59:13.098Z"
   },
   {
    "duration": 186,
    "start_time": "2022-09-24T13:59:13.112Z"
   },
   {
    "duration": 21,
    "start_time": "2022-09-24T13:59:13.308Z"
   },
   {
    "duration": 149,
    "start_time": "2022-09-24T13:59:13.331Z"
   },
   {
    "duration": 33,
    "start_time": "2022-09-24T13:59:13.481Z"
   },
   {
    "duration": 10,
    "start_time": "2022-09-24T13:59:13.516Z"
   },
   {
    "duration": 157,
    "start_time": "2022-09-24T13:59:13.528Z"
   },
   {
    "duration": 145,
    "start_time": "2022-09-24T13:59:13.687Z"
   },
   {
    "duration": 141,
    "start_time": "2022-09-24T13:59:13.834Z"
   },
   {
    "duration": 140,
    "start_time": "2022-09-24T13:59:13.976Z"
   },
   {
    "duration": 10,
    "start_time": "2022-09-24T13:59:14.118Z"
   },
   {
    "duration": 32,
    "start_time": "2022-09-24T13:59:14.130Z"
   },
   {
    "duration": 51,
    "start_time": "2022-09-24T13:59:14.164Z"
   },
   {
    "duration": 76,
    "start_time": "2022-09-24T13:59:14.217Z"
   },
   {
    "duration": 401,
    "start_time": "2022-09-24T13:59:14.308Z"
   },
   {
    "duration": 5,
    "start_time": "2022-09-24T13:59:14.710Z"
   },
   {
    "duration": 122,
    "start_time": "2022-09-24T13:59:14.717Z"
   },
   {
    "duration": 147,
    "start_time": "2022-09-24T13:59:14.840Z"
   },
   {
    "duration": 196,
    "start_time": "2022-09-24T13:59:14.989Z"
   },
   {
    "duration": 172,
    "start_time": "2022-09-24T13:59:15.186Z"
   },
   {
    "duration": 207,
    "start_time": "2022-09-24T13:59:15.361Z"
   },
   {
    "duration": 117,
    "start_time": "2022-09-24T13:59:15.570Z"
   },
   {
    "duration": 175,
    "start_time": "2022-09-24T13:59:15.688Z"
   },
   {
    "duration": 173,
    "start_time": "2022-09-24T13:59:15.864Z"
   },
   {
    "duration": 202,
    "start_time": "2022-09-24T13:59:16.039Z"
   },
   {
    "duration": 216,
    "start_time": "2022-09-24T13:59:16.243Z"
   },
   {
    "duration": 263,
    "start_time": "2022-09-24T13:59:16.461Z"
   },
   {
    "duration": 174,
    "start_time": "2022-09-24T13:59:16.725Z"
   },
   {
    "duration": 10,
    "start_time": "2022-09-24T13:59:16.901Z"
   },
   {
    "duration": 132,
    "start_time": "2022-09-24T13:59:16.913Z"
   },
   {
    "duration": 65,
    "start_time": "2022-09-24T13:59:17.047Z"
   },
   {
    "duration": 13,
    "start_time": "2022-09-24T13:59:17.114Z"
   },
   {
    "duration": 227,
    "start_time": "2022-09-24T13:59:17.129Z"
   },
   {
    "duration": 14,
    "start_time": "2022-09-24T13:59:17.357Z"
   },
   {
    "duration": 157,
    "start_time": "2022-09-24T13:59:17.373Z"
   },
   {
    "duration": 287,
    "start_time": "2022-09-24T13:59:17.531Z"
   },
   {
    "duration": 205,
    "start_time": "2022-09-24T13:59:17.820Z"
   },
   {
    "duration": 8,
    "start_time": "2022-09-24T13:59:18.026Z"
   },
   {
    "duration": 13,
    "start_time": "2022-09-24T13:59:18.035Z"
   },
   {
    "duration": 272,
    "start_time": "2022-09-24T13:59:18.050Z"
   },
   {
    "duration": 10,
    "start_time": "2022-09-24T13:59:18.323Z"
   },
   {
    "duration": 13,
    "start_time": "2022-09-24T13:59:18.334Z"
   },
   {
    "duration": 171,
    "start_time": "2022-09-24T13:59:18.348Z"
   },
   {
    "duration": 28,
    "start_time": "2022-09-24T13:59:18.521Z"
   },
   {
    "duration": 13,
    "start_time": "2022-09-24T13:59:18.551Z"
   },
   {
    "duration": 7,
    "start_time": "2022-09-24T13:59:18.569Z"
   },
   {
    "duration": 36,
    "start_time": "2022-09-24T13:59:18.577Z"
   },
   {
    "duration": 5,
    "start_time": "2022-09-24T13:59:18.614Z"
   },
   {
    "duration": 5,
    "start_time": "2022-09-24T13:59:18.621Z"
   },
   {
    "duration": 34,
    "start_time": "2022-09-24T13:59:18.628Z"
   },
   {
    "duration": 7,
    "start_time": "2022-09-24T14:00:23.355Z"
   },
   {
    "duration": 21,
    "start_time": "2022-09-24T14:00:54.911Z"
   },
   {
    "duration": 77,
    "start_time": "2022-09-24T14:01:53.113Z"
   },
   {
    "duration": 7,
    "start_time": "2022-09-24T14:02:58.556Z"
   },
   {
    "duration": 77,
    "start_time": "2022-09-24T14:04:05.686Z"
   },
   {
    "duration": 14,
    "start_time": "2022-09-24T14:04:08.437Z"
   },
   {
    "duration": 38,
    "start_time": "2022-09-24T14:07:41.263Z"
   },
   {
    "duration": 818,
    "start_time": "2022-09-25T13:17:27.040Z"
   },
   {
    "duration": 329,
    "start_time": "2022-09-25T13:17:27.860Z"
   },
   {
    "duration": 26,
    "start_time": "2022-09-25T13:17:28.191Z"
   },
   {
    "duration": 39,
    "start_time": "2022-09-25T13:17:28.221Z"
   },
   {
    "duration": 88,
    "start_time": "2022-09-25T13:17:28.262Z"
   },
   {
    "duration": 17,
    "start_time": "2022-09-25T13:17:28.351Z"
   },
   {
    "duration": 35,
    "start_time": "2022-09-25T13:17:28.370Z"
   },
   {
    "duration": 50,
    "start_time": "2022-09-25T13:17:28.406Z"
   },
   {
    "duration": 0,
    "start_time": "2022-09-25T13:17:28.460Z"
   },
   {
    "duration": 0,
    "start_time": "2022-09-25T13:17:28.462Z"
   },
   {
    "duration": 0,
    "start_time": "2022-09-25T13:17:28.463Z"
   },
   {
    "duration": 0,
    "start_time": "2022-09-25T13:17:28.464Z"
   },
   {
    "duration": 0,
    "start_time": "2022-09-25T13:17:28.465Z"
   },
   {
    "duration": 0,
    "start_time": "2022-09-25T13:17:28.467Z"
   },
   {
    "duration": 0,
    "start_time": "2022-09-25T13:17:28.468Z"
   },
   {
    "duration": 0,
    "start_time": "2022-09-25T13:17:28.469Z"
   },
   {
    "duration": 0,
    "start_time": "2022-09-25T13:17:28.470Z"
   },
   {
    "duration": 0,
    "start_time": "2022-09-25T13:17:28.471Z"
   },
   {
    "duration": 0,
    "start_time": "2022-09-25T13:17:28.472Z"
   },
   {
    "duration": 0,
    "start_time": "2022-09-25T13:17:28.473Z"
   },
   {
    "duration": 0,
    "start_time": "2022-09-25T13:17:28.474Z"
   },
   {
    "duration": 0,
    "start_time": "2022-09-25T13:17:28.474Z"
   },
   {
    "duration": 0,
    "start_time": "2022-09-25T13:17:28.475Z"
   },
   {
    "duration": 0,
    "start_time": "2022-09-25T13:17:28.476Z"
   },
   {
    "duration": 0,
    "start_time": "2022-09-25T13:17:28.477Z"
   },
   {
    "duration": 0,
    "start_time": "2022-09-25T13:17:28.478Z"
   },
   {
    "duration": 0,
    "start_time": "2022-09-25T13:17:28.479Z"
   },
   {
    "duration": 0,
    "start_time": "2022-09-25T13:17:28.480Z"
   },
   {
    "duration": 0,
    "start_time": "2022-09-25T13:17:28.481Z"
   },
   {
    "duration": 0,
    "start_time": "2022-09-25T13:17:28.482Z"
   },
   {
    "duration": 0,
    "start_time": "2022-09-25T13:17:28.483Z"
   },
   {
    "duration": 0,
    "start_time": "2022-09-25T13:17:28.484Z"
   },
   {
    "duration": 0,
    "start_time": "2022-09-25T13:17:28.485Z"
   },
   {
    "duration": 0,
    "start_time": "2022-09-25T13:17:28.486Z"
   },
   {
    "duration": 0,
    "start_time": "2022-09-25T13:17:28.487Z"
   },
   {
    "duration": 0,
    "start_time": "2022-09-25T13:17:28.488Z"
   },
   {
    "duration": 0,
    "start_time": "2022-09-25T13:17:28.489Z"
   },
   {
    "duration": 0,
    "start_time": "2022-09-25T13:17:28.490Z"
   },
   {
    "duration": 0,
    "start_time": "2022-09-25T13:17:28.491Z"
   },
   {
    "duration": 0,
    "start_time": "2022-09-25T13:17:28.492Z"
   },
   {
    "duration": 0,
    "start_time": "2022-09-25T13:17:28.492Z"
   },
   {
    "duration": 0,
    "start_time": "2022-09-25T13:17:28.494Z"
   },
   {
    "duration": 0,
    "start_time": "2022-09-25T13:17:28.495Z"
   },
   {
    "duration": 0,
    "start_time": "2022-09-25T13:17:28.496Z"
   },
   {
    "duration": 0,
    "start_time": "2022-09-25T13:17:28.497Z"
   },
   {
    "duration": 0,
    "start_time": "2022-09-25T13:17:28.520Z"
   },
   {
    "duration": 0,
    "start_time": "2022-09-25T13:17:28.522Z"
   },
   {
    "duration": 0,
    "start_time": "2022-09-25T13:17:28.523Z"
   },
   {
    "duration": 0,
    "start_time": "2022-09-25T13:17:28.524Z"
   },
   {
    "duration": 0,
    "start_time": "2022-09-25T13:17:28.525Z"
   },
   {
    "duration": 0,
    "start_time": "2022-09-25T13:17:28.526Z"
   },
   {
    "duration": 0,
    "start_time": "2022-09-25T13:17:28.527Z"
   },
   {
    "duration": 0,
    "start_time": "2022-09-25T13:17:28.528Z"
   },
   {
    "duration": 0,
    "start_time": "2022-09-25T13:17:28.530Z"
   },
   {
    "duration": 0,
    "start_time": "2022-09-25T13:17:28.531Z"
   },
   {
    "duration": 0,
    "start_time": "2022-09-25T13:17:28.532Z"
   },
   {
    "duration": 0,
    "start_time": "2022-09-25T13:17:28.533Z"
   },
   {
    "duration": 0,
    "start_time": "2022-09-25T13:17:28.534Z"
   },
   {
    "duration": 0,
    "start_time": "2022-09-25T13:17:28.535Z"
   },
   {
    "duration": 0,
    "start_time": "2022-09-25T13:17:28.536Z"
   },
   {
    "duration": 0,
    "start_time": "2022-09-25T13:17:28.537Z"
   },
   {
    "duration": 0,
    "start_time": "2022-09-25T13:17:28.538Z"
   },
   {
    "duration": 0,
    "start_time": "2022-09-25T13:17:28.540Z"
   },
   {
    "duration": 0,
    "start_time": "2022-09-25T13:17:28.542Z"
   },
   {
    "duration": 0,
    "start_time": "2022-09-25T13:17:28.543Z"
   },
   {
    "duration": 0,
    "start_time": "2022-09-25T13:17:28.545Z"
   },
   {
    "duration": 0,
    "start_time": "2022-09-25T13:17:28.547Z"
   },
   {
    "duration": 0,
    "start_time": "2022-09-25T13:17:28.550Z"
   },
   {
    "duration": 0,
    "start_time": "2022-09-25T13:17:28.551Z"
   },
   {
    "duration": 0,
    "start_time": "2022-09-25T13:17:28.552Z"
   },
   {
    "duration": 0,
    "start_time": "2022-09-25T13:17:28.554Z"
   },
   {
    "duration": 0,
    "start_time": "2022-09-25T13:17:28.555Z"
   },
   {
    "duration": 0,
    "start_time": "2022-09-25T13:17:28.621Z"
   },
   {
    "duration": 0,
    "start_time": "2022-09-25T13:17:28.622Z"
   },
   {
    "duration": 0,
    "start_time": "2022-09-25T13:17:28.623Z"
   },
   {
    "duration": 0,
    "start_time": "2022-09-25T13:17:28.624Z"
   },
   {
    "duration": 0,
    "start_time": "2022-09-25T13:17:28.625Z"
   },
   {
    "duration": 0,
    "start_time": "2022-09-25T13:17:28.626Z"
   },
   {
    "duration": 0,
    "start_time": "2022-09-25T13:17:28.627Z"
   },
   {
    "duration": 0,
    "start_time": "2022-09-25T13:17:28.628Z"
   },
   {
    "duration": 0,
    "start_time": "2022-09-25T13:17:28.629Z"
   },
   {
    "duration": 0,
    "start_time": "2022-09-25T13:17:28.630Z"
   },
   {
    "duration": 0,
    "start_time": "2022-09-25T13:17:28.631Z"
   },
   {
    "duration": 0,
    "start_time": "2022-09-25T13:17:28.632Z"
   },
   {
    "duration": 0,
    "start_time": "2022-09-25T13:17:28.633Z"
   },
   {
    "duration": 0,
    "start_time": "2022-09-25T13:17:28.635Z"
   },
   {
    "duration": 0,
    "start_time": "2022-09-25T13:17:28.636Z"
   },
   {
    "duration": 0,
    "start_time": "2022-09-25T13:17:28.637Z"
   },
   {
    "duration": 0,
    "start_time": "2022-09-25T13:17:28.638Z"
   },
   {
    "duration": 0,
    "start_time": "2022-09-25T13:17:28.639Z"
   },
   {
    "duration": 0,
    "start_time": "2022-09-25T13:17:28.641Z"
   },
   {
    "duration": 0,
    "start_time": "2022-09-25T13:17:28.642Z"
   },
   {
    "duration": 0,
    "start_time": "2022-09-25T13:17:28.643Z"
   },
   {
    "duration": 0,
    "start_time": "2022-09-25T13:17:28.644Z"
   },
   {
    "duration": 0,
    "start_time": "2022-09-25T13:17:28.646Z"
   },
   {
    "duration": 0,
    "start_time": "2022-09-25T13:17:28.647Z"
   },
   {
    "duration": 0,
    "start_time": "2022-09-25T13:17:28.648Z"
   },
   {
    "duration": 0,
    "start_time": "2022-09-25T13:17:28.649Z"
   },
   {
    "duration": 4,
    "start_time": "2022-09-25T13:17:49.827Z"
   },
   {
    "duration": 139,
    "start_time": "2022-09-25T13:17:50.393Z"
   },
   {
    "duration": 27,
    "start_time": "2022-09-25T13:17:51.982Z"
   },
   {
    "duration": 23,
    "start_time": "2022-09-25T13:17:52.928Z"
   },
   {
    "duration": 74,
    "start_time": "2022-09-25T13:17:53.360Z"
   },
   {
    "duration": 16,
    "start_time": "2022-09-25T13:17:54.149Z"
   },
   {
    "duration": 23,
    "start_time": "2022-09-25T13:17:55.348Z"
   },
   {
    "duration": 55,
    "start_time": "2022-09-25T13:17:57.663Z"
   },
   {
    "duration": 103,
    "start_time": "2022-09-25T13:18:14.591Z"
   },
   {
    "duration": 2109,
    "start_time": "2022-09-25T13:18:22.278Z"
   },
   {
    "duration": 6,
    "start_time": "2022-09-25T13:18:38.611Z"
   },
   {
    "duration": 4,
    "start_time": "2022-09-25T13:18:39.401Z"
   },
   {
    "duration": 4,
    "start_time": "2022-09-25T13:18:40.407Z"
   },
   {
    "duration": 10,
    "start_time": "2022-09-25T13:18:40.864Z"
   },
   {
    "duration": 8,
    "start_time": "2022-09-25T13:18:41.795Z"
   },
   {
    "duration": 23,
    "start_time": "2022-09-25T13:18:42.282Z"
   },
   {
    "duration": 7,
    "start_time": "2022-09-25T13:18:42.688Z"
   },
   {
    "duration": 18,
    "start_time": "2022-09-25T13:18:43.175Z"
   },
   {
    "duration": 9,
    "start_time": "2022-09-25T13:18:43.606Z"
   },
   {
    "duration": 71,
    "start_time": "2022-09-25T13:18:44.141Z"
   },
   {
    "duration": 5,
    "start_time": "2022-09-25T13:18:44.714Z"
   },
   {
    "duration": 15,
    "start_time": "2022-09-25T13:18:45.148Z"
   },
   {
    "duration": 6,
    "start_time": "2022-09-25T13:18:46.497Z"
   },
   {
    "duration": 21,
    "start_time": "2022-09-25T13:18:47.224Z"
   },
   {
    "duration": 5,
    "start_time": "2022-09-25T13:18:48.334Z"
   },
   {
    "duration": 3,
    "start_time": "2022-09-25T13:18:48.613Z"
   },
   {
    "duration": 22,
    "start_time": "2022-09-25T13:18:49.008Z"
   },
   {
    "duration": 32,
    "start_time": "2022-09-25T13:18:50.856Z"
   },
   {
    "duration": 8,
    "start_time": "2022-09-25T13:18:51.352Z"
   },
   {
    "duration": 23,
    "start_time": "2022-09-25T13:18:51.862Z"
   },
   {
    "duration": 38,
    "start_time": "2022-09-25T13:18:52.334Z"
   },
   {
    "duration": 15,
    "start_time": "2022-09-25T13:18:52.772Z"
   },
   {
    "duration": 324,
    "start_time": "2022-09-25T13:18:53.239Z"
   },
   {
    "duration": 27,
    "start_time": "2022-09-25T13:18:53.750Z"
   },
   {
    "duration": 13,
    "start_time": "2022-09-25T13:18:54.564Z"
   },
   {
    "duration": 95,
    "start_time": "2022-09-25T13:18:55.888Z"
   },
   {
    "duration": 26,
    "start_time": "2022-09-25T13:18:56.526Z"
   },
   {
    "duration": 163,
    "start_time": "2022-09-25T13:18:57.547Z"
   },
   {
    "duration": 4,
    "start_time": "2022-09-25T13:18:58.042Z"
   },
   {
    "duration": 4,
    "start_time": "2022-09-25T13:18:58.615Z"
   },
   {
    "duration": 8,
    "start_time": "2022-09-25T13:18:59.587Z"
   },
   {
    "duration": 168,
    "start_time": "2022-09-25T13:19:00.222Z"
   },
   {
    "duration": 27,
    "start_time": "2022-09-25T13:19:00.960Z"
   },
   {
    "duration": 241,
    "start_time": "2022-09-25T13:19:01.483Z"
   },
   {
    "duration": 11,
    "start_time": "2022-09-25T13:19:02.352Z"
   },
   {
    "duration": 10,
    "start_time": "2022-09-25T13:19:02.979Z"
   },
   {
    "duration": 157,
    "start_time": "2022-09-25T13:19:03.482Z"
   },
   {
    "duration": 154,
    "start_time": "2022-09-25T13:19:09.545Z"
   },
   {
    "duration": 11,
    "start_time": "2022-09-25T13:19:10.680Z"
   },
   {
    "duration": 154,
    "start_time": "2022-09-25T13:19:11.280Z"
   },
   {
    "duration": 156,
    "start_time": "2022-09-25T13:19:14.387Z"
   },
   {
    "duration": 16,
    "start_time": "2022-09-25T13:19:15.024Z"
   },
   {
    "duration": 10,
    "start_time": "2022-09-25T13:19:15.888Z"
   },
   {
    "duration": 162,
    "start_time": "2022-09-25T13:19:16.614Z"
   },
   {
    "duration": 143,
    "start_time": "2022-09-25T13:19:18.278Z"
   },
   {
    "duration": 11,
    "start_time": "2022-09-25T13:19:19.544Z"
   },
   {
    "duration": 9,
    "start_time": "2022-09-25T13:19:20.256Z"
   },
   {
    "duration": 148,
    "start_time": "2022-09-25T13:19:21.122Z"
   },
   {
    "duration": 145,
    "start_time": "2022-09-25T13:19:23.032Z"
   },
   {
    "duration": 12,
    "start_time": "2022-09-25T13:19:23.675Z"
   },
   {
    "duration": 9,
    "start_time": "2022-09-25T13:19:24.344Z"
   },
   {
    "duration": 26,
    "start_time": "2022-09-25T13:19:47.751Z"
   },
   {
    "duration": 91,
    "start_time": "2022-09-25T13:19:49.873Z"
   },
   {
    "duration": 430,
    "start_time": "2022-09-25T13:19:50.338Z"
   },
   {
    "duration": 523,
    "start_time": "2022-09-25T13:19:51.918Z"
   },
   {
    "duration": 6,
    "start_time": "2022-09-25T13:19:55.013Z"
   },
   {
    "duration": 147,
    "start_time": "2022-09-25T13:19:59.651Z"
   },
   {
    "duration": 150,
    "start_time": "2022-09-25T13:20:42.398Z"
   },
   {
    "duration": 296,
    "start_time": "2022-09-25T13:21:13.504Z"
   },
   {
    "duration": 255,
    "start_time": "2022-09-25T13:21:42.332Z"
   },
   {
    "duration": 172,
    "start_time": "2022-09-25T13:22:50.349Z"
   },
   {
    "duration": 168,
    "start_time": "2022-09-25T13:23:00.606Z"
   },
   {
    "duration": 370,
    "start_time": "2022-09-25T13:23:33.995Z"
   },
   {
    "duration": 180,
    "start_time": "2022-09-25T13:24:01.117Z"
   },
   {
    "duration": 266,
    "start_time": "2022-09-25T13:24:15.607Z"
   },
   {
    "duration": 113,
    "start_time": "2022-09-25T13:24:22.100Z"
   },
   {
    "duration": 184,
    "start_time": "2022-09-25T13:24:22.937Z"
   },
   {
    "duration": 186,
    "start_time": "2022-09-25T13:24:49.610Z"
   },
   {
    "duration": 199,
    "start_time": "2022-09-25T13:25:13.579Z"
   },
   {
    "duration": 249,
    "start_time": "2022-09-25T13:25:19.876Z"
   },
   {
    "duration": 341,
    "start_time": "2022-09-25T13:25:23.287Z"
   },
   {
    "duration": 197,
    "start_time": "2022-09-25T13:25:47.982Z"
   },
   {
    "duration": 216,
    "start_time": "2022-09-25T13:26:42.800Z"
   },
   {
    "duration": 216,
    "start_time": "2022-09-25T13:26:55.947Z"
   },
   {
    "duration": 224,
    "start_time": "2022-09-25T13:27:02.084Z"
   },
   {
    "duration": 6,
    "start_time": "2022-09-25T13:34:27.799Z"
   },
   {
    "duration": 158,
    "start_time": "2022-09-25T13:34:28.526Z"
   },
   {
    "duration": 73,
    "start_time": "2022-09-25T13:35:20.503Z"
   },
   {
    "duration": 15,
    "start_time": "2022-09-25T13:35:29.489Z"
   },
   {
    "duration": 246,
    "start_time": "2022-09-25T13:35:31.247Z"
   },
   {
    "duration": 16,
    "start_time": "2022-09-25T13:35:31.875Z"
   },
   {
    "duration": 158,
    "start_time": "2022-09-25T13:35:34.443Z"
   },
   {
    "duration": 342,
    "start_time": "2022-09-25T13:35:34.907Z"
   },
   {
    "duration": 256,
    "start_time": "2022-09-25T13:35:42.391Z"
   },
   {
    "duration": 10,
    "start_time": "2022-09-25T13:35:44.586Z"
   },
   {
    "duration": 14,
    "start_time": "2022-09-25T13:35:45.304Z"
   },
   {
    "duration": 140,
    "start_time": "2022-09-25T13:35:45.783Z"
   },
   {
    "duration": 12,
    "start_time": "2022-09-25T13:35:46.187Z"
   },
   {
    "duration": 17,
    "start_time": "2022-09-25T13:35:46.639Z"
   },
   {
    "duration": 193,
    "start_time": "2022-09-25T13:35:47.154Z"
   },
   {
    "duration": 36,
    "start_time": "2022-09-25T13:35:48.605Z"
   },
   {
    "duration": 18,
    "start_time": "2022-09-25T13:35:49.047Z"
   },
   {
    "duration": 9,
    "start_time": "2022-09-25T13:35:49.516Z"
   },
   {
    "duration": 7,
    "start_time": "2022-09-25T13:35:49.918Z"
   },
   {
    "duration": 5,
    "start_time": "2022-09-25T13:35:50.390Z"
   },
   {
    "duration": 5,
    "start_time": "2022-09-25T13:35:50.778Z"
   },
   {
    "duration": 34,
    "start_time": "2022-09-25T13:35:51.228Z"
   },
   {
    "duration": 858,
    "start_time": "2022-09-26T14:29:58.395Z"
   },
   {
    "duration": 181,
    "start_time": "2022-09-26T14:29:59.256Z"
   },
   {
    "duration": 30,
    "start_time": "2022-09-26T14:29:59.438Z"
   },
   {
    "duration": 28,
    "start_time": "2022-09-26T14:29:59.469Z"
   },
   {
    "duration": 83,
    "start_time": "2022-09-26T14:29:59.499Z"
   },
   {
    "duration": 24,
    "start_time": "2022-09-26T14:29:59.584Z"
   },
   {
    "duration": 23,
    "start_time": "2022-09-26T14:29:59.610Z"
   },
   {
    "duration": 2168,
    "start_time": "2022-09-26T14:29:59.635Z"
   },
   {
    "duration": 5,
    "start_time": "2022-09-26T14:30:01.805Z"
   },
   {
    "duration": 29,
    "start_time": "2022-09-26T14:30:01.812Z"
   },
   {
    "duration": 32,
    "start_time": "2022-09-26T14:30:01.844Z"
   },
   {
    "duration": 14,
    "start_time": "2022-09-26T14:30:01.878Z"
   },
   {
    "duration": 13,
    "start_time": "2022-09-26T14:30:01.894Z"
   },
   {
    "duration": 54,
    "start_time": "2022-09-26T14:30:01.911Z"
   },
   {
    "duration": 16,
    "start_time": "2022-09-26T14:30:01.967Z"
   },
   {
    "duration": 35,
    "start_time": "2022-09-26T14:30:01.985Z"
   },
   {
    "duration": 25,
    "start_time": "2022-09-26T14:30:02.022Z"
   },
   {
    "duration": 83,
    "start_time": "2022-09-26T14:30:02.049Z"
   },
   {
    "duration": 6,
    "start_time": "2022-09-26T14:30:02.133Z"
   },
   {
    "duration": 23,
    "start_time": "2022-09-26T14:30:02.141Z"
   },
   {
    "duration": 14,
    "start_time": "2022-09-26T14:30:02.166Z"
   },
   {
    "duration": 38,
    "start_time": "2022-09-26T14:30:02.182Z"
   },
   {
    "duration": 34,
    "start_time": "2022-09-26T14:30:02.222Z"
   },
   {
    "duration": 21,
    "start_time": "2022-09-26T14:30:02.258Z"
   },
   {
    "duration": 54,
    "start_time": "2022-09-26T14:30:02.282Z"
   },
   {
    "duration": 39,
    "start_time": "2022-09-26T14:30:02.338Z"
   },
   {
    "duration": 9,
    "start_time": "2022-09-26T14:30:02.379Z"
   },
   {
    "duration": 31,
    "start_time": "2022-09-26T14:30:02.390Z"
   },
   {
    "duration": 41,
    "start_time": "2022-09-26T14:30:02.422Z"
   },
   {
    "duration": 17,
    "start_time": "2022-09-26T14:30:02.465Z"
   },
   {
    "duration": 360,
    "start_time": "2022-09-26T14:30:02.496Z"
   },
   {
    "duration": 40,
    "start_time": "2022-09-26T14:30:02.858Z"
   },
   {
    "duration": 18,
    "start_time": "2022-09-26T14:30:02.900Z"
   },
   {
    "duration": 120,
    "start_time": "2022-09-26T14:30:02.919Z"
   },
   {
    "duration": 28,
    "start_time": "2022-09-26T14:30:03.040Z"
   },
   {
    "duration": 197,
    "start_time": "2022-09-26T14:30:03.070Z"
   },
   {
    "duration": 4,
    "start_time": "2022-09-26T14:30:03.269Z"
   },
   {
    "duration": 26,
    "start_time": "2022-09-26T14:30:03.275Z"
   },
   {
    "duration": 16,
    "start_time": "2022-09-26T14:30:03.303Z"
   },
   {
    "duration": 170,
    "start_time": "2022-09-26T14:30:03.321Z"
   },
   {
    "duration": 28,
    "start_time": "2022-09-26T14:30:03.499Z"
   },
   {
    "duration": 189,
    "start_time": "2022-09-26T14:30:03.528Z"
   },
   {
    "duration": 13,
    "start_time": "2022-09-26T14:30:03.719Z"
   },
   {
    "duration": 25,
    "start_time": "2022-09-26T14:30:03.733Z"
   },
   {
    "duration": 240,
    "start_time": "2022-09-26T14:30:03.760Z"
   },
   {
    "duration": 168,
    "start_time": "2022-09-26T14:30:04.002Z"
   },
   {
    "duration": 24,
    "start_time": "2022-09-26T14:30:04.172Z"
   },
   {
    "duration": 158,
    "start_time": "2022-09-26T14:30:04.199Z"
   },
   {
    "duration": 178,
    "start_time": "2022-09-26T14:30:04.359Z"
   },
   {
    "duration": 13,
    "start_time": "2022-09-26T14:30:04.539Z"
   },
   {
    "duration": 13,
    "start_time": "2022-09-26T14:30:04.554Z"
   },
   {
    "duration": 171,
    "start_time": "2022-09-26T14:30:04.569Z"
   },
   {
    "duration": 162,
    "start_time": "2022-09-26T14:30:04.742Z"
   },
   {
    "duration": 15,
    "start_time": "2022-09-26T14:30:04.906Z"
   },
   {
    "duration": 35,
    "start_time": "2022-09-26T14:30:04.923Z"
   },
   {
    "duration": 178,
    "start_time": "2022-09-26T14:30:04.960Z"
   },
   {
    "duration": 157,
    "start_time": "2022-09-26T14:30:05.140Z"
   },
   {
    "duration": 11,
    "start_time": "2022-09-26T14:30:05.298Z"
   },
   {
    "duration": 27,
    "start_time": "2022-09-26T14:30:05.311Z"
   },
   {
    "duration": 41,
    "start_time": "2022-09-26T14:30:05.340Z"
   },
   {
    "duration": 118,
    "start_time": "2022-09-26T14:30:05.383Z"
   },
   {
    "duration": 405,
    "start_time": "2022-09-26T14:30:05.503Z"
   },
   {
    "duration": 492,
    "start_time": "2022-09-26T14:30:05.910Z"
   },
   {
    "duration": 6,
    "start_time": "2022-09-26T14:30:06.404Z"
   },
   {
    "duration": 374,
    "start_time": "2022-09-26T14:30:06.411Z"
   },
   {
    "duration": 247,
    "start_time": "2022-09-26T14:30:06.787Z"
   },
   {
    "duration": 284,
    "start_time": "2022-09-26T14:30:07.036Z"
   },
   {
    "duration": 192,
    "start_time": "2022-09-26T14:30:07.323Z"
   },
   {
    "duration": 296,
    "start_time": "2022-09-26T14:30:07.516Z"
   },
   {
    "duration": 266,
    "start_time": "2022-09-26T14:30:07.814Z"
   },
   {
    "duration": 232,
    "start_time": "2022-09-26T14:30:08.082Z"
   },
   {
    "duration": 202,
    "start_time": "2022-09-26T14:30:08.316Z"
   },
   {
    "duration": 209,
    "start_time": "2022-09-26T14:30:08.520Z"
   },
   {
    "duration": 220,
    "start_time": "2022-09-26T14:30:08.731Z"
   },
   {
    "duration": 262,
    "start_time": "2022-09-26T14:30:08.953Z"
   },
   {
    "duration": 230,
    "start_time": "2022-09-26T14:30:09.216Z"
   },
   {
    "duration": 5,
    "start_time": "2022-09-26T14:30:09.448Z"
   },
   {
    "duration": 153,
    "start_time": "2022-09-26T14:30:09.454Z"
   },
   {
    "duration": 86,
    "start_time": "2022-09-26T14:30:09.610Z"
   },
   {
    "duration": 16,
    "start_time": "2022-09-26T14:30:09.698Z"
   },
   {
    "duration": 294,
    "start_time": "2022-09-26T14:30:09.715Z"
   },
   {
    "duration": 15,
    "start_time": "2022-09-26T14:30:10.011Z"
   },
   {
    "duration": 195,
    "start_time": "2022-09-26T14:30:10.028Z"
   },
   {
    "duration": 495,
    "start_time": "2022-09-26T14:30:10.225Z"
   },
   {
    "duration": 267,
    "start_time": "2022-09-26T14:30:10.723Z"
   },
   {
    "duration": 11,
    "start_time": "2022-09-26T14:30:10.995Z"
   },
   {
    "duration": 26,
    "start_time": "2022-09-26T14:30:11.008Z"
   },
   {
    "duration": 144,
    "start_time": "2022-09-26T14:30:11.037Z"
   },
   {
    "duration": 13,
    "start_time": "2022-09-26T14:30:11.183Z"
   },
   {
    "duration": 14,
    "start_time": "2022-09-26T14:30:11.198Z"
   },
   {
    "duration": 206,
    "start_time": "2022-09-26T14:30:11.214Z"
   },
   {
    "duration": 35,
    "start_time": "2022-09-26T14:30:11.422Z"
   },
   {
    "duration": 41,
    "start_time": "2022-09-26T14:30:11.459Z"
   },
   {
    "duration": 8,
    "start_time": "2022-09-26T14:30:11.502Z"
   },
   {
    "duration": 7,
    "start_time": "2022-09-26T14:30:11.513Z"
   },
   {
    "duration": 9,
    "start_time": "2022-09-26T14:30:11.522Z"
   },
   {
    "duration": 12,
    "start_time": "2022-09-26T14:30:11.533Z"
   },
   {
    "duration": 57,
    "start_time": "2022-09-26T14:30:11.547Z"
   },
   {
    "duration": 17,
    "start_time": "2022-09-26T14:30:37.211Z"
   },
   {
    "duration": 923,
    "start_time": "2022-09-26T15:18:29.022Z"
   },
   {
    "duration": 343,
    "start_time": "2022-09-26T15:18:29.948Z"
   },
   {
    "duration": 28,
    "start_time": "2022-09-26T15:18:30.293Z"
   },
   {
    "duration": 50,
    "start_time": "2022-09-26T15:18:30.324Z"
   },
   {
    "duration": 108,
    "start_time": "2022-09-26T15:18:30.377Z"
   },
   {
    "duration": 16,
    "start_time": "2022-09-26T15:18:30.487Z"
   },
   {
    "duration": 37,
    "start_time": "2022-09-26T15:18:30.505Z"
   },
   {
    "duration": 2219,
    "start_time": "2022-09-26T15:18:30.544Z"
   },
   {
    "duration": 5,
    "start_time": "2022-09-26T15:18:32.765Z"
   },
   {
    "duration": 7,
    "start_time": "2022-09-26T15:18:32.773Z"
   },
   {
    "duration": 8,
    "start_time": "2022-09-26T15:18:32.781Z"
   },
   {
    "duration": 14,
    "start_time": "2022-09-26T15:18:32.790Z"
   },
   {
    "duration": 7,
    "start_time": "2022-09-26T15:18:32.806Z"
   },
   {
    "duration": 29,
    "start_time": "2022-09-26T15:18:32.815Z"
   },
   {
    "duration": 8,
    "start_time": "2022-09-26T15:18:32.846Z"
   },
   {
    "duration": 20,
    "start_time": "2022-09-26T15:18:32.856Z"
   },
   {
    "duration": 9,
    "start_time": "2022-09-26T15:18:32.878Z"
   },
   {
    "duration": 95,
    "start_time": "2022-09-26T15:18:32.889Z"
   },
   {
    "duration": 6,
    "start_time": "2022-09-26T15:18:32.985Z"
   },
   {
    "duration": 30,
    "start_time": "2022-09-26T15:18:32.993Z"
   },
   {
    "duration": 6,
    "start_time": "2022-09-26T15:18:33.024Z"
   },
   {
    "duration": 27,
    "start_time": "2022-09-26T15:18:33.032Z"
   },
   {
    "duration": 6,
    "start_time": "2022-09-26T15:18:33.061Z"
   },
   {
    "duration": 6,
    "start_time": "2022-09-26T15:18:33.068Z"
   },
   {
    "duration": 53,
    "start_time": "2022-09-26T15:18:33.076Z"
   },
   {
    "duration": 36,
    "start_time": "2022-09-26T15:18:33.131Z"
   },
   {
    "duration": 9,
    "start_time": "2022-09-26T15:18:33.169Z"
   },
   {
    "duration": 47,
    "start_time": "2022-09-26T15:18:33.184Z"
   },
   {
    "duration": 40,
    "start_time": "2022-09-26T15:18:33.233Z"
   },
   {
    "duration": 24,
    "start_time": "2022-09-26T15:18:33.275Z"
   },
   {
    "duration": 380,
    "start_time": "2022-09-26T15:18:33.301Z"
   },
   {
    "duration": 27,
    "start_time": "2022-09-26T15:18:33.683Z"
   },
   {
    "duration": 12,
    "start_time": "2022-09-26T15:18:33.721Z"
   },
   {
    "duration": 111,
    "start_time": "2022-09-26T15:18:33.735Z"
   },
   {
    "duration": 27,
    "start_time": "2022-09-26T15:18:33.848Z"
   },
   {
    "duration": 185,
    "start_time": "2022-09-26T15:18:33.877Z"
   },
   {
    "duration": 3,
    "start_time": "2022-09-26T15:18:34.064Z"
   },
   {
    "duration": 18,
    "start_time": "2022-09-26T15:18:34.070Z"
   },
   {
    "duration": 16,
    "start_time": "2022-09-26T15:18:34.090Z"
   },
   {
    "duration": 160,
    "start_time": "2022-09-26T15:18:34.108Z"
   },
   {
    "duration": 26,
    "start_time": "2022-09-26T15:18:34.270Z"
   },
   {
    "duration": 247,
    "start_time": "2022-09-26T15:18:34.298Z"
   },
   {
    "duration": 11,
    "start_time": "2022-09-26T15:18:34.547Z"
   },
   {
    "duration": 9,
    "start_time": "2022-09-26T15:18:34.560Z"
   },
   {
    "duration": 169,
    "start_time": "2022-09-26T15:18:34.571Z"
   },
   {
    "duration": 164,
    "start_time": "2022-09-26T15:18:34.742Z"
   },
   {
    "duration": 16,
    "start_time": "2022-09-26T15:18:34.908Z"
   },
   {
    "duration": 171,
    "start_time": "2022-09-26T15:18:34.926Z"
   },
   {
    "duration": 143,
    "start_time": "2022-09-26T15:18:35.099Z"
   },
   {
    "duration": 12,
    "start_time": "2022-09-26T15:18:35.244Z"
   },
   {
    "duration": 10,
    "start_time": "2022-09-26T15:18:35.258Z"
   },
   {
    "duration": 162,
    "start_time": "2022-09-26T15:18:35.270Z"
   },
   {
    "duration": 141,
    "start_time": "2022-09-26T15:18:35.434Z"
   },
   {
    "duration": 10,
    "start_time": "2022-09-26T15:18:35.577Z"
   },
   {
    "duration": 10,
    "start_time": "2022-09-26T15:18:35.589Z"
   },
   {
    "duration": 158,
    "start_time": "2022-09-26T15:18:35.601Z"
   },
   {
    "duration": 175,
    "start_time": "2022-09-26T15:18:35.761Z"
   },
   {
    "duration": 11,
    "start_time": "2022-09-26T15:18:35.939Z"
   },
   {
    "duration": 11,
    "start_time": "2022-09-26T15:18:35.952Z"
   },
   {
    "duration": 36,
    "start_time": "2022-09-26T15:18:35.965Z"
   },
   {
    "duration": 128,
    "start_time": "2022-09-26T15:18:36.003Z"
   },
   {
    "duration": 399,
    "start_time": "2022-09-26T15:18:36.134Z"
   },
   {
    "duration": 483,
    "start_time": "2022-09-26T15:18:36.535Z"
   },
   {
    "duration": 6,
    "start_time": "2022-09-26T15:18:37.021Z"
   },
   {
    "duration": 263,
    "start_time": "2022-09-26T15:18:37.028Z"
   },
   {
    "duration": 183,
    "start_time": "2022-09-26T15:18:37.293Z"
   },
   {
    "duration": 259,
    "start_time": "2022-09-26T15:18:37.478Z"
   },
   {
    "duration": 171,
    "start_time": "2022-09-26T15:18:37.739Z"
   },
   {
    "duration": 291,
    "start_time": "2022-09-26T15:18:37.911Z"
   },
   {
    "duration": 219,
    "start_time": "2022-09-26T15:18:38.204Z"
   },
   {
    "duration": 225,
    "start_time": "2022-09-26T15:18:38.425Z"
   },
   {
    "duration": 213,
    "start_time": "2022-09-26T15:18:38.651Z"
   },
   {
    "duration": 261,
    "start_time": "2022-09-26T15:18:38.867Z"
   },
   {
    "duration": 222,
    "start_time": "2022-09-26T15:18:39.131Z"
   },
   {
    "duration": 239,
    "start_time": "2022-09-26T15:18:39.355Z"
   },
   {
    "duration": 241,
    "start_time": "2022-09-26T15:18:39.595Z"
   },
   {
    "duration": 6,
    "start_time": "2022-09-26T15:18:39.838Z"
   },
   {
    "duration": 148,
    "start_time": "2022-09-26T15:18:39.846Z"
   },
   {
    "duration": 73,
    "start_time": "2022-09-26T15:18:39.996Z"
   },
   {
    "duration": 15,
    "start_time": "2022-09-26T15:18:40.071Z"
   },
   {
    "duration": 254,
    "start_time": "2022-09-26T15:18:40.088Z"
   },
   {
    "duration": 15,
    "start_time": "2022-09-26T15:18:40.348Z"
   },
   {
    "duration": 177,
    "start_time": "2022-09-26T15:18:40.365Z"
   },
   {
    "duration": 454,
    "start_time": "2022-09-26T15:18:40.543Z"
   },
   {
    "duration": 257,
    "start_time": "2022-09-26T15:18:41.000Z"
   },
   {
    "duration": 11,
    "start_time": "2022-09-26T15:18:41.258Z"
   },
   {
    "duration": 16,
    "start_time": "2022-09-26T15:18:41.271Z"
   },
   {
    "duration": 173,
    "start_time": "2022-09-26T15:18:41.289Z"
   },
   {
    "duration": 12,
    "start_time": "2022-09-26T15:18:41.464Z"
   },
   {
    "duration": 25,
    "start_time": "2022-09-26T15:18:41.478Z"
   },
   {
    "duration": 211,
    "start_time": "2022-09-26T15:18:41.505Z"
   },
   {
    "duration": 38,
    "start_time": "2022-09-26T15:18:41.720Z"
   },
   {
    "duration": 14,
    "start_time": "2022-09-26T15:18:41.760Z"
   },
   {
    "duration": 13,
    "start_time": "2022-09-26T15:18:41.776Z"
   },
   {
    "duration": 30,
    "start_time": "2022-09-26T15:18:41.791Z"
   },
   {
    "duration": 6,
    "start_time": "2022-09-26T15:18:41.823Z"
   },
   {
    "duration": 9,
    "start_time": "2022-09-26T15:18:41.831Z"
   },
   {
    "duration": 32,
    "start_time": "2022-09-26T15:18:41.842Z"
   },
   {
    "duration": 79,
    "start_time": "2022-09-26T15:21:56.536Z"
   },
   {
    "duration": 4,
    "start_time": "2022-09-26T15:22:08.879Z"
   },
   {
    "duration": 11,
    "start_time": "2022-09-26T15:22:15.041Z"
   },
   {
    "duration": 152,
    "start_time": "2022-09-26T15:22:53.112Z"
   },
   {
    "duration": 9,
    "start_time": "2022-09-26T15:23:13.993Z"
   },
   {
    "duration": 701,
    "start_time": "2022-09-26T15:24:03.101Z"
   },
   {
    "duration": 132,
    "start_time": "2022-09-26T15:24:03.804Z"
   },
   {
    "duration": 29,
    "start_time": "2022-09-26T15:24:03.938Z"
   },
   {
    "duration": 25,
    "start_time": "2022-09-26T15:24:03.970Z"
   },
   {
    "duration": 99,
    "start_time": "2022-09-26T15:24:03.997Z"
   },
   {
    "duration": 23,
    "start_time": "2022-09-26T15:24:04.098Z"
   },
   {
    "duration": 25,
    "start_time": "2022-09-26T15:24:04.123Z"
   },
   {
    "duration": 2113,
    "start_time": "2022-09-26T15:24:04.150Z"
   },
   {
    "duration": 5,
    "start_time": "2022-09-26T15:24:06.265Z"
   },
   {
    "duration": 6,
    "start_time": "2022-09-26T15:24:06.274Z"
   },
   {
    "duration": 25,
    "start_time": "2022-09-26T15:24:06.282Z"
   },
   {
    "duration": 12,
    "start_time": "2022-09-26T15:24:06.309Z"
   },
   {
    "duration": 7,
    "start_time": "2022-09-26T15:24:06.324Z"
   },
   {
    "duration": 27,
    "start_time": "2022-09-26T15:24:06.333Z"
   },
   {
    "duration": 7,
    "start_time": "2022-09-26T15:24:06.362Z"
   },
   {
    "duration": 28,
    "start_time": "2022-09-26T15:24:06.370Z"
   },
   {
    "duration": 25,
    "start_time": "2022-09-26T15:24:06.400Z"
   },
   {
    "duration": 114,
    "start_time": "2022-09-26T15:24:06.428Z"
   },
   {
    "duration": 5,
    "start_time": "2022-09-26T15:24:06.544Z"
   },
   {
    "duration": 29,
    "start_time": "2022-09-26T15:24:06.552Z"
   },
   {
    "duration": 8,
    "start_time": "2022-09-26T15:24:06.583Z"
   },
   {
    "duration": 57,
    "start_time": "2022-09-26T15:24:06.593Z"
   },
   {
    "duration": 5,
    "start_time": "2022-09-26T15:24:06.652Z"
   },
   {
    "duration": 18,
    "start_time": "2022-09-26T15:24:06.659Z"
   },
   {
    "duration": 32,
    "start_time": "2022-09-26T15:24:06.679Z"
   },
   {
    "duration": 33,
    "start_time": "2022-09-26T15:24:06.721Z"
   },
   {
    "duration": 9,
    "start_time": "2022-09-26T15:24:06.756Z"
   },
   {
    "duration": 50,
    "start_time": "2022-09-26T15:24:06.771Z"
   },
   {
    "duration": 42,
    "start_time": "2022-09-26T15:24:06.823Z"
   },
   {
    "duration": 18,
    "start_time": "2022-09-26T15:24:06.867Z"
   },
   {
    "duration": 372,
    "start_time": "2022-09-26T15:24:06.887Z"
   },
   {
    "duration": 29,
    "start_time": "2022-09-26T15:24:07.261Z"
   },
   {
    "duration": 31,
    "start_time": "2022-09-26T15:24:07.291Z"
   },
   {
    "duration": 106,
    "start_time": "2022-09-26T15:24:07.324Z"
   },
   {
    "duration": 26,
    "start_time": "2022-09-26T15:24:07.432Z"
   },
   {
    "duration": 189,
    "start_time": "2022-09-26T15:24:07.460Z"
   },
   {
    "duration": 5,
    "start_time": "2022-09-26T15:24:07.651Z"
   },
   {
    "duration": 14,
    "start_time": "2022-09-26T15:24:07.658Z"
   },
   {
    "duration": 30,
    "start_time": "2022-09-26T15:24:07.674Z"
   },
   {
    "duration": 157,
    "start_time": "2022-09-26T15:24:07.707Z"
   },
   {
    "duration": 27,
    "start_time": "2022-09-26T15:24:07.866Z"
   },
   {
    "duration": 255,
    "start_time": "2022-09-26T15:24:07.896Z"
   },
   {
    "duration": 11,
    "start_time": "2022-09-26T15:24:08.153Z"
   },
   {
    "duration": 17,
    "start_time": "2022-09-26T15:24:08.165Z"
   },
   {
    "duration": 176,
    "start_time": "2022-09-26T15:24:08.184Z"
   },
   {
    "duration": 174,
    "start_time": "2022-09-26T15:24:08.362Z"
   },
   {
    "duration": 4,
    "start_time": "2022-09-26T15:24:08.538Z"
   },
   {
    "duration": 22,
    "start_time": "2022-09-26T15:24:08.544Z"
   },
   {
    "duration": 162,
    "start_time": "2022-09-26T15:24:08.568Z"
   },
   {
    "duration": 176,
    "start_time": "2022-09-26T15:24:08.732Z"
   },
   {
    "duration": 15,
    "start_time": "2022-09-26T15:24:08.910Z"
   },
   {
    "duration": 22,
    "start_time": "2022-09-26T15:24:08.928Z"
   },
   {
    "duration": 201,
    "start_time": "2022-09-26T15:24:08.953Z"
   },
   {
    "duration": 160,
    "start_time": "2022-09-26T15:24:09.156Z"
   },
   {
    "duration": 10,
    "start_time": "2022-09-26T15:24:09.321Z"
   },
   {
    "duration": 10,
    "start_time": "2022-09-26T15:24:09.333Z"
   },
   {
    "duration": 163,
    "start_time": "2022-09-26T15:24:09.344Z"
   },
   {
    "duration": 155,
    "start_time": "2022-09-26T15:24:09.509Z"
   },
   {
    "duration": 10,
    "start_time": "2022-09-26T15:24:09.665Z"
   },
   {
    "duration": 22,
    "start_time": "2022-09-26T15:24:09.676Z"
   },
   {
    "duration": 32,
    "start_time": "2022-09-26T15:24:09.700Z"
   },
   {
    "duration": 93,
    "start_time": "2022-09-26T15:24:09.735Z"
   },
   {
    "duration": 421,
    "start_time": "2022-09-26T15:24:09.830Z"
   },
   {
    "duration": 487,
    "start_time": "2022-09-26T15:24:10.253Z"
   },
   {
    "duration": 5,
    "start_time": "2022-09-26T15:24:10.741Z"
   },
   {
    "duration": 266,
    "start_time": "2022-09-26T15:24:10.748Z"
   },
   {
    "duration": 200,
    "start_time": "2022-09-26T15:24:11.016Z"
   },
   {
    "duration": 271,
    "start_time": "2022-09-26T15:24:11.221Z"
   },
   {
    "duration": 183,
    "start_time": "2022-09-26T15:24:11.494Z"
   },
   {
    "duration": 304,
    "start_time": "2022-09-26T15:24:11.679Z"
   },
   {
    "duration": 225,
    "start_time": "2022-09-26T15:24:11.984Z"
   },
   {
    "duration": 204,
    "start_time": "2022-09-26T15:24:12.220Z"
   },
   {
    "duration": 197,
    "start_time": "2022-09-26T15:24:12.425Z"
   },
   {
    "duration": 204,
    "start_time": "2022-09-26T15:24:12.624Z"
   },
   {
    "duration": 197,
    "start_time": "2022-09-26T15:24:12.829Z"
   },
   {
    "duration": 240,
    "start_time": "2022-09-26T15:24:13.029Z"
   },
   {
    "duration": 232,
    "start_time": "2022-09-26T15:24:13.272Z"
   },
   {
    "duration": 16,
    "start_time": "2022-09-26T15:24:13.506Z"
   },
   {
    "duration": 165,
    "start_time": "2022-09-26T15:24:13.524Z"
   },
   {
    "duration": 80,
    "start_time": "2022-09-26T15:24:13.691Z"
   },
   {
    "duration": 15,
    "start_time": "2022-09-26T15:24:13.773Z"
   },
   {
    "duration": 276,
    "start_time": "2022-09-26T15:24:13.794Z"
   },
   {
    "duration": 15,
    "start_time": "2022-09-26T15:24:14.071Z"
   },
   {
    "duration": 192,
    "start_time": "2022-09-26T15:24:14.088Z"
   },
   {
    "duration": 471,
    "start_time": "2022-09-26T15:24:14.282Z"
   },
   {
    "duration": 244,
    "start_time": "2022-09-26T15:24:14.755Z"
   },
   {
    "duration": 9,
    "start_time": "2022-09-26T15:24:15.001Z"
   },
   {
    "duration": 54,
    "start_time": "2022-09-26T15:24:15.012Z"
   },
   {
    "duration": 123,
    "start_time": "2022-09-26T15:24:15.068Z"
   },
   {
    "duration": 10,
    "start_time": "2022-09-26T15:24:15.193Z"
   },
   {
    "duration": 23,
    "start_time": "2022-09-26T15:24:15.205Z"
   },
   {
    "duration": 193,
    "start_time": "2022-09-26T15:24:15.229Z"
   },
   {
    "duration": 36,
    "start_time": "2022-09-26T15:24:15.424Z"
   },
   {
    "duration": 14,
    "start_time": "2022-09-26T15:24:15.463Z"
   },
   {
    "duration": 15,
    "start_time": "2022-09-26T15:24:15.479Z"
   },
   {
    "duration": 27,
    "start_time": "2022-09-26T15:24:15.496Z"
   },
   {
    "duration": 5,
    "start_time": "2022-09-26T15:24:15.524Z"
   },
   {
    "duration": 28,
    "start_time": "2022-09-26T15:24:15.530Z"
   },
   {
    "duration": 42,
    "start_time": "2022-09-26T15:24:15.560Z"
   },
   {
    "duration": 12,
    "start_time": "2022-09-26T15:25:10.067Z"
   },
   {
    "duration": 8,
    "start_time": "2022-09-26T15:25:20.375Z"
   },
   {
    "duration": 138,
    "start_time": "2022-09-26T15:25:21.271Z"
   },
   {
    "duration": 144,
    "start_time": "2022-09-26T15:25:22.172Z"
   },
   {
    "duration": 11,
    "start_time": "2022-09-26T15:25:23.151Z"
   },
   {
    "duration": 9,
    "start_time": "2022-09-26T15:25:23.962Z"
   },
   {
    "duration": 678,
    "start_time": "2022-09-26T15:26:30.831Z"
   },
   {
    "duration": 129,
    "start_time": "2022-09-26T15:26:31.510Z"
   },
   {
    "duration": 28,
    "start_time": "2022-09-26T15:26:31.641Z"
   },
   {
    "duration": 31,
    "start_time": "2022-09-26T15:26:31.672Z"
   },
   {
    "duration": 96,
    "start_time": "2022-09-26T15:26:31.706Z"
   },
   {
    "duration": 27,
    "start_time": "2022-09-26T15:26:31.804Z"
   },
   {
    "duration": 30,
    "start_time": "2022-09-26T15:26:31.833Z"
   },
   {
    "duration": 2245,
    "start_time": "2022-09-26T15:26:31.866Z"
   },
   {
    "duration": 5,
    "start_time": "2022-09-26T15:26:34.113Z"
   },
   {
    "duration": 10,
    "start_time": "2022-09-26T15:26:34.121Z"
   },
   {
    "duration": 6,
    "start_time": "2022-09-26T15:26:34.133Z"
   },
   {
    "duration": 13,
    "start_time": "2022-09-26T15:26:34.140Z"
   },
   {
    "duration": 8,
    "start_time": "2022-09-26T15:26:34.155Z"
   },
   {
    "duration": 38,
    "start_time": "2022-09-26T15:26:34.165Z"
   },
   {
    "duration": 23,
    "start_time": "2022-09-26T15:26:34.204Z"
   },
   {
    "duration": 24,
    "start_time": "2022-09-26T15:26:34.229Z"
   },
   {
    "duration": 10,
    "start_time": "2022-09-26T15:26:34.255Z"
   },
   {
    "duration": 85,
    "start_time": "2022-09-26T15:26:34.267Z"
   },
   {
    "duration": 6,
    "start_time": "2022-09-26T15:26:34.353Z"
   },
   {
    "duration": 21,
    "start_time": "2022-09-26T15:26:34.361Z"
   },
   {
    "duration": 5,
    "start_time": "2022-09-26T15:26:34.384Z"
   },
   {
    "duration": 40,
    "start_time": "2022-09-26T15:26:34.391Z"
   },
   {
    "duration": 5,
    "start_time": "2022-09-26T15:26:34.433Z"
   },
   {
    "duration": 7,
    "start_time": "2022-09-26T15:26:34.440Z"
   },
   {
    "duration": 25,
    "start_time": "2022-09-26T15:26:34.448Z"
   },
   {
    "duration": 53,
    "start_time": "2022-09-26T15:26:34.475Z"
   },
   {
    "duration": 9,
    "start_time": "2022-09-26T15:26:34.530Z"
   },
   {
    "duration": 30,
    "start_time": "2022-09-26T15:26:34.543Z"
   },
   {
    "duration": 55,
    "start_time": "2022-09-26T15:26:34.575Z"
   },
   {
    "duration": 16,
    "start_time": "2022-09-26T15:26:34.632Z"
   },
   {
    "duration": 368,
    "start_time": "2022-09-26T15:26:34.650Z"
   },
   {
    "duration": 37,
    "start_time": "2022-09-26T15:26:35.021Z"
   },
   {
    "duration": 15,
    "start_time": "2022-09-26T15:26:35.060Z"
   },
   {
    "duration": 126,
    "start_time": "2022-09-26T15:26:35.076Z"
   },
   {
    "duration": 34,
    "start_time": "2022-09-26T15:26:35.204Z"
   },
   {
    "duration": 205,
    "start_time": "2022-09-26T15:26:35.240Z"
   },
   {
    "duration": 4,
    "start_time": "2022-09-26T15:26:35.448Z"
   },
   {
    "duration": 23,
    "start_time": "2022-09-26T15:26:35.454Z"
   },
   {
    "duration": 19,
    "start_time": "2022-09-26T15:26:35.479Z"
   },
   {
    "duration": 220,
    "start_time": "2022-09-26T15:26:35.500Z"
   },
   {
    "duration": 32,
    "start_time": "2022-09-26T15:26:35.723Z"
   },
   {
    "duration": 262,
    "start_time": "2022-09-26T15:26:35.758Z"
   },
   {
    "duration": 12,
    "start_time": "2022-09-26T15:26:36.022Z"
   },
   {
    "duration": 32,
    "start_time": "2022-09-26T15:26:36.036Z"
   },
   {
    "duration": 161,
    "start_time": "2022-09-26T15:26:36.070Z"
   },
   {
    "duration": 169,
    "start_time": "2022-09-26T15:26:36.233Z"
   },
   {
    "duration": 19,
    "start_time": "2022-09-26T15:26:36.404Z"
   },
   {
    "duration": 174,
    "start_time": "2022-09-26T15:26:36.425Z"
   },
   {
    "duration": 163,
    "start_time": "2022-09-26T15:26:36.601Z"
   },
   {
    "duration": 11,
    "start_time": "2022-09-26T15:26:36.766Z"
   },
   {
    "duration": 22,
    "start_time": "2022-09-26T15:26:36.779Z"
   },
   {
    "duration": 154,
    "start_time": "2022-09-26T15:26:36.803Z"
   },
   {
    "duration": 149,
    "start_time": "2022-09-26T15:26:36.959Z"
   },
   {
    "duration": 18,
    "start_time": "2022-09-26T15:26:37.110Z"
   },
   {
    "duration": 34,
    "start_time": "2022-09-26T15:26:37.130Z"
   },
   {
    "duration": 159,
    "start_time": "2022-09-26T15:26:37.166Z"
   },
   {
    "duration": 156,
    "start_time": "2022-09-26T15:26:37.327Z"
   },
   {
    "duration": 10,
    "start_time": "2022-09-26T15:26:37.485Z"
   },
   {
    "duration": 42,
    "start_time": "2022-09-26T15:26:37.497Z"
   },
   {
    "duration": 47,
    "start_time": "2022-09-26T15:26:37.541Z"
   },
   {
    "duration": 94,
    "start_time": "2022-09-26T15:26:37.590Z"
   },
   {
    "duration": 407,
    "start_time": "2022-09-26T15:26:37.685Z"
   },
   {
    "duration": 510,
    "start_time": "2022-09-26T15:26:38.094Z"
   },
   {
    "duration": 5,
    "start_time": "2022-09-26T15:26:38.607Z"
   },
   {
    "duration": 291,
    "start_time": "2022-09-26T15:26:38.621Z"
   },
   {
    "duration": 250,
    "start_time": "2022-09-26T15:26:38.914Z"
   },
   {
    "duration": 299,
    "start_time": "2022-09-26T15:26:39.166Z"
   },
   {
    "duration": 174,
    "start_time": "2022-09-26T15:26:39.467Z"
   },
   {
    "duration": 267,
    "start_time": "2022-09-26T15:26:39.643Z"
   },
   {
    "duration": 229,
    "start_time": "2022-09-26T15:26:39.912Z"
   },
   {
    "duration": 200,
    "start_time": "2022-09-26T15:26:40.142Z"
   },
   {
    "duration": 194,
    "start_time": "2022-09-26T15:26:40.344Z"
   },
   {
    "duration": 190,
    "start_time": "2022-09-26T15:26:40.540Z"
   },
   {
    "duration": 191,
    "start_time": "2022-09-26T15:26:40.732Z"
   },
   {
    "duration": 236,
    "start_time": "2022-09-26T15:26:40.924Z"
   },
   {
    "duration": 218,
    "start_time": "2022-09-26T15:26:41.161Z"
   },
   {
    "duration": 6,
    "start_time": "2022-09-26T15:26:41.380Z"
   },
   {
    "duration": 159,
    "start_time": "2022-09-26T15:26:41.388Z"
   },
   {
    "duration": 72,
    "start_time": "2022-09-26T15:26:41.549Z"
   },
   {
    "duration": 16,
    "start_time": "2022-09-26T15:26:41.624Z"
   },
   {
    "duration": 267,
    "start_time": "2022-09-26T15:26:41.642Z"
   },
   {
    "duration": 16,
    "start_time": "2022-09-26T15:26:41.920Z"
   },
   {
    "duration": 192,
    "start_time": "2022-09-26T15:26:41.937Z"
   },
   {
    "duration": 456,
    "start_time": "2022-09-26T15:26:42.131Z"
   },
   {
    "duration": 266,
    "start_time": "2022-09-26T15:26:42.590Z"
   },
   {
    "duration": 9,
    "start_time": "2022-09-26T15:26:42.858Z"
   },
   {
    "duration": 28,
    "start_time": "2022-09-26T15:26:42.869Z"
   },
   {
    "duration": 159,
    "start_time": "2022-09-26T15:26:42.899Z"
   },
   {
    "duration": 11,
    "start_time": "2022-09-26T15:26:43.060Z"
   },
   {
    "duration": 30,
    "start_time": "2022-09-26T15:26:43.074Z"
   },
   {
    "duration": 203,
    "start_time": "2022-09-26T15:26:43.106Z"
   },
   {
    "duration": 41,
    "start_time": "2022-09-26T15:26:43.310Z"
   },
   {
    "duration": 15,
    "start_time": "2022-09-26T15:26:43.353Z"
   },
   {
    "duration": 7,
    "start_time": "2022-09-26T15:26:43.370Z"
   },
   {
    "duration": 17,
    "start_time": "2022-09-26T15:26:43.378Z"
   },
   {
    "duration": 30,
    "start_time": "2022-09-26T15:26:43.396Z"
   },
   {
    "duration": 12,
    "start_time": "2022-09-26T15:26:43.428Z"
   },
   {
    "duration": 48,
    "start_time": "2022-09-26T15:26:43.442Z"
   },
   {
    "duration": 192,
    "start_time": "2022-09-26T15:28:25.663Z"
   },
   {
    "duration": 92,
    "start_time": "2022-09-26T15:28:30.748Z"
   },
   {
    "duration": 8,
    "start_time": "2022-09-26T15:28:40.100Z"
   },
   {
    "duration": 9,
    "start_time": "2022-09-26T15:28:56.220Z"
   },
   {
    "duration": 6,
    "start_time": "2022-09-26T15:29:21.576Z"
   },
   {
    "duration": 830,
    "start_time": "2022-09-26T15:32:25.012Z"
   },
   {
    "duration": 11,
    "start_time": "2022-09-26T15:32:31.729Z"
   },
   {
    "duration": 9,
    "start_time": "2022-09-26T15:32:40.754Z"
   },
   {
    "duration": 680,
    "start_time": "2022-09-26T15:32:59.921Z"
   },
   {
    "duration": 127,
    "start_time": "2022-09-26T15:33:00.603Z"
   },
   {
    "duration": 28,
    "start_time": "2022-09-26T15:33:00.732Z"
   },
   {
    "duration": 65,
    "start_time": "2022-09-26T15:33:00.762Z"
   },
   {
    "duration": 137,
    "start_time": "2022-09-26T15:33:00.829Z"
   },
   {
    "duration": 17,
    "start_time": "2022-09-26T15:33:00.969Z"
   },
   {
    "duration": 43,
    "start_time": "2022-09-26T15:33:00.988Z"
   },
   {
    "duration": 2174,
    "start_time": "2022-09-26T15:33:01.033Z"
   },
   {
    "duration": 6,
    "start_time": "2022-09-26T15:33:03.208Z"
   },
   {
    "duration": 6,
    "start_time": "2022-09-26T15:33:03.218Z"
   },
   {
    "duration": 9,
    "start_time": "2022-09-26T15:33:03.225Z"
   },
   {
    "duration": 16,
    "start_time": "2022-09-26T15:33:03.235Z"
   },
   {
    "duration": 8,
    "start_time": "2022-09-26T15:33:03.252Z"
   },
   {
    "duration": 35,
    "start_time": "2022-09-26T15:33:03.262Z"
   },
   {
    "duration": 21,
    "start_time": "2022-09-26T15:33:03.299Z"
   },
   {
    "duration": 20,
    "start_time": "2022-09-26T15:33:03.322Z"
   },
   {
    "duration": 14,
    "start_time": "2022-09-26T15:33:03.344Z"
   },
   {
    "duration": 80,
    "start_time": "2022-09-26T15:33:03.359Z"
   },
   {
    "duration": 6,
    "start_time": "2022-09-26T15:33:03.440Z"
   },
   {
    "duration": 22,
    "start_time": "2022-09-26T15:33:03.448Z"
   },
   {
    "duration": 13,
    "start_time": "2022-09-26T15:33:03.472Z"
   },
   {
    "duration": 46,
    "start_time": "2022-09-26T15:33:03.487Z"
   },
   {
    "duration": 7,
    "start_time": "2022-09-26T15:33:03.535Z"
   },
   {
    "duration": 19,
    "start_time": "2022-09-26T15:33:03.545Z"
   },
   {
    "duration": 37,
    "start_time": "2022-09-26T15:33:03.565Z"
   },
   {
    "duration": 38,
    "start_time": "2022-09-26T15:33:03.604Z"
   },
   {
    "duration": 9,
    "start_time": "2022-09-26T15:33:03.644Z"
   },
   {
    "duration": 26,
    "start_time": "2022-09-26T15:33:03.658Z"
   },
   {
    "duration": 57,
    "start_time": "2022-09-26T15:33:03.686Z"
   },
   {
    "duration": 16,
    "start_time": "2022-09-26T15:33:03.745Z"
   },
   {
    "duration": 368,
    "start_time": "2022-09-26T15:33:03.762Z"
   },
   {
    "duration": 28,
    "start_time": "2022-09-26T15:33:04.132Z"
   },
   {
    "duration": 15,
    "start_time": "2022-09-26T15:33:04.162Z"
   },
   {
    "duration": 125,
    "start_time": "2022-09-26T15:33:04.179Z"
   },
   {
    "duration": 32,
    "start_time": "2022-09-26T15:33:04.307Z"
   },
   {
    "duration": 189,
    "start_time": "2022-09-26T15:33:04.341Z"
   },
   {
    "duration": 4,
    "start_time": "2022-09-26T15:33:04.532Z"
   },
   {
    "duration": 6,
    "start_time": "2022-09-26T15:33:04.539Z"
   },
   {
    "duration": 13,
    "start_time": "2022-09-26T15:33:04.547Z"
   },
   {
    "duration": 177,
    "start_time": "2022-09-26T15:33:04.562Z"
   },
   {
    "duration": 27,
    "start_time": "2022-09-26T15:33:04.741Z"
   },
   {
    "duration": 252,
    "start_time": "2022-09-26T15:33:04.770Z"
   },
   {
    "duration": 11,
    "start_time": "2022-09-26T15:33:05.024Z"
   },
   {
    "duration": 24,
    "start_time": "2022-09-26T15:33:05.036Z"
   },
   {
    "duration": 168,
    "start_time": "2022-09-26T15:33:05.062Z"
   },
   {
    "duration": 163,
    "start_time": "2022-09-26T15:33:05.231Z"
   },
   {
    "duration": 12,
    "start_time": "2022-09-26T15:33:05.396Z"
   },
   {
    "duration": 152,
    "start_time": "2022-09-26T15:33:05.421Z"
   },
   {
    "duration": 153,
    "start_time": "2022-09-26T15:33:05.575Z"
   },
   {
    "duration": 12,
    "start_time": "2022-09-26T15:33:05.729Z"
   },
   {
    "duration": 27,
    "start_time": "2022-09-26T15:33:05.742Z"
   },
   {
    "duration": 149,
    "start_time": "2022-09-26T15:33:05.771Z"
   },
   {
    "duration": 162,
    "start_time": "2022-09-26T15:33:05.922Z"
   },
   {
    "duration": 9,
    "start_time": "2022-09-26T15:33:06.086Z"
   },
   {
    "duration": 23,
    "start_time": "2022-09-26T15:33:06.097Z"
   },
   {
    "duration": 160,
    "start_time": "2022-09-26T15:33:06.122Z"
   },
   {
    "duration": 158,
    "start_time": "2022-09-26T15:33:06.283Z"
   },
   {
    "duration": 10,
    "start_time": "2022-09-26T15:33:06.442Z"
   },
   {
    "duration": 9,
    "start_time": "2022-09-26T15:33:06.454Z"
   },
   {
    "duration": 26,
    "start_time": "2022-09-26T15:33:06.464Z"
   },
   {
    "duration": 111,
    "start_time": "2022-09-26T15:33:06.492Z"
   },
   {
    "duration": 430,
    "start_time": "2022-09-26T15:33:06.621Z"
   },
   {
    "duration": 488,
    "start_time": "2022-09-26T15:33:07.052Z"
   },
   {
    "duration": 5,
    "start_time": "2022-09-26T15:33:07.542Z"
   },
   {
    "duration": 251,
    "start_time": "2022-09-26T15:33:07.549Z"
   },
   {
    "duration": 204,
    "start_time": "2022-09-26T15:33:07.802Z"
   },
   {
    "duration": 262,
    "start_time": "2022-09-26T15:33:08.007Z"
   },
   {
    "duration": 176,
    "start_time": "2022-09-26T15:33:08.271Z"
   },
   {
    "duration": 261,
    "start_time": "2022-09-26T15:33:08.448Z"
   },
   {
    "duration": 262,
    "start_time": "2022-09-26T15:33:08.711Z"
   },
   {
    "duration": 260,
    "start_time": "2022-09-26T15:33:08.976Z"
   },
   {
    "duration": 192,
    "start_time": "2022-09-26T15:33:09.238Z"
   },
   {
    "duration": 179,
    "start_time": "2022-09-26T15:33:09.431Z"
   },
   {
    "duration": 193,
    "start_time": "2022-09-26T15:33:09.612Z"
   },
   {
    "duration": 242,
    "start_time": "2022-09-26T15:33:09.807Z"
   },
   {
    "duration": 216,
    "start_time": "2022-09-26T15:33:10.051Z"
   },
   {
    "duration": 5,
    "start_time": "2022-09-26T15:33:10.269Z"
   },
   {
    "duration": 147,
    "start_time": "2022-09-26T15:33:10.276Z"
   },
   {
    "duration": 62,
    "start_time": "2022-09-26T15:33:10.425Z"
   },
   {
    "duration": 40,
    "start_time": "2022-09-26T15:33:10.489Z"
   },
   {
    "duration": 245,
    "start_time": "2022-09-26T15:33:10.531Z"
   },
   {
    "duration": 16,
    "start_time": "2022-09-26T15:33:10.784Z"
   },
   {
    "duration": 189,
    "start_time": "2022-09-26T15:33:10.802Z"
   },
   {
    "duration": 484,
    "start_time": "2022-09-26T15:33:10.993Z"
   },
   {
    "duration": 262,
    "start_time": "2022-09-26T15:33:11.479Z"
   },
   {
    "duration": 10,
    "start_time": "2022-09-26T15:33:11.743Z"
   },
   {
    "duration": 19,
    "start_time": "2022-09-26T15:33:11.754Z"
   },
   {
    "duration": 151,
    "start_time": "2022-09-26T15:33:11.775Z"
   },
   {
    "duration": 10,
    "start_time": "2022-09-26T15:33:11.928Z"
   },
   {
    "duration": 20,
    "start_time": "2022-09-26T15:33:11.940Z"
   },
   {
    "duration": 214,
    "start_time": "2022-09-26T15:33:11.961Z"
   },
   {
    "duration": 47,
    "start_time": "2022-09-26T15:33:12.177Z"
   },
   {
    "duration": 15,
    "start_time": "2022-09-26T15:33:12.226Z"
   },
   {
    "duration": 7,
    "start_time": "2022-09-26T15:33:12.243Z"
   },
   {
    "duration": 10,
    "start_time": "2022-09-26T15:33:12.251Z"
   },
   {
    "duration": 5,
    "start_time": "2022-09-26T15:33:12.263Z"
   },
   {
    "duration": 5,
    "start_time": "2022-09-26T15:33:12.270Z"
   },
   {
    "duration": 74,
    "start_time": "2022-09-26T15:33:12.277Z"
   },
   {
    "duration": 12,
    "start_time": "2022-09-26T15:39:32.551Z"
   },
   {
    "duration": 774,
    "start_time": "2022-09-26T15:39:51.929Z"
   },
   {
    "duration": 148,
    "start_time": "2022-09-26T15:39:52.705Z"
   },
   {
    "duration": 27,
    "start_time": "2022-09-26T15:39:52.855Z"
   },
   {
    "duration": 39,
    "start_time": "2022-09-26T15:39:52.884Z"
   },
   {
    "duration": 117,
    "start_time": "2022-09-26T15:39:52.926Z"
   },
   {
    "duration": 16,
    "start_time": "2022-09-26T15:39:53.045Z"
   },
   {
    "duration": 28,
    "start_time": "2022-09-26T15:39:53.063Z"
   },
   {
    "duration": 2170,
    "start_time": "2022-09-26T15:39:53.093Z"
   },
   {
    "duration": 6,
    "start_time": "2022-09-26T15:39:55.265Z"
   },
   {
    "duration": 6,
    "start_time": "2022-09-26T15:39:55.275Z"
   },
   {
    "duration": 14,
    "start_time": "2022-09-26T15:39:55.283Z"
   },
   {
    "duration": 27,
    "start_time": "2022-09-26T15:39:55.299Z"
   },
   {
    "duration": 19,
    "start_time": "2022-09-26T15:39:55.327Z"
   },
   {
    "duration": 73,
    "start_time": "2022-09-26T15:39:55.348Z"
   },
   {
    "duration": 26,
    "start_time": "2022-09-26T15:39:55.423Z"
   },
   {
    "duration": 42,
    "start_time": "2022-09-26T15:39:55.451Z"
   },
   {
    "duration": 15,
    "start_time": "2022-09-26T15:39:55.495Z"
   },
   {
    "duration": 97,
    "start_time": "2022-09-26T15:39:55.512Z"
   },
   {
    "duration": 6,
    "start_time": "2022-09-26T15:39:55.610Z"
   },
   {
    "duration": 35,
    "start_time": "2022-09-26T15:39:55.618Z"
   },
   {
    "duration": 18,
    "start_time": "2022-09-26T15:39:55.655Z"
   },
   {
    "duration": 24,
    "start_time": "2022-09-26T15:39:55.675Z"
   },
   {
    "duration": 31,
    "start_time": "2022-09-26T15:39:55.701Z"
   },
   {
    "duration": 44,
    "start_time": "2022-09-26T15:39:55.735Z"
   },
   {
    "duration": 25,
    "start_time": "2022-09-26T15:39:55.781Z"
   },
   {
    "duration": 55,
    "start_time": "2022-09-26T15:39:55.808Z"
   },
   {
    "duration": 11,
    "start_time": "2022-09-26T15:39:55.865Z"
   },
   {
    "duration": 23,
    "start_time": "2022-09-26T15:39:55.881Z"
   },
   {
    "duration": 58,
    "start_time": "2022-09-26T15:39:55.906Z"
   },
   {
    "duration": 15,
    "start_time": "2022-09-26T15:39:55.965Z"
   },
   {
    "duration": 368,
    "start_time": "2022-09-26T15:39:55.981Z"
   },
   {
    "duration": 30,
    "start_time": "2022-09-26T15:39:56.351Z"
   },
   {
    "duration": 14,
    "start_time": "2022-09-26T15:39:56.382Z"
   },
   {
    "duration": 144,
    "start_time": "2022-09-26T15:39:56.398Z"
   },
   {
    "duration": 28,
    "start_time": "2022-09-26T15:39:56.544Z"
   },
   {
    "duration": 206,
    "start_time": "2022-09-26T15:39:56.574Z"
   },
   {
    "duration": 4,
    "start_time": "2022-09-26T15:39:56.782Z"
   },
   {
    "duration": 12,
    "start_time": "2022-09-26T15:39:56.787Z"
   },
   {
    "duration": 9,
    "start_time": "2022-09-26T15:39:56.801Z"
   },
   {
    "duration": 183,
    "start_time": "2022-09-26T15:39:56.822Z"
   },
   {
    "duration": 35,
    "start_time": "2022-09-26T15:39:57.007Z"
   },
   {
    "duration": 259,
    "start_time": "2022-09-26T15:39:57.044Z"
   },
   {
    "duration": 23,
    "start_time": "2022-09-26T15:39:57.305Z"
   },
   {
    "duration": 12,
    "start_time": "2022-09-26T15:39:57.331Z"
   },
   {
    "duration": 187,
    "start_time": "2022-09-26T15:39:57.344Z"
   },
   {
    "duration": 164,
    "start_time": "2022-09-26T15:39:57.533Z"
   },
   {
    "duration": 24,
    "start_time": "2022-09-26T15:39:57.699Z"
   },
   {
    "duration": 174,
    "start_time": "2022-09-26T15:39:57.724Z"
   },
   {
    "duration": 180,
    "start_time": "2022-09-26T15:39:57.899Z"
   },
   {
    "duration": 12,
    "start_time": "2022-09-26T15:39:58.081Z"
   },
   {
    "duration": 10,
    "start_time": "2022-09-26T15:39:58.094Z"
   },
   {
    "duration": 165,
    "start_time": "2022-09-26T15:39:58.122Z"
   },
   {
    "duration": 177,
    "start_time": "2022-09-26T15:39:58.288Z"
   },
   {
    "duration": 8,
    "start_time": "2022-09-26T15:39:58.467Z"
   },
   {
    "duration": 13,
    "start_time": "2022-09-26T15:39:58.477Z"
   },
   {
    "duration": 179,
    "start_time": "2022-09-26T15:39:58.491Z"
   },
   {
    "duration": 179,
    "start_time": "2022-09-26T15:39:58.671Z"
   },
   {
    "duration": 16,
    "start_time": "2022-09-26T15:39:58.852Z"
   },
   {
    "duration": 29,
    "start_time": "2022-09-26T15:39:58.870Z"
   },
   {
    "duration": 52,
    "start_time": "2022-09-26T15:39:58.901Z"
   },
   {
    "duration": 130,
    "start_time": "2022-09-26T15:39:58.955Z"
   },
   {
    "duration": 466,
    "start_time": "2022-09-26T15:39:59.088Z"
   },
   {
    "duration": 547,
    "start_time": "2022-09-26T15:39:59.556Z"
   },
   {
    "duration": 17,
    "start_time": "2022-09-26T15:40:00.105Z"
   },
   {
    "duration": 271,
    "start_time": "2022-09-26T15:40:00.125Z"
   },
   {
    "duration": 201,
    "start_time": "2022-09-26T15:40:00.398Z"
   },
   {
    "duration": 292,
    "start_time": "2022-09-26T15:40:00.601Z"
   },
   {
    "duration": 181,
    "start_time": "2022-09-26T15:40:00.895Z"
   },
   {
    "duration": 279,
    "start_time": "2022-09-26T15:40:01.078Z"
   },
   {
    "duration": 243,
    "start_time": "2022-09-26T15:40:01.359Z"
   },
   {
    "duration": 246,
    "start_time": "2022-09-26T15:40:01.604Z"
   },
   {
    "duration": 204,
    "start_time": "2022-09-26T15:40:01.852Z"
   },
   {
    "duration": 224,
    "start_time": "2022-09-26T15:40:02.057Z"
   },
   {
    "duration": 235,
    "start_time": "2022-09-26T15:40:02.283Z"
   },
   {
    "duration": 283,
    "start_time": "2022-09-26T15:40:02.521Z"
   },
   {
    "duration": 260,
    "start_time": "2022-09-26T15:40:02.806Z"
   },
   {
    "duration": 5,
    "start_time": "2022-09-26T15:40:03.068Z"
   },
   {
    "duration": 179,
    "start_time": "2022-09-26T15:40:03.075Z"
   },
   {
    "duration": 68,
    "start_time": "2022-09-26T15:40:03.257Z"
   },
   {
    "duration": 23,
    "start_time": "2022-09-26T15:40:03.328Z"
   },
   {
    "duration": 284,
    "start_time": "2022-09-26T15:40:03.353Z"
   },
   {
    "duration": 15,
    "start_time": "2022-09-26T15:40:03.644Z"
   },
   {
    "duration": 199,
    "start_time": "2022-09-26T15:40:03.661Z"
   },
   {
    "duration": 458,
    "start_time": "2022-09-26T15:40:03.862Z"
   },
   {
    "duration": 266,
    "start_time": "2022-09-26T15:40:04.323Z"
   },
   {
    "duration": 9,
    "start_time": "2022-09-26T15:40:04.592Z"
   },
   {
    "duration": 50,
    "start_time": "2022-09-26T15:40:04.603Z"
   },
   {
    "duration": 142,
    "start_time": "2022-09-26T15:40:04.663Z"
   },
   {
    "duration": 21,
    "start_time": "2022-09-26T15:40:04.807Z"
   },
   {
    "duration": 18,
    "start_time": "2022-09-26T15:40:04.831Z"
   },
   {
    "duration": 221,
    "start_time": "2022-09-26T15:40:04.851Z"
   },
   {
    "duration": 49,
    "start_time": "2022-09-26T15:40:05.074Z"
   },
   {
    "duration": 23,
    "start_time": "2022-09-26T15:40:05.126Z"
   },
   {
    "duration": 8,
    "start_time": "2022-09-26T15:40:05.151Z"
   },
   {
    "duration": 10,
    "start_time": "2022-09-26T15:40:05.161Z"
   },
   {
    "duration": 6,
    "start_time": "2022-09-26T15:40:05.173Z"
   },
   {
    "duration": 42,
    "start_time": "2022-09-26T15:40:05.181Z"
   },
   {
    "duration": 40,
    "start_time": "2022-09-26T15:40:05.226Z"
   },
   {
    "duration": 10,
    "start_time": "2022-09-26T15:43:25.300Z"
   },
   {
    "duration": 9,
    "start_time": "2022-09-26T15:43:41.227Z"
   },
   {
    "duration": 7,
    "start_time": "2022-09-26T15:44:29.056Z"
   },
   {
    "duration": 123,
    "start_time": "2022-09-26T15:44:29.233Z"
   },
   {
    "duration": 28,
    "start_time": "2022-09-26T15:44:29.782Z"
   },
   {
    "duration": 25,
    "start_time": "2022-09-26T15:44:29.973Z"
   },
   {
    "duration": 77,
    "start_time": "2022-09-26T15:44:30.164Z"
   },
   {
    "duration": 15,
    "start_time": "2022-09-26T15:44:30.367Z"
   },
   {
    "duration": 23,
    "start_time": "2022-09-26T15:44:30.584Z"
   },
   {
    "duration": 2295,
    "start_time": "2022-09-26T15:44:31.742Z"
   },
   {
    "duration": 6,
    "start_time": "2022-09-26T15:44:34.039Z"
   },
   {
    "duration": 11,
    "start_time": "2022-09-26T15:44:34.047Z"
   },
   {
    "duration": 15,
    "start_time": "2022-09-26T15:44:34.061Z"
   },
   {
    "duration": 19,
    "start_time": "2022-09-26T15:44:34.078Z"
   },
   {
    "duration": 6,
    "start_time": "2022-09-26T15:44:34.560Z"
   },
   {
    "duration": 25,
    "start_time": "2022-09-26T15:44:34.852Z"
   },
   {
    "duration": 8,
    "start_time": "2022-09-26T15:44:35.145Z"
   },
   {
    "duration": 27,
    "start_time": "2022-09-26T15:44:35.478Z"
   },
   {
    "duration": 10,
    "start_time": "2022-09-26T15:44:35.785Z"
   },
   {
    "duration": 79,
    "start_time": "2022-09-26T15:44:36.087Z"
   },
   {
    "duration": 7,
    "start_time": "2022-09-26T15:44:36.368Z"
   },
   {
    "duration": 13,
    "start_time": "2022-09-26T15:44:36.648Z"
   },
   {
    "duration": 6,
    "start_time": "2022-09-26T15:44:37.577Z"
   },
   {
    "duration": 23,
    "start_time": "2022-09-26T15:44:37.999Z"
   },
   {
    "duration": 6,
    "start_time": "2022-09-26T15:44:38.686Z"
   },
   {
    "duration": 5,
    "start_time": "2022-09-26T15:44:38.878Z"
   },
   {
    "duration": 29,
    "start_time": "2022-09-26T15:44:39.145Z"
   },
   {
    "duration": 31,
    "start_time": "2022-09-26T15:44:40.190Z"
   },
   {
    "duration": 8,
    "start_time": "2022-09-26T15:44:40.546Z"
   },
   {
    "duration": 25,
    "start_time": "2022-09-26T15:44:40.980Z"
   },
   {
    "duration": 42,
    "start_time": "2022-09-26T15:44:41.400Z"
   },
   {
    "duration": 17,
    "start_time": "2022-09-26T15:44:42.075Z"
   },
   {
    "duration": 356,
    "start_time": "2022-09-26T15:44:42.546Z"
   },
   {
    "duration": 28,
    "start_time": "2022-09-26T15:44:42.955Z"
   },
   {
    "duration": 14,
    "start_time": "2022-09-26T15:44:43.400Z"
   },
   {
    "duration": 100,
    "start_time": "2022-09-26T15:44:44.190Z"
   },
   {
    "duration": 26,
    "start_time": "2022-09-26T15:44:44.867Z"
   },
   {
    "duration": 161,
    "start_time": "2022-09-26T15:44:45.910Z"
   },
   {
    "duration": 4,
    "start_time": "2022-09-26T15:44:46.073Z"
   },
   {
    "duration": 3,
    "start_time": "2022-09-26T15:44:46.133Z"
   },
   {
    "duration": 8,
    "start_time": "2022-09-26T15:44:47.094Z"
   },
   {
    "duration": 155,
    "start_time": "2022-09-26T15:44:47.745Z"
   },
   {
    "duration": 26,
    "start_time": "2022-09-26T15:44:48.255Z"
   },
   {
    "duration": 199,
    "start_time": "2022-09-26T15:44:48.830Z"
   },
   {
    "duration": 12,
    "start_time": "2022-09-26T15:44:49.502Z"
   },
   {
    "duration": 10,
    "start_time": "2022-09-26T15:44:50.178Z"
   },
   {
    "duration": 157,
    "start_time": "2022-09-26T15:44:51.132Z"
   },
   {
    "duration": 185,
    "start_time": "2022-09-26T15:44:52.597Z"
   },
   {
    "duration": 13,
    "start_time": "2022-09-26T15:44:54.025Z"
   },
   {
    "duration": 141,
    "start_time": "2022-09-26T15:44:55.541Z"
   },
   {
    "duration": 151,
    "start_time": "2022-09-26T15:44:56.891Z"
   },
   {
    "duration": 12,
    "start_time": "2022-09-26T15:44:57.706Z"
   },
   {
    "duration": 10,
    "start_time": "2022-09-26T15:44:58.726Z"
   },
   {
    "duration": 136,
    "start_time": "2022-09-26T15:44:59.388Z"
   },
   {
    "duration": 136,
    "start_time": "2022-09-26T15:45:30.739Z"
   },
   {
    "duration": 9,
    "start_time": "2022-09-26T15:45:35.307Z"
   },
   {
    "duration": 131,
    "start_time": "2022-09-26T15:45:50.760Z"
   },
   {
    "duration": 11,
    "start_time": "2022-09-26T15:45:56.403Z"
   },
   {
    "duration": 8,
    "start_time": "2022-09-26T15:46:02.624Z"
   },
   {
    "duration": 8,
    "start_time": "2022-09-26T15:46:09.558Z"
   },
   {
    "duration": 8,
    "start_time": "2022-09-26T15:46:14.338Z"
   },
   {
    "duration": 148,
    "start_time": "2022-09-26T15:46:20.204Z"
   },
   {
    "duration": 8,
    "start_time": "2022-09-26T15:46:25.456Z"
   },
   {
    "duration": 9,
    "start_time": "2022-09-26T15:46:30.974Z"
   },
   {
    "duration": 7,
    "start_time": "2022-09-26T15:47:58.358Z"
   },
   {
    "duration": 8,
    "start_time": "2022-09-26T15:48:06.160Z"
   },
   {
    "duration": 10,
    "start_time": "2022-09-26T15:49:35.788Z"
   },
   {
    "duration": 11,
    "start_time": "2022-09-26T15:49:39.974Z"
   },
   {
    "duration": 10,
    "start_time": "2022-09-26T15:50:08.075Z"
   },
   {
    "duration": 9,
    "start_time": "2022-09-26T15:50:14.835Z"
   },
   {
    "duration": 9,
    "start_time": "2022-09-26T15:50:22.210Z"
   },
   {
    "duration": 14,
    "start_time": "2022-09-26T15:50:22.221Z"
   },
   {
    "duration": 9,
    "start_time": "2022-09-26T15:50:26.012Z"
   },
   {
    "duration": 12,
    "start_time": "2022-09-26T15:50:28.865Z"
   },
   {
    "duration": 10,
    "start_time": "2022-09-26T15:51:05.078Z"
   },
   {
    "duration": 9,
    "start_time": "2022-09-26T15:51:05.548Z"
   },
   {
    "duration": 6,
    "start_time": "2022-09-26T15:51:05.634Z"
   },
   {
    "duration": 140,
    "start_time": "2022-09-26T15:51:06.895Z"
   },
   {
    "duration": 3,
    "start_time": "2022-09-26T15:51:16.919Z"
   },
   {
    "duration": 116,
    "start_time": "2022-09-26T15:51:17.110Z"
   },
   {
    "duration": 27,
    "start_time": "2022-09-26T15:51:17.645Z"
   },
   {
    "duration": 25,
    "start_time": "2022-09-26T15:51:17.824Z"
   },
   {
    "duration": 78,
    "start_time": "2022-09-26T15:51:17.989Z"
   },
   {
    "duration": 15,
    "start_time": "2022-09-26T15:51:18.167Z"
   },
   {
    "duration": 23,
    "start_time": "2022-09-26T15:51:18.345Z"
   },
   {
    "duration": 2135,
    "start_time": "2022-09-26T15:51:19.033Z"
   },
   {
    "duration": 5,
    "start_time": "2022-09-26T15:51:21.170Z"
   },
   {
    "duration": 19,
    "start_time": "2022-09-26T15:51:21.176Z"
   },
   {
    "duration": 24,
    "start_time": "2022-09-26T15:51:21.197Z"
   },
   {
    "duration": 22,
    "start_time": "2022-09-26T15:51:21.223Z"
   },
   {
    "duration": 19,
    "start_time": "2022-09-26T15:51:21.247Z"
   },
   {
    "duration": 42,
    "start_time": "2022-09-26T15:51:21.268Z"
   },
   {
    "duration": 34,
    "start_time": "2022-09-26T15:51:21.312Z"
   },
   {
    "duration": 43,
    "start_time": "2022-09-26T15:51:21.348Z"
   },
   {
    "duration": 10,
    "start_time": "2022-09-26T15:51:21.507Z"
   },
   {
    "duration": 72,
    "start_time": "2022-09-26T15:51:21.692Z"
   },
   {
    "duration": 6,
    "start_time": "2022-09-26T15:51:21.831Z"
   },
   {
    "duration": 13,
    "start_time": "2022-09-26T15:51:22.002Z"
   },
   {
    "duration": 6,
    "start_time": "2022-09-26T15:51:22.358Z"
   },
   {
    "duration": 20,
    "start_time": "2022-09-26T15:51:22.537Z"
   },
   {
    "duration": 5,
    "start_time": "2022-09-26T15:51:22.900Z"
   },
   {
    "duration": 4,
    "start_time": "2022-09-26T15:51:23.085Z"
   },
   {
    "duration": 22,
    "start_time": "2022-09-26T15:51:23.264Z"
   },
   {
    "duration": 36,
    "start_time": "2022-09-26T15:51:23.811Z"
   },
   {
    "duration": 9,
    "start_time": "2022-09-26T15:51:24.003Z"
   },
   {
    "duration": 25,
    "start_time": "2022-09-26T15:51:24.193Z"
   },
   {
    "duration": 36,
    "start_time": "2022-09-26T15:51:24.385Z"
   },
   {
    "duration": 15,
    "start_time": "2022-09-26T15:51:24.563Z"
   },
   {
    "duration": 323,
    "start_time": "2022-09-26T15:51:24.742Z"
   },
   {
    "duration": 28,
    "start_time": "2022-09-26T15:51:25.067Z"
   },
   {
    "duration": 14,
    "start_time": "2022-09-26T15:51:25.136Z"
   },
   {
    "duration": 106,
    "start_time": "2022-09-26T15:51:25.521Z"
   },
   {
    "duration": 26,
    "start_time": "2022-09-26T15:51:25.724Z"
   },
   {
    "duration": 187,
    "start_time": "2022-09-26T15:51:26.207Z"
   },
   {
    "duration": 5,
    "start_time": "2022-09-26T15:51:26.446Z"
   },
   {
    "duration": 4,
    "start_time": "2022-09-26T15:51:27.328Z"
   },
   {
    "duration": 8,
    "start_time": "2022-09-26T15:51:27.926Z"
   },
   {
    "duration": 154,
    "start_time": "2022-09-26T15:51:28.246Z"
   },
   {
    "duration": 27,
    "start_time": "2022-09-26T15:51:28.806Z"
   },
   {
    "duration": 152,
    "start_time": "2022-09-26T15:51:29.177Z"
   },
   {
    "duration": 16,
    "start_time": "2022-09-26T15:51:29.583Z"
   },
   {
    "duration": 10,
    "start_time": "2022-09-26T15:51:30.219Z"
   },
   {
    "duration": 149,
    "start_time": "2022-09-26T15:51:30.768Z"
   },
   {
    "duration": 166,
    "start_time": "2022-09-26T15:51:31.278Z"
   },
   {
    "duration": 13,
    "start_time": "2022-09-26T15:51:32.564Z"
   },
   {
    "duration": 149,
    "start_time": "2022-09-26T15:51:33.755Z"
   },
   {
    "duration": 143,
    "start_time": "2022-09-26T15:51:34.934Z"
   },
   {
    "duration": 13,
    "start_time": "2022-09-26T15:51:35.833Z"
   },
   {
    "duration": 12,
    "start_time": "2022-09-26T15:51:37.825Z"
   },
   {
    "duration": 131,
    "start_time": "2022-09-26T15:51:38.642Z"
   },
   {
    "duration": 136,
    "start_time": "2022-09-26T15:51:44.174Z"
   },
   {
    "duration": 10,
    "start_time": "2022-09-26T15:51:49.337Z"
   },
   {
    "duration": 8,
    "start_time": "2022-09-26T15:51:50.363Z"
   },
   {
    "duration": 11,
    "start_time": "2022-09-26T15:52:02.430Z"
   },
   {
    "duration": 10,
    "start_time": "2022-09-26T15:52:03.322Z"
   },
   {
    "duration": 11,
    "start_time": "2022-09-26T15:52:13.463Z"
   },
   {
    "duration": 9,
    "start_time": "2022-09-26T15:52:14.272Z"
   },
   {
    "duration": 102,
    "start_time": "2022-09-26T15:59:02.153Z"
   },
   {
    "duration": 5,
    "start_time": "2022-09-26T15:59:32.942Z"
   },
   {
    "duration": 718,
    "start_time": "2022-09-26T16:00:31.246Z"
   },
   {
    "duration": 127,
    "start_time": "2022-09-26T16:00:31.966Z"
   },
   {
    "duration": 33,
    "start_time": "2022-09-26T16:00:32.095Z"
   },
   {
    "duration": 28,
    "start_time": "2022-09-26T16:00:32.130Z"
   },
   {
    "duration": 93,
    "start_time": "2022-09-26T16:00:32.160Z"
   },
   {
    "duration": 16,
    "start_time": "2022-09-26T16:00:32.255Z"
   },
   {
    "duration": 24,
    "start_time": "2022-09-26T16:00:32.273Z"
   },
   {
    "duration": 2072,
    "start_time": "2022-09-26T16:00:32.299Z"
   },
   {
    "duration": 5,
    "start_time": "2022-09-26T16:00:34.372Z"
   },
   {
    "duration": 14,
    "start_time": "2022-09-26T16:00:34.380Z"
   },
   {
    "duration": 20,
    "start_time": "2022-09-26T16:00:34.396Z"
   },
   {
    "duration": 12,
    "start_time": "2022-09-26T16:00:34.418Z"
   },
   {
    "duration": 23,
    "start_time": "2022-09-26T16:00:34.432Z"
   },
   {
    "duration": 39,
    "start_time": "2022-09-26T16:00:34.457Z"
   },
   {
    "duration": 19,
    "start_time": "2022-09-26T16:00:34.498Z"
   },
   {
    "duration": 29,
    "start_time": "2022-09-26T16:00:34.519Z"
   },
   {
    "duration": 14,
    "start_time": "2022-09-26T16:00:34.550Z"
   },
   {
    "duration": 90,
    "start_time": "2022-09-26T16:00:34.566Z"
   },
   {
    "duration": 6,
    "start_time": "2022-09-26T16:00:34.658Z"
   },
   {
    "duration": 28,
    "start_time": "2022-09-26T16:00:34.666Z"
   },
   {
    "duration": 16,
    "start_time": "2022-09-26T16:00:34.696Z"
   },
   {
    "duration": 38,
    "start_time": "2022-09-26T16:00:34.714Z"
   },
   {
    "duration": 27,
    "start_time": "2022-09-26T16:00:34.753Z"
   },
   {
    "duration": 15,
    "start_time": "2022-09-26T16:00:34.782Z"
   },
   {
    "duration": 31,
    "start_time": "2022-09-26T16:00:34.799Z"
   },
   {
    "duration": 46,
    "start_time": "2022-09-26T16:00:34.832Z"
   },
   {
    "duration": 9,
    "start_time": "2022-09-26T16:00:34.880Z"
   },
   {
    "duration": 31,
    "start_time": "2022-09-26T16:00:34.894Z"
   },
   {
    "duration": 40,
    "start_time": "2022-09-26T16:00:34.927Z"
   },
   {
    "duration": 15,
    "start_time": "2022-09-26T16:00:34.969Z"
   },
   {
    "duration": 361,
    "start_time": "2022-09-26T16:00:34.986Z"
   },
   {
    "duration": 30,
    "start_time": "2022-09-26T16:00:35.349Z"
   },
   {
    "duration": 13,
    "start_time": "2022-09-26T16:00:35.381Z"
   },
   {
    "duration": 122,
    "start_time": "2022-09-26T16:00:35.396Z"
   },
   {
    "duration": 26,
    "start_time": "2022-09-26T16:00:35.521Z"
   },
   {
    "duration": 184,
    "start_time": "2022-09-26T16:00:35.549Z"
   },
   {
    "duration": 110,
    "start_time": "2022-09-26T16:00:35.735Z"
   },
   {
    "duration": 5,
    "start_time": "2022-09-26T16:00:35.847Z"
   },
   {
    "duration": 9,
    "start_time": "2022-09-26T16:00:35.854Z"
   },
   {
    "duration": 7,
    "start_time": "2022-09-26T16:00:35.865Z"
   },
   {
    "duration": 7,
    "start_time": "2022-09-26T16:00:35.875Z"
   },
   {
    "duration": 10,
    "start_time": "2022-09-26T16:00:35.884Z"
   },
   {
    "duration": 205,
    "start_time": "2022-09-26T16:00:35.896Z"
   },
   {
    "duration": 34,
    "start_time": "2022-09-26T16:00:36.103Z"
   },
   {
    "duration": 256,
    "start_time": "2022-09-26T16:00:36.139Z"
   },
   {
    "duration": 12,
    "start_time": "2022-09-26T16:00:36.396Z"
   },
   {
    "duration": 9,
    "start_time": "2022-09-26T16:00:36.420Z"
   },
   {
    "duration": 162,
    "start_time": "2022-09-26T16:00:36.431Z"
   },
   {
    "duration": 162,
    "start_time": "2022-09-26T16:00:36.595Z"
   },
   {
    "duration": 13,
    "start_time": "2022-09-26T16:00:36.759Z"
   },
   {
    "duration": 169,
    "start_time": "2022-09-26T16:00:36.774Z"
   },
   {
    "duration": 154,
    "start_time": "2022-09-26T16:00:36.945Z"
   },
   {
    "duration": 20,
    "start_time": "2022-09-26T16:00:37.101Z"
   },
   {
    "duration": 10,
    "start_time": "2022-09-26T16:00:37.123Z"
   },
   {
    "duration": 152,
    "start_time": "2022-09-26T16:00:37.135Z"
   },
   {
    "duration": 155,
    "start_time": "2022-09-26T16:00:37.289Z"
   },
   {
    "duration": 11,
    "start_time": "2022-09-26T16:00:37.445Z"
   },
   {
    "duration": 10,
    "start_time": "2022-09-26T16:00:37.457Z"
   },
   {
    "duration": 7,
    "start_time": "2022-09-26T16:00:37.469Z"
   },
   {
    "duration": 165,
    "start_time": "2022-09-26T16:00:37.477Z"
   },
   {
    "duration": 150,
    "start_time": "2022-09-26T16:00:37.644Z"
   },
   {
    "duration": 11,
    "start_time": "2022-09-26T16:00:37.796Z"
   },
   {
    "duration": 10,
    "start_time": "2022-09-26T16:00:37.821Z"
   },
   {
    "duration": 34,
    "start_time": "2022-09-26T16:00:37.833Z"
   },
   {
    "duration": 107,
    "start_time": "2022-09-26T16:00:37.868Z"
   },
   {
    "duration": 402,
    "start_time": "2022-09-26T16:00:37.977Z"
   },
   {
    "duration": 511,
    "start_time": "2022-09-26T16:00:38.380Z"
   },
   {
    "duration": 6,
    "start_time": "2022-09-26T16:00:38.893Z"
   },
   {
    "duration": 337,
    "start_time": "2022-09-26T16:00:38.901Z"
   },
   {
    "duration": 206,
    "start_time": "2022-09-26T16:00:39.240Z"
   },
   {
    "duration": 259,
    "start_time": "2022-09-26T16:00:39.448Z"
   },
   {
    "duration": 179,
    "start_time": "2022-09-26T16:00:39.708Z"
   },
   {
    "duration": 252,
    "start_time": "2022-09-26T16:00:39.889Z"
   },
   {
    "duration": 237,
    "start_time": "2022-09-26T16:00:40.143Z"
   },
   {
    "duration": 198,
    "start_time": "2022-09-26T16:00:40.382Z"
   },
   {
    "duration": 207,
    "start_time": "2022-09-26T16:00:40.582Z"
   },
   {
    "duration": 180,
    "start_time": "2022-09-26T16:00:40.791Z"
   },
   {
    "duration": 222,
    "start_time": "2022-09-26T16:00:40.973Z"
   },
   {
    "duration": 254,
    "start_time": "2022-09-26T16:00:41.197Z"
   },
   {
    "duration": 230,
    "start_time": "2022-09-26T16:00:41.453Z"
   },
   {
    "duration": 6,
    "start_time": "2022-09-26T16:00:41.685Z"
   },
   {
    "duration": 169,
    "start_time": "2022-09-26T16:00:41.697Z"
   },
   {
    "duration": 74,
    "start_time": "2022-09-26T16:00:41.867Z"
   },
   {
    "duration": 17,
    "start_time": "2022-09-26T16:00:41.943Z"
   },
   {
    "duration": 268,
    "start_time": "2022-09-26T16:00:41.962Z"
   },
   {
    "duration": 19,
    "start_time": "2022-09-26T16:00:42.232Z"
   },
   {
    "duration": 196,
    "start_time": "2022-09-26T16:00:42.253Z"
   },
   {
    "duration": 464,
    "start_time": "2022-09-26T16:00:42.450Z"
   },
   {
    "duration": 243,
    "start_time": "2022-09-26T16:00:42.916Z"
   },
   {
    "duration": 10,
    "start_time": "2022-09-26T16:00:43.160Z"
   },
   {
    "duration": 19,
    "start_time": "2022-09-26T16:00:43.172Z"
   },
   {
    "duration": 217,
    "start_time": "2022-09-26T16:00:43.192Z"
   },
   {
    "duration": 16,
    "start_time": "2022-09-26T16:00:43.411Z"
   },
   {
    "duration": 21,
    "start_time": "2022-09-26T16:00:43.429Z"
   },
   {
    "duration": 179,
    "start_time": "2022-09-26T16:00:43.452Z"
   },
   {
    "duration": 36,
    "start_time": "2022-09-26T16:00:43.633Z"
   },
   {
    "duration": 15,
    "start_time": "2022-09-26T16:00:43.671Z"
   },
   {
    "duration": 18,
    "start_time": "2022-09-26T16:00:43.687Z"
   },
   {
    "duration": 5,
    "start_time": "2022-09-26T16:00:43.721Z"
   },
   {
    "duration": 9,
    "start_time": "2022-09-26T16:00:43.727Z"
   },
   {
    "duration": 12,
    "start_time": "2022-09-26T16:00:43.738Z"
   },
   {
    "duration": 34,
    "start_time": "2022-09-26T16:00:43.751Z"
   },
   {
    "duration": 63,
    "start_time": "2022-09-26T16:02:33.522Z"
   },
   {
    "duration": 667,
    "start_time": "2022-09-26T16:54:08.005Z"
   },
   {
    "duration": 129,
    "start_time": "2022-09-26T16:54:08.674Z"
   },
   {
    "duration": 28,
    "start_time": "2022-09-26T16:54:08.804Z"
   },
   {
    "duration": 32,
    "start_time": "2022-09-26T16:54:08.834Z"
   },
   {
    "duration": 96,
    "start_time": "2022-09-26T16:54:08.869Z"
   },
   {
    "duration": 15,
    "start_time": "2022-09-26T16:54:08.967Z"
   },
   {
    "duration": 26,
    "start_time": "2022-09-26T16:54:08.996Z"
   },
   {
    "duration": 2060,
    "start_time": "2022-09-26T16:54:09.024Z"
   },
   {
    "duration": 10,
    "start_time": "2022-09-26T16:54:11.086Z"
   },
   {
    "duration": 5,
    "start_time": "2022-09-26T16:54:11.098Z"
   },
   {
    "duration": 7,
    "start_time": "2022-09-26T16:54:11.105Z"
   },
   {
    "duration": 12,
    "start_time": "2022-09-26T16:54:11.114Z"
   },
   {
    "duration": 8,
    "start_time": "2022-09-26T16:54:11.128Z"
   },
   {
    "duration": 71,
    "start_time": "2022-09-26T16:54:11.140Z"
   },
   {
    "duration": 16,
    "start_time": "2022-09-26T16:54:11.213Z"
   },
   {
    "duration": 22,
    "start_time": "2022-09-26T16:54:11.231Z"
   },
   {
    "duration": 11,
    "start_time": "2022-09-26T16:54:11.255Z"
   },
   {
    "duration": 78,
    "start_time": "2022-09-26T16:54:11.268Z"
   },
   {
    "duration": 5,
    "start_time": "2022-09-26T16:54:11.347Z"
   },
   {
    "duration": 17,
    "start_time": "2022-09-26T16:54:11.354Z"
   },
   {
    "duration": 5,
    "start_time": "2022-09-26T16:54:11.372Z"
   },
   {
    "duration": 35,
    "start_time": "2022-09-26T16:54:11.379Z"
   },
   {
    "duration": 6,
    "start_time": "2022-09-26T16:54:11.416Z"
   },
   {
    "duration": 6,
    "start_time": "2022-09-26T16:54:11.424Z"
   },
   {
    "duration": 25,
    "start_time": "2022-09-26T16:54:11.431Z"
   },
   {
    "duration": 62,
    "start_time": "2022-09-26T16:54:11.458Z"
   },
   {
    "duration": 8,
    "start_time": "2022-09-26T16:54:11.521Z"
   },
   {
    "duration": 26,
    "start_time": "2022-09-26T16:54:11.531Z"
   },
   {
    "duration": 67,
    "start_time": "2022-09-26T16:54:11.558Z"
   },
   {
    "duration": 19,
    "start_time": "2022-09-26T16:54:11.627Z"
   },
   {
    "duration": 369,
    "start_time": "2022-09-26T16:54:11.648Z"
   },
   {
    "duration": 25,
    "start_time": "2022-09-26T16:54:12.019Z"
   },
   {
    "duration": 13,
    "start_time": "2022-09-26T16:54:12.046Z"
   },
   {
    "duration": 116,
    "start_time": "2022-09-26T16:54:12.061Z"
   },
   {
    "duration": 32,
    "start_time": "2022-09-26T16:54:12.178Z"
   },
   {
    "duration": 169,
    "start_time": "2022-09-26T16:54:12.211Z"
   },
   {
    "duration": 104,
    "start_time": "2022-09-26T16:54:12.382Z"
   },
   {
    "duration": 10,
    "start_time": "2022-09-26T16:54:12.488Z"
   },
   {
    "duration": 4,
    "start_time": "2022-09-26T16:54:12.499Z"
   },
   {
    "duration": 4,
    "start_time": "2022-09-26T16:54:12.504Z"
   },
   {
    "duration": 3,
    "start_time": "2022-09-26T16:54:12.513Z"
   },
   {
    "duration": 8,
    "start_time": "2022-09-26T16:54:12.518Z"
   },
   {
    "duration": 176,
    "start_time": "2022-09-26T16:54:12.528Z"
   },
   {
    "duration": 27,
    "start_time": "2022-09-26T16:54:12.706Z"
   },
   {
    "duration": 175,
    "start_time": "2022-09-26T16:54:12.734Z"
   },
   {
    "duration": 14,
    "start_time": "2022-09-26T16:54:12.911Z"
   },
   {
    "duration": 9,
    "start_time": "2022-09-26T16:54:12.926Z"
   },
   {
    "duration": 245,
    "start_time": "2022-09-26T16:54:12.936Z"
   },
   {
    "duration": 156,
    "start_time": "2022-09-26T16:54:13.182Z"
   },
   {
    "duration": 12,
    "start_time": "2022-09-26T16:54:13.340Z"
   },
   {
    "duration": 168,
    "start_time": "2022-09-26T16:54:13.354Z"
   },
   {
    "duration": 150,
    "start_time": "2022-09-26T16:54:13.524Z"
   },
   {
    "duration": 21,
    "start_time": "2022-09-26T16:54:13.675Z"
   },
   {
    "duration": 10,
    "start_time": "2022-09-26T16:54:13.697Z"
   },
   {
    "duration": 158,
    "start_time": "2022-09-26T16:54:13.708Z"
   },
   {
    "duration": 157,
    "start_time": "2022-09-26T16:54:13.868Z"
   },
   {
    "duration": 12,
    "start_time": "2022-09-26T16:54:14.027Z"
   },
   {
    "duration": 9,
    "start_time": "2022-09-26T16:54:14.040Z"
   },
   {
    "duration": 152,
    "start_time": "2022-09-26T16:54:14.051Z"
   },
   {
    "duration": 158,
    "start_time": "2022-09-26T16:54:14.206Z"
   },
   {
    "duration": 12,
    "start_time": "2022-09-26T16:54:14.366Z"
   },
   {
    "duration": 21,
    "start_time": "2022-09-26T16:54:14.379Z"
   },
   {
    "duration": 26,
    "start_time": "2022-09-26T16:54:14.402Z"
   },
   {
    "duration": 108,
    "start_time": "2022-09-26T16:54:14.430Z"
   },
   {
    "duration": 387,
    "start_time": "2022-09-26T16:54:14.539Z"
   },
   {
    "duration": 481,
    "start_time": "2022-09-26T16:54:14.927Z"
   },
   {
    "duration": 5,
    "start_time": "2022-09-26T16:54:15.410Z"
   },
   {
    "duration": 266,
    "start_time": "2022-09-26T16:54:15.416Z"
   },
   {
    "duration": 201,
    "start_time": "2022-09-26T16:54:15.684Z"
   },
   {
    "duration": 258,
    "start_time": "2022-09-26T16:54:15.887Z"
   },
   {
    "duration": 176,
    "start_time": "2022-09-26T16:54:16.146Z"
   },
   {
    "duration": 249,
    "start_time": "2022-09-26T16:54:16.323Z"
   },
   {
    "duration": 295,
    "start_time": "2022-09-26T16:54:16.573Z"
   },
   {
    "duration": 202,
    "start_time": "2022-09-26T16:54:16.871Z"
   },
   {
    "duration": 209,
    "start_time": "2022-09-26T16:54:17.075Z"
   },
   {
    "duration": 175,
    "start_time": "2022-09-26T16:54:17.286Z"
   },
   {
    "duration": 199,
    "start_time": "2022-09-26T16:54:17.463Z"
   },
   {
    "duration": 237,
    "start_time": "2022-09-26T16:54:17.664Z"
   },
   {
    "duration": 220,
    "start_time": "2022-09-26T16:54:17.904Z"
   },
   {
    "duration": 5,
    "start_time": "2022-09-26T16:54:18.127Z"
   },
   {
    "duration": 179,
    "start_time": "2022-09-26T16:54:18.134Z"
   },
   {
    "duration": 66,
    "start_time": "2022-09-26T16:54:18.315Z"
   },
   {
    "duration": 27,
    "start_time": "2022-09-26T16:54:18.382Z"
   },
   {
    "duration": 273,
    "start_time": "2022-09-26T16:54:18.411Z"
   },
   {
    "duration": 21,
    "start_time": "2022-09-26T16:54:18.686Z"
   },
   {
    "duration": 196,
    "start_time": "2022-09-26T16:54:18.709Z"
   },
   {
    "duration": 465,
    "start_time": "2022-09-26T16:54:18.907Z"
   },
   {
    "duration": 247,
    "start_time": "2022-09-26T16:54:19.374Z"
   },
   {
    "duration": 9,
    "start_time": "2022-09-26T16:54:19.623Z"
   },
   {
    "duration": 17,
    "start_time": "2022-09-26T16:54:19.633Z"
   },
   {
    "duration": 224,
    "start_time": "2022-09-26T16:54:19.651Z"
   },
   {
    "duration": 23,
    "start_time": "2022-09-26T16:54:19.876Z"
   },
   {
    "duration": 14,
    "start_time": "2022-09-26T16:54:19.901Z"
   },
   {
    "duration": 189,
    "start_time": "2022-09-26T16:54:19.917Z"
   },
   {
    "duration": 35,
    "start_time": "2022-09-26T16:54:20.108Z"
   },
   {
    "duration": 15,
    "start_time": "2022-09-26T16:54:20.145Z"
   },
   {
    "duration": 33,
    "start_time": "2022-09-26T16:54:20.162Z"
   },
   {
    "duration": 5,
    "start_time": "2022-09-26T16:54:20.197Z"
   },
   {
    "duration": 7,
    "start_time": "2022-09-26T16:54:20.203Z"
   },
   {
    "duration": 9,
    "start_time": "2022-09-26T16:54:20.211Z"
   },
   {
    "duration": 32,
    "start_time": "2022-09-26T16:54:20.221Z"
   },
   {
    "duration": 80,
    "start_time": "2022-09-26T16:57:02.015Z"
   },
   {
    "duration": 19,
    "start_time": "2022-09-26T16:57:05.302Z"
   },
   {
    "duration": 99,
    "start_time": "2022-09-26T16:57:08.869Z"
   }
  ],
  "kernelspec": {
   "display_name": "Python 3 (ipykernel)",
   "language": "python",
   "name": "python3"
  },
  "language_info": {
   "codemirror_mode": {
    "name": "ipython",
    "version": 3
   },
   "file_extension": ".py",
   "mimetype": "text/x-python",
   "name": "python",
   "nbconvert_exporter": "python",
   "pygments_lexer": "ipython3",
   "version": "3.9.13"
  },
  "toc": {
   "base_numbering": 1,
   "nav_menu": {},
   "number_sections": true,
   "sideBar": true,
   "skip_h1_title": true,
   "title_cell": "Table of Contents",
   "title_sidebar": "Contents",
   "toc_cell": false,
   "toc_position": {},
   "toc_section_display": true,
   "toc_window_display": false
  }
 },
 "nbformat": 4,
 "nbformat_minor": 2
}
